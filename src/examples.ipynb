{
 "cells": [
  {
   "cell_type": "markdown",
   "id": "f1daf871-b0d7-4abc-9dec-db4a64fe3088",
   "metadata": {},
   "source": [
    "# EasyMLP: Some Simple Examples"
   ]
  },
  {
   "cell_type": "markdown",
   "id": "cc0d1f96-7cde-4e8e-93e1-232878d56ab3",
   "metadata": {},
   "source": [
    "## Imports"
   ]
  },
  {
   "cell_type": "code",
   "execution_count": 1,
   "id": "c7aa6eae-b7b7-40d9-a61d-c896b895198c",
   "metadata": {},
   "outputs": [],
   "source": [
    "import sys\n",
    "sys.path.append(\".\")\n",
    "from easy_mlp.models import MLP\n",
    "from easy_mlp.trainers import MLPTrainer\n",
    "from easy_mlp.data import get_tensors, get_data_loaders\n",
    "from easy_mlp.helpers import get_loss_fn, get_optimiser, param_init\n",
    "\n",
    "import torch\n",
    "import numpy as np\n",
    "import pretty_plotly.plot as pp\n",
    "from sklearn.datasets import load_iris, load_breast_cancer, fetch_california_housing, make_classification, make_regression\n",
    "from sklearn.model_selection import train_test_split"
   ]
  },
  {
   "cell_type": "markdown",
   "id": "629e5cae-621c-44ac-b3bf-b9d34f3c56b3",
   "metadata": {},
   "source": [
    "## Set Device"
   ]
  },
  {
   "cell_type": "code",
   "execution_count": 2,
   "id": "95cd892d-a33a-4827-8835-0cb227f6083f",
   "metadata": {},
   "outputs": [
    {
     "data": {
      "text/plain": [
       "device(type='mps')"
      ]
     },
     "execution_count": 2,
     "metadata": {},
     "output_type": "execute_result"
    }
   ],
   "source": [
    "if torch.cuda.is_available():\n",
    "    device = torch.device(\"cuda\")\n",
    "elif torch.backends.mps.is_available():\n",
    "    device = torch.device(\"mps\")\n",
    "else:\n",
    "    device = torch.device(\"cpu\")\n",
    "\n",
    "device"
   ]
  },
  {
   "cell_type": "markdown",
   "id": "174b2cd4-cd17-4309-8fcc-b8aa3df6683e",
   "metadata": {},
   "source": [
    "## Regression"
   ]
  },
  {
   "cell_type": "markdown",
   "id": "3759f3be-880a-41fc-9c9d-4679d1004048",
   "metadata": {},
   "source": [
    "### Data Loading and Preprocessing"
   ]
  },
  {
   "cell_type": "code",
   "execution_count": 3,
   "id": "6c9d22a4-df6d-42ec-b56e-6d71ae6afe98",
   "metadata": {},
   "outputs": [
    {
     "data": {
      "application/vnd.plotly.v1+json": {
       "config": {
        "plotlyServerURL": "https://plot.ly"
       },
       "data": [
        {
         "mode": "markers",
         "name": "",
         "text": "",
         "type": "scatter",
         "x": {
          "bdata": "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",
          "dtype": "i2"
         },
         "y": {
          "bdata": "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",
          "dtype": "f8"
         }
        }
       ],
       "layout": {
        "template": {
         "data": {
          "bar": [
           {
            "error_x": {
             "color": "#2a3f5f"
            },
            "error_y": {
             "color": "#2a3f5f"
            },
            "marker": {
             "line": {
              "color": "#E5ECF6",
              "width": 0.5
             },
             "pattern": {
              "fillmode": "overlay",
              "size": 10,
              "solidity": 0.2
             }
            },
            "type": "bar"
           }
          ],
          "barpolar": [
           {
            "marker": {
             "line": {
              "color": "#E5ECF6",
              "width": 0.5
             },
             "pattern": {
              "fillmode": "overlay",
              "size": 10,
              "solidity": 0.2
             }
            },
            "type": "barpolar"
           }
          ],
          "carpet": [
           {
            "aaxis": {
             "endlinecolor": "#2a3f5f",
             "gridcolor": "white",
             "linecolor": "white",
             "minorgridcolor": "white",
             "startlinecolor": "#2a3f5f"
            },
            "baxis": {
             "endlinecolor": "#2a3f5f",
             "gridcolor": "white",
             "linecolor": "white",
             "minorgridcolor": "white",
             "startlinecolor": "#2a3f5f"
            },
            "type": "carpet"
           }
          ],
          "choropleth": [
           {
            "colorbar": {
             "outlinewidth": 0,
             "ticks": ""
            },
            "type": "choropleth"
           }
          ],
          "contour": [
           {
            "colorbar": {
             "outlinewidth": 0,
             "ticks": ""
            },
            "colorscale": [
             [
              0,
              "#0d0887"
             ],
             [
              0.1111111111111111,
              "#46039f"
             ],
             [
              0.2222222222222222,
              "#7201a8"
             ],
             [
              0.3333333333333333,
              "#9c179e"
             ],
             [
              0.4444444444444444,
              "#bd3786"
             ],
             [
              0.5555555555555556,
              "#d8576b"
             ],
             [
              0.6666666666666666,
              "#ed7953"
             ],
             [
              0.7777777777777778,
              "#fb9f3a"
             ],
             [
              0.8888888888888888,
              "#fdca26"
             ],
             [
              1,
              "#f0f921"
             ]
            ],
            "type": "contour"
           }
          ],
          "contourcarpet": [
           {
            "colorbar": {
             "outlinewidth": 0,
             "ticks": ""
            },
            "type": "contourcarpet"
           }
          ],
          "heatmap": [
           {
            "colorbar": {
             "outlinewidth": 0,
             "ticks": ""
            },
            "colorscale": [
             [
              0,
              "#0d0887"
             ],
             [
              0.1111111111111111,
              "#46039f"
             ],
             [
              0.2222222222222222,
              "#7201a8"
             ],
             [
              0.3333333333333333,
              "#9c179e"
             ],
             [
              0.4444444444444444,
              "#bd3786"
             ],
             [
              0.5555555555555556,
              "#d8576b"
             ],
             [
              0.6666666666666666,
              "#ed7953"
             ],
             [
              0.7777777777777778,
              "#fb9f3a"
             ],
             [
              0.8888888888888888,
              "#fdca26"
             ],
             [
              1,
              "#f0f921"
             ]
            ],
            "type": "heatmap"
           }
          ],
          "histogram": [
           {
            "marker": {
             "pattern": {
              "fillmode": "overlay",
              "size": 10,
              "solidity": 0.2
             }
            },
            "type": "histogram"
           }
          ],
          "histogram2d": [
           {
            "colorbar": {
             "outlinewidth": 0,
             "ticks": ""
            },
            "colorscale": [
             [
              0,
              "#0d0887"
             ],
             [
              0.1111111111111111,
              "#46039f"
             ],
             [
              0.2222222222222222,
              "#7201a8"
             ],
             [
              0.3333333333333333,
              "#9c179e"
             ],
             [
              0.4444444444444444,
              "#bd3786"
             ],
             [
              0.5555555555555556,
              "#d8576b"
             ],
             [
              0.6666666666666666,
              "#ed7953"
             ],
             [
              0.7777777777777778,
              "#fb9f3a"
             ],
             [
              0.8888888888888888,
              "#fdca26"
             ],
             [
              1,
              "#f0f921"
             ]
            ],
            "type": "histogram2d"
           }
          ],
          "histogram2dcontour": [
           {
            "colorbar": {
             "outlinewidth": 0,
             "ticks": ""
            },
            "colorscale": [
             [
              0,
              "#0d0887"
             ],
             [
              0.1111111111111111,
              "#46039f"
             ],
             [
              0.2222222222222222,
              "#7201a8"
             ],
             [
              0.3333333333333333,
              "#9c179e"
             ],
             [
              0.4444444444444444,
              "#bd3786"
             ],
             [
              0.5555555555555556,
              "#d8576b"
             ],
             [
              0.6666666666666666,
              "#ed7953"
             ],
             [
              0.7777777777777778,
              "#fb9f3a"
             ],
             [
              0.8888888888888888,
              "#fdca26"
             ],
             [
              1,
              "#f0f921"
             ]
            ],
            "type": "histogram2dcontour"
           }
          ],
          "mesh3d": [
           {
            "colorbar": {
             "outlinewidth": 0,
             "ticks": ""
            },
            "type": "mesh3d"
           }
          ],
          "parcoords": [
           {
            "line": {
             "colorbar": {
              "outlinewidth": 0,
              "ticks": ""
             }
            },
            "type": "parcoords"
           }
          ],
          "pie": [
           {
            "automargin": true,
            "type": "pie"
           }
          ],
          "scatter": [
           {
            "fillpattern": {
             "fillmode": "overlay",
             "size": 10,
             "solidity": 0.2
            },
            "type": "scatter"
           }
          ],
          "scatter3d": [
           {
            "line": {
             "colorbar": {
              "outlinewidth": 0,
              "ticks": ""
             }
            },
            "marker": {
             "colorbar": {
              "outlinewidth": 0,
              "ticks": ""
             }
            },
            "type": "scatter3d"
           }
          ],
          "scattercarpet": [
           {
            "marker": {
             "colorbar": {
              "outlinewidth": 0,
              "ticks": ""
             }
            },
            "type": "scattercarpet"
           }
          ],
          "scattergeo": [
           {
            "marker": {
             "colorbar": {
              "outlinewidth": 0,
              "ticks": ""
             }
            },
            "type": "scattergeo"
           }
          ],
          "scattergl": [
           {
            "marker": {
             "colorbar": {
              "outlinewidth": 0,
              "ticks": ""
             }
            },
            "type": "scattergl"
           }
          ],
          "scattermap": [
           {
            "marker": {
             "colorbar": {
              "outlinewidth": 0,
              "ticks": ""
             }
            },
            "type": "scattermap"
           }
          ],
          "scattermapbox": [
           {
            "marker": {
             "colorbar": {
              "outlinewidth": 0,
              "ticks": ""
             }
            },
            "type": "scattermapbox"
           }
          ],
          "scatterpolar": [
           {
            "marker": {
             "colorbar": {
              "outlinewidth": 0,
              "ticks": ""
             }
            },
            "type": "scatterpolar"
           }
          ],
          "scatterpolargl": [
           {
            "marker": {
             "colorbar": {
              "outlinewidth": 0,
              "ticks": ""
             }
            },
            "type": "scatterpolargl"
           }
          ],
          "scatterternary": [
           {
            "marker": {
             "colorbar": {
              "outlinewidth": 0,
              "ticks": ""
             }
            },
            "type": "scatterternary"
           }
          ],
          "surface": [
           {
            "colorbar": {
             "outlinewidth": 0,
             "ticks": ""
            },
            "colorscale": [
             [
              0,
              "#0d0887"
             ],
             [
              0.1111111111111111,
              "#46039f"
             ],
             [
              0.2222222222222222,
              "#7201a8"
             ],
             [
              0.3333333333333333,
              "#9c179e"
             ],
             [
              0.4444444444444444,
              "#bd3786"
             ],
             [
              0.5555555555555556,
              "#d8576b"
             ],
             [
              0.6666666666666666,
              "#ed7953"
             ],
             [
              0.7777777777777778,
              "#fb9f3a"
             ],
             [
              0.8888888888888888,
              "#fdca26"
             ],
             [
              1,
              "#f0f921"
             ]
            ],
            "type": "surface"
           }
          ],
          "table": [
           {
            "cells": {
             "fill": {
              "color": "#EBF0F8"
             },
             "line": {
              "color": "white"
             }
            },
            "header": {
             "fill": {
              "color": "#C8D4E3"
             },
             "line": {
              "color": "white"
             }
            },
            "type": "table"
           }
          ]
         },
         "layout": {
          "annotationdefaults": {
           "arrowcolor": "#2a3f5f",
           "arrowhead": 0,
           "arrowwidth": 1
          },
          "autotypenumbers": "strict",
          "coloraxis": {
           "colorbar": {
            "outlinewidth": 0,
            "ticks": ""
           }
          },
          "colorscale": {
           "diverging": [
            [
             0,
             "#8e0152"
            ],
            [
             0.1,
             "#c51b7d"
            ],
            [
             0.2,
             "#de77ae"
            ],
            [
             0.3,
             "#f1b6da"
            ],
            [
             0.4,
             "#fde0ef"
            ],
            [
             0.5,
             "#f7f7f7"
            ],
            [
             0.6,
             "#e6f5d0"
            ],
            [
             0.7,
             "#b8e186"
            ],
            [
             0.8,
             "#7fbc41"
            ],
            [
             0.9,
             "#4d9221"
            ],
            [
             1,
             "#276419"
            ]
           ],
           "sequential": [
            [
             0,
             "#0d0887"
            ],
            [
             0.1111111111111111,
             "#46039f"
            ],
            [
             0.2222222222222222,
             "#7201a8"
            ],
            [
             0.3333333333333333,
             "#9c179e"
            ],
            [
             0.4444444444444444,
             "#bd3786"
            ],
            [
             0.5555555555555556,
             "#d8576b"
            ],
            [
             0.6666666666666666,
             "#ed7953"
            ],
            [
             0.7777777777777778,
             "#fb9f3a"
            ],
            [
             0.8888888888888888,
             "#fdca26"
            ],
            [
             1,
             "#f0f921"
            ]
           ],
           "sequentialminus": [
            [
             0,
             "#0d0887"
            ],
            [
             0.1111111111111111,
             "#46039f"
            ],
            [
             0.2222222222222222,
             "#7201a8"
            ],
            [
             0.3333333333333333,
             "#9c179e"
            ],
            [
             0.4444444444444444,
             "#bd3786"
            ],
            [
             0.5555555555555556,
             "#d8576b"
            ],
            [
             0.6666666666666666,
             "#ed7953"
            ],
            [
             0.7777777777777778,
             "#fb9f3a"
            ],
            [
             0.8888888888888888,
             "#fdca26"
            ],
            [
             1,
             "#f0f921"
            ]
           ]
          },
          "colorway": [
           "#636efa",
           "#EF553B",
           "#00cc96",
           "#ab63fa",
           "#FFA15A",
           "#19d3f3",
           "#FF6692",
           "#B6E880",
           "#FF97FF",
           "#FECB52"
          ],
          "font": {
           "color": "#2a3f5f"
          },
          "geo": {
           "bgcolor": "white",
           "lakecolor": "white",
           "landcolor": "#E5ECF6",
           "showlakes": true,
           "showland": true,
           "subunitcolor": "white"
          },
          "hoverlabel": {
           "align": "left"
          },
          "hovermode": "closest",
          "mapbox": {
           "style": "light"
          },
          "paper_bgcolor": "white",
          "plot_bgcolor": "#E5ECF6",
          "polar": {
           "angularaxis": {
            "gridcolor": "white",
            "linecolor": "white",
            "ticks": ""
           },
           "bgcolor": "#E5ECF6",
           "radialaxis": {
            "gridcolor": "white",
            "linecolor": "white",
            "ticks": ""
           }
          },
          "scene": {
           "xaxis": {
            "backgroundcolor": "#E5ECF6",
            "gridcolor": "white",
            "gridwidth": 2,
            "linecolor": "white",
            "showbackground": true,
            "ticks": "",
            "zerolinecolor": "white"
           },
           "yaxis": {
            "backgroundcolor": "#E5ECF6",
            "gridcolor": "white",
            "gridwidth": 2,
            "linecolor": "white",
            "showbackground": true,
            "ticks": "",
            "zerolinecolor": "white"
           },
           "zaxis": {
            "backgroundcolor": "#E5ECF6",
            "gridcolor": "white",
            "gridwidth": 2,
            "linecolor": "white",
            "showbackground": true,
            "ticks": "",
            "zerolinecolor": "white"
           }
          },
          "shapedefaults": {
           "line": {
            "color": "#2a3f5f"
           }
          },
          "ternary": {
           "aaxis": {
            "gridcolor": "white",
            "linecolor": "white",
            "ticks": ""
           },
           "baxis": {
            "gridcolor": "white",
            "linecolor": "white",
            "ticks": ""
           },
           "bgcolor": "#E5ECF6",
           "caxis": {
            "gridcolor": "white",
            "linecolor": "white",
            "ticks": ""
           }
          },
          "title": {
           "x": 0.05
          },
          "xaxis": {
           "automargin": true,
           "gridcolor": "white",
           "linecolor": "white",
           "ticks": "",
           "title": {
            "standoff": 15
           },
           "zerolinecolor": "white",
           "zerolinewidth": 2
          },
          "yaxis": {
           "automargin": true,
           "gridcolor": "white",
           "linecolor": "white",
           "ticks": "",
           "title": {
            "standoff": 15
           },
           "zerolinecolor": "white",
           "zerolinewidth": 2
          }
         }
        },
        "title": {
         "text": ""
        },
        "xaxis": {
         "title": {
          "text": "X"
         }
        },
        "yaxis": {
         "title": {
          "text": "y"
         }
        }
       }
      },
      "image/png": "[encoded data removed]"
     },
     "metadata": {},
     "output_type": "display_data"
    }
   ],
   "source": [
    "# # Get California Housing Data\n",
    "# X, y = fetch_california_housing(return_X_y=True)\n",
    "# x = np.arange(0, y.shape[0])\n",
    "# pp.plot_data(x, y, x_label=\"X\", y_label=\"y\")\n",
    "\n",
    "# Generate random data\n",
    "X, y = make_regression(n_samples=1000, n_features=100)\n",
    "x = np.arange(0, y.shape[0])\n",
    "pp.plot_data(x, y, x_label=\"X\", y_label=\"y\")"
   ]
  },
  {
   "cell_type": "code",
   "execution_count": 4,
   "id": "e44d1a47-5ca8-46aa-9f24-60f76256fb8f",
   "metadata": {},
   "outputs": [
    {
     "name": "stdout",
     "output_type": "stream",
     "text": [
      "X_train: (640, 100)\n",
      "y_train: (640,)\n",
      "X_val: (160, 100)\n",
      "y_val: (160,)\n",
      "X_test: (200, 100)\n",
      "y_test: (200,)\n"
     ]
    }
   ],
   "source": [
    "# Dataloading parameters\n",
    "batch_size = 8\n",
    "test_size = 0.2\n",
    "val_size = 0.2\n",
    "\n",
    "# Split the data\n",
    "X_train, X_test, y_train, y_test = train_test_split(X, y, test_size=test_size, random_state=42)\n",
    "X_train, X_val, y_train, y_val = train_test_split(X_train, y_train, test_size=val_size, random_state=42)\n",
    "\n",
    "print(f\"X_train: {X_train.shape}\")\n",
    "print(f\"y_train: {y_train.shape}\")\n",
    "print(f\"X_val: {X_val.shape}\")\n",
    "print(f\"y_val: {y_val.shape}\")\n",
    "print(f\"X_test: {X_test.shape}\")\n",
    "print(f\"y_test: {y_test.shape}\")"
   ]
  },
  {
   "cell_type": "code",
   "execution_count": 5,
   "id": "1faee360-af88-418a-be37-e4c31cfc0571",
   "metadata": {},
   "outputs": [],
   "source": [
    "# Get tensors and dataloaders\n",
    "X_train, y_train, X_val, y_val = get_tensors(X_train, y_train, X_val, y_val)\n",
    "train_loader, val_loader = get_data_loaders(X_train, y_train, X_val, y_val, batch_size)"
   ]
  },
  {
   "cell_type": "markdown",
   "id": "01100946-9172-4d7e-8741-e6279119800e",
   "metadata": {},
   "source": [
    "### Building the Model"
   ]
  },
  {
   "cell_type": "code",
   "execution_count": 6,
   "id": "a28d3077-4cd2-4a87-b1d0-075e1a418ece",
   "metadata": {},
   "outputs": [
    {
     "name": "stdout",
     "output_type": "stream",
     "text": [
      "MLP(\n",
      "  (model): ModuleList(\n",
      "    (0): Linear(in_features=100, out_features=200, bias=True)\n",
      "    (1): ReLU()\n",
      "    (2): Linear(in_features=200, out_features=300, bias=True)\n",
      "    (3): ReLU()\n",
      "    (4): Linear(in_features=300, out_features=400, bias=True)\n",
      "    (5): ReLU()\n",
      "    (6): Dropout(p=0.1, inplace=False)\n",
      "    (7): Linear(in_features=400, out_features=200, bias=True)\n",
      "    (8): ReLU()\n",
      "    (9): Linear(in_features=200, out_features=1, bias=True)\n",
      "  )\n",
      ")\n",
      "Number of trainable parameters: 281301\n"
     ]
    }
   ],
   "source": [
    "# Training parameters\n",
    "num_train_epochs = 10\n",
    "l_rate = 1e-03\n",
    "loss_choice = \"mse\"\n",
    "optim_choice = \"adam\"\n",
    "\n",
    "# Create configuration for model layers\n",
    "layer_config_1 = [ # a simple linear regression model (a perceptron with no activation)\n",
    "    (X_train.shape[1], None, None),\n",
    "    (1, None, None),\n",
    "]\n",
    "\n",
    "layer_config_2 = [ # a multi-layer perceptron\n",
    "    (X_train.shape[1], None, None),\n",
    "    (200, \"relu\", None),\n",
    "    (300, \"relu\", None),\n",
    "    (400, \"relu\", 0.1),\n",
    "    (200, \"relu\", None),\n",
    "    (1, None, None),\n",
    "]\n",
    "\n",
    "# Initialise model\n",
    "reg_model = MLP(layer_config=layer_config_2, model_name=\"RegModel\")\n",
    "reg_model.set_model_layers()\n",
    "\n",
    "# Initialise model parameters\n",
    "reg_model.apply(lambda m: param_init(m, \"xavier\"))\n",
    "\n",
    "# Move model to selected device\n",
    "reg_model.to(device)\n",
    "\n",
    "print(reg_model)\n",
    "print(f\"Number of trainable parameters: {sum(p.numel() for p in reg_model.parameters())}\")"
   ]
  },
  {
   "cell_type": "markdown",
   "id": "4a3e973b-c166-479b-ab79-551ce26d4d8c",
   "metadata": {},
   "source": [
    "### Training the Model"
   ]
  },
  {
   "cell_type": "markdown",
   "id": "4a0c16d2-b16b-454f-8bbf-5a7e71fc6849",
   "metadata": {},
   "source": [
    "#### Loss Function and Optimiser"
   ]
  },
  {
   "cell_type": "code",
   "execution_count": 7,
   "id": "077a736a-fe9e-4d58-84b4-3f103cd6284d",
   "metadata": {},
   "outputs": [],
   "source": [
    "loss_fn = get_loss_fn(loss_choice)  # Mean-square error loss because this a regression task\n",
    "optimiser = get_optimiser(optim_choice, reg_model, l_rate) # adam"
   ]
  },
  {
   "cell_type": "markdown",
   "id": "c57c118e-5dc3-4948-99a4-12623c04960f",
   "metadata": {},
   "source": [
    "#### Training Loop"
   ]
  },
  {
   "cell_type": "code",
   "execution_count": 8,
   "id": "bbf44215-2539-43b8-b0c3-69e3a82961c0",
   "metadata": {},
   "outputs": [
    {
     "name": "stdout",
     "output_type": "stream",
     "text": [
      "    |                       TRAINING SET                       ||                      VALIDATION SET                      |\n",
      "    |   Loss   ||   RMSE   ||   MSE    ||   MAE    ||    R2    ||   Loss   ||   RMSE   ||   MSE    ||   MAE    ||    R2    |\n",
      "001 | 2.15e+05 || 1.64e+02 || 2.69e+04 || 1.28e+02 || 2.72e-01 || 7.70e+03 || 8.77e+01 || 7.70e+03 || 6.98e+01 || 7.72e-01 |\n",
      "002 | 2.77e+04 || 5.89e+01 || 3.46e+03 || 4.55e+01 || 9.06e-01 || 2.85e+03 || 5.34e+01 || 2.85e+03 || 4.31e+01 || 9.15e-01 |\n",
      "003 | 8.17e+03 || 3.20e+01 || 1.02e+03 || 2.55e+01 || 9.72e-01 || 1.56e+03 || 3.95e+01 || 1.56e+03 || 3.20e+01 || 9.54e-01 |\n",
      "004 | 5.45e+03 || 2.61e+01 || 6.81e+02 || 2.05e+01 || 9.82e-01 || 1.53e+03 || 3.91e+01 || 1.53e+03 || 3.06e+01 || 9.55e-01 |\n",
      "005 | 3.24e+03 || 2.01e+01 || 4.06e+02 || 1.60e+01 || 9.89e-01 || 1.62e+03 || 4.03e+01 || 1.62e+03 || 3.21e+01 || 9.52e-01 |\n",
      "006 | 2.69e+03 || 1.83e+01 || 3.36e+02 || 1.43e+01 || 9.91e-01 || 1.30e+03 || 3.61e+01 || 1.30e+03 || 2.87e+01 || 9.61e-01 |\n",
      "007 | 2.09e+03 || 1.62e+01 || 2.61e+02 || 1.27e+01 || 9.93e-01 || 1.32e+03 || 3.63e+01 || 1.32e+03 || 2.90e+01 || 9.61e-01 |\n",
      "008 | 1.73e+03 || 1.47e+01 || 2.16e+02 || 1.15e+01 || 9.94e-01 || 1.32e+03 || 3.64e+01 || 1.32e+03 || 2.90e+01 || 9.61e-01 |\n",
      "009 | 1.98e+03 || 1.58e+01 || 2.48e+02 || 1.22e+01 || 9.93e-01 || 1.44e+03 || 3.79e+01 || 1.44e+03 || 3.01e+01 || 9.57e-01 |\n",
      "010 | 2.07e+03 || 1.61e+01 || 2.58e+02 || 1.27e+01 || 9.93e-01 || 1.23e+03 || 3.51e+01 || 1.23e+03 || 2.77e+01 || 9.63e-01 |\n"
     ]
    }
   ],
   "source": [
    "reg_trainer = MLPTrainer(type=\"reg\", is_multiclass=False)\n",
    "\n",
    "reg_trainer.train(\n",
    "    reg_model,\n",
    "    num_train_epochs,\n",
    "    optimiser,\n",
    "    loss_fn,\n",
    "    train_loader,\n",
    "    val_loader,\n",
    "    device=device,\n",
    ")"
   ]
  },
  {
   "cell_type": "markdown",
   "id": "c6c6ce29-52d5-4102-bbbe-ea490120bef2",
   "metadata": {},
   "source": [
    "#### Visualising Training Results"
   ]
  },
  {
   "cell_type": "code",
   "execution_count": 9,
   "id": "26c13da2-2d4d-4d16-952e-9251b678c323",
   "metadata": {},
   "outputs": [
    {
     "data": {
      "application/vnd.plotly.v1+json": {
       "config": {
        "plotlyServerURL": "https://plot.ly"
       },
       "data": [
        {
         "mode": "lines+markers",
         "name": "Training Loss",
         "text": "",
         "type": "scatter",
         "x": {
          "bdata": "AQIDBAUGBwgJCg==",
          "dtype": "i1"
         },
         "y": [
          314154.19765625,
          47920.97615356445,
          15841.600552368163,
          7349.597678375244,
          4113.154048156738,
          3394.3217498779295,
          2729.094441604614,
          2331.8663280487062,
          1869.990831375122,
          2119.3022125244142
         ]
        },
        {
         "mode": "lines+markers",
         "name": "Validation Loss",
         "text": "",
         "type": "scatter",
         "x": {
          "bdata": "AQIDBAUGBwgJCg==",
          "dtype": "i1"
         },
         "y": [
          16080.932861328125,
          4605.427941894532,
          4551.197808837891,
          2292.5640258789062,
          2086.5530334472655,
          2147.1663970947266,
          2022.417318725586,
          1979.9920196533203,
          1556.9249633789063,
          1683.1706802368165
         ]
        }
       ],
       "layout": {
        "template": {
         "data": {
          "bar": [
           {
            "error_x": {
             "color": "#2a3f5f"
            },
            "error_y": {
             "color": "#2a3f5f"
            },
            "marker": {
             "line": {
              "color": "#E5ECF6",
              "width": 0.5
             },
             "pattern": {
              "fillmode": "overlay",
              "size": 10,
              "solidity": 0.2
             }
            },
            "type": "bar"
           }
          ],
          "barpolar": [
           {
            "marker": {
             "line": {
              "color": "#E5ECF6",
              "width": 0.5
             },
             "pattern": {
              "fillmode": "overlay",
              "size": 10,
              "solidity": 0.2
             }
            },
            "type": "barpolar"
           }
          ],
          "carpet": [
           {
            "aaxis": {
             "endlinecolor": "#2a3f5f",
             "gridcolor": "white",
             "linecolor": "white",
             "minorgridcolor": "white",
             "startlinecolor": "#2a3f5f"
            },
            "baxis": {
             "endlinecolor": "#2a3f5f",
             "gridcolor": "white",
             "linecolor": "white",
             "minorgridcolor": "white",
             "startlinecolor": "#2a3f5f"
            },
            "type": "carpet"
           }
          ],
          "choropleth": [
           {
            "colorbar": {
             "outlinewidth": 0,
             "ticks": ""
            },
            "type": "choropleth"
           }
          ],
          "contour": [
           {
            "colorbar": {
             "outlinewidth": 0,
             "ticks": ""
            },
            "colorscale": [
             [
              0,
              "#0d0887"
             ],
             [
              0.1111111111111111,
              "#46039f"
             ],
             [
              0.2222222222222222,
              "#7201a8"
             ],
             [
              0.3333333333333333,
              "#9c179e"
             ],
             [
              0.4444444444444444,
              "#bd3786"
             ],
             [
              0.5555555555555556,
              "#d8576b"
             ],
             [
              0.6666666666666666,
              "#ed7953"
             ],
             [
              0.7777777777777778,
              "#fb9f3a"
             ],
             [
              0.8888888888888888,
              "#fdca26"
             ],
             [
              1,
              "#f0f921"
             ]
            ],
            "type": "contour"
           }
          ],
          "contourcarpet": [
           {
            "colorbar": {
             "outlinewidth": 0,
             "ticks": ""
            },
            "type": "contourcarpet"
           }
          ],
          "heatmap": [
           {
            "colorbar": {
             "outlinewidth": 0,
             "ticks": ""
            },
            "colorscale": [
             [
              0,
              "#0d0887"
             ],
             [
              0.1111111111111111,
              "#46039f"
             ],
             [
              0.2222222222222222,
              "#7201a8"
             ],
             [
              0.3333333333333333,
              "#9c179e"
             ],
             [
              0.4444444444444444,
              "#bd3786"
             ],
             [
              0.5555555555555556,
              "#d8576b"
             ],
             [
              0.6666666666666666,
              "#ed7953"
             ],
             [
              0.7777777777777778,
              "#fb9f3a"
             ],
             [
              0.8888888888888888,
              "#fdca26"
             ],
             [
              1,
              "#f0f921"
             ]
            ],
            "type": "heatmap"
           }
          ],
          "histogram": [
           {
            "marker": {
             "pattern": {
              "fillmode": "overlay",
              "size": 10,
              "solidity": 0.2
             }
            },
            "type": "histogram"
           }
          ],
          "histogram2d": [
           {
            "colorbar": {
             "outlinewidth": 0,
             "ticks": ""
            },
            "colorscale": [
             [
              0,
              "#0d0887"
             ],
             [
              0.1111111111111111,
              "#46039f"
             ],
             [
              0.2222222222222222,
              "#7201a8"
             ],
             [
              0.3333333333333333,
              "#9c179e"
             ],
             [
              0.4444444444444444,
              "#bd3786"
             ],
             [
              0.5555555555555556,
              "#d8576b"
             ],
             [
              0.6666666666666666,
              "#ed7953"
             ],
             [
              0.7777777777777778,
              "#fb9f3a"
             ],
             [
              0.8888888888888888,
              "#fdca26"
             ],
             [
              1,
              "#f0f921"
             ]
            ],
            "type": "histogram2d"
           }
          ],
          "histogram2dcontour": [
           {
            "colorbar": {
             "outlinewidth": 0,
             "ticks": ""
            },
            "colorscale": [
             [
              0,
              "#0d0887"
             ],
             [
              0.1111111111111111,
              "#46039f"
             ],
             [
              0.2222222222222222,
              "#7201a8"
             ],
             [
              0.3333333333333333,
              "#9c179e"
             ],
             [
              0.4444444444444444,
              "#bd3786"
             ],
             [
              0.5555555555555556,
              "#d8576b"
             ],
             [
              0.6666666666666666,
              "#ed7953"
             ],
             [
              0.7777777777777778,
              "#fb9f3a"
             ],
             [
              0.8888888888888888,
              "#fdca26"
             ],
             [
              1,
              "#f0f921"
             ]
            ],
            "type": "histogram2dcontour"
           }
          ],
          "mesh3d": [
           {
            "colorbar": {
             "outlinewidth": 0,
             "ticks": ""
            },
            "type": "mesh3d"
           }
          ],
          "parcoords": [
           {
            "line": {
             "colorbar": {
              "outlinewidth": 0,
              "ticks": ""
             }
            },
            "type": "parcoords"
           }
          ],
          "pie": [
           {
            "automargin": true,
            "type": "pie"
           }
          ],
          "scatter": [
           {
            "fillpattern": {
             "fillmode": "overlay",
             "size": 10,
             "solidity": 0.2
            },
            "type": "scatter"
           }
          ],
          "scatter3d": [
           {
            "line": {
             "colorbar": {
              "outlinewidth": 0,
              "ticks": ""
             }
            },
            "marker": {
             "colorbar": {
              "outlinewidth": 0,
              "ticks": ""
             }
            },
            "type": "scatter3d"
           }
          ],
          "scattercarpet": [
           {
            "marker": {
             "colorbar": {
              "outlinewidth": 0,
              "ticks": ""
             }
            },
            "type": "scattercarpet"
           }
          ],
          "scattergeo": [
           {
            "marker": {
             "colorbar": {
              "outlinewidth": 0,
              "ticks": ""
             }
            },
            "type": "scattergeo"
           }
          ],
          "scattergl": [
           {
            "marker": {
             "colorbar": {
              "outlinewidth": 0,
              "ticks": ""
             }
            },
            "type": "scattergl"
           }
          ],
          "scattermap": [
           {
            "marker": {
             "colorbar": {
              "outlinewidth": 0,
              "ticks": ""
             }
            },
            "type": "scattermap"
           }
          ],
          "scattermapbox": [
           {
            "marker": {
             "colorbar": {
              "outlinewidth": 0,
              "ticks": ""
             }
            },
            "type": "scattermapbox"
           }
          ],
          "scatterpolar": [
           {
            "marker": {
             "colorbar": {
              "outlinewidth": 0,
              "ticks": ""
             }
            },
            "type": "scatterpolar"
           }
          ],
          "scatterpolargl": [
           {
            "marker": {
             "colorbar": {
              "outlinewidth": 0,
              "ticks": ""
             }
            },
            "type": "scatterpolargl"
           }
          ],
          "scatterternary": [
           {
            "marker": {
             "colorbar": {
              "outlinewidth": 0,
              "ticks": ""
             }
            },
            "type": "scatterternary"
           }
          ],
          "surface": [
           {
            "colorbar": {
             "outlinewidth": 0,
             "ticks": ""
            },
            "colorscale": [
             [
              0,
              "#0d0887"
             ],
             [
              0.1111111111111111,
              "#46039f"
             ],
             [
              0.2222222222222222,
              "#7201a8"
             ],
             [
              0.3333333333333333,
              "#9c179e"
             ],
             [
              0.4444444444444444,
              "#bd3786"
             ],
             [
              0.5555555555555556,
              "#d8576b"
             ],
             [
              0.6666666666666666,
              "#ed7953"
             ],
             [
              0.7777777777777778,
              "#fb9f3a"
             ],
             [
              0.8888888888888888,
              "#fdca26"
             ],
             [
              1,
              "#f0f921"
             ]
            ],
            "type": "surface"
           }
          ],
          "table": [
           {
            "cells": {
             "fill": {
              "color": "#EBF0F8"
             },
             "line": {
              "color": "white"
             }
            },
            "header": {
             "fill": {
              "color": "#C8D4E3"
             },
             "line": {
              "color": "white"
             }
            },
            "type": "table"
           }
          ]
         },
         "layout": {
          "annotationdefaults": {
           "arrowcolor": "#2a3f5f",
           "arrowhead": 0,
           "arrowwidth": 1
          },
          "autotypenumbers": "strict",
          "coloraxis": {
           "colorbar": {
            "outlinewidth": 0,
            "ticks": ""
           }
          },
          "colorscale": {
           "diverging": [
            [
             0,
             "#8e0152"
            ],
            [
             0.1,
             "#c51b7d"
            ],
            [
             0.2,
             "#de77ae"
            ],
            [
             0.3,
             "#f1b6da"
            ],
            [
             0.4,
             "#fde0ef"
            ],
            [
             0.5,
             "#f7f7f7"
            ],
            [
             0.6,
             "#e6f5d0"
            ],
            [
             0.7,
             "#b8e186"
            ],
            [
             0.8,
             "#7fbc41"
            ],
            [
             0.9,
             "#4d9221"
            ],
            [
             1,
             "#276419"
            ]
           ],
           "sequential": [
            [
             0,
             "#0d0887"
            ],
            [
             0.1111111111111111,
             "#46039f"
            ],
            [
             0.2222222222222222,
             "#7201a8"
            ],
            [
             0.3333333333333333,
             "#9c179e"
            ],
            [
             0.4444444444444444,
             "#bd3786"
            ],
            [
             0.5555555555555556,
             "#d8576b"
            ],
            [
             0.6666666666666666,
             "#ed7953"
            ],
            [
             0.7777777777777778,
             "#fb9f3a"
            ],
            [
             0.8888888888888888,
             "#fdca26"
            ],
            [
             1,
             "#f0f921"
            ]
           ],
           "sequentialminus": [
            [
             0,
             "#0d0887"
            ],
            [
             0.1111111111111111,
             "#46039f"
            ],
            [
             0.2222222222222222,
             "#7201a8"
            ],
            [
             0.3333333333333333,
             "#9c179e"
            ],
            [
             0.4444444444444444,
             "#bd3786"
            ],
            [
             0.5555555555555556,
             "#d8576b"
            ],
            [
             0.6666666666666666,
             "#ed7953"
            ],
            [
             0.7777777777777778,
             "#fb9f3a"
            ],
            [
             0.8888888888888888,
             "#fdca26"
            ],
            [
             1,
             "#f0f921"
            ]
           ]
          },
          "colorway": [
           "#636efa",
           "#EF553B",
           "#00cc96",
           "#ab63fa",
           "#FFA15A",
           "#19d3f3",
           "#FF6692",
           "#B6E880",
           "#FF97FF",
           "#FECB52"
          ],
          "font": {
           "color": "#2a3f5f"
          },
          "geo": {
           "bgcolor": "white",
           "lakecolor": "white",
           "landcolor": "#E5ECF6",
           "showlakes": true,
           "showland": true,
           "subunitcolor": "white"
          },
          "hoverlabel": {
           "align": "left"
          },
          "hovermode": "closest",
          "mapbox": {
           "style": "light"
          },
          "paper_bgcolor": "white",
          "plot_bgcolor": "#E5ECF6",
          "polar": {
           "angularaxis": {
            "gridcolor": "white",
            "linecolor": "white",
            "ticks": ""
           },
           "bgcolor": "#E5ECF6",
           "radialaxis": {
            "gridcolor": "white",
            "linecolor": "white",
            "ticks": ""
           }
          },
          "scene": {
           "xaxis": {
            "backgroundcolor": "#E5ECF6",
            "gridcolor": "white",
            "gridwidth": 2,
            "linecolor": "white",
            "showbackground": true,
            "ticks": "",
            "zerolinecolor": "white"
           },
           "yaxis": {
            "backgroundcolor": "#E5ECF6",
            "gridcolor": "white",
            "gridwidth": 2,
            "linecolor": "white",
            "showbackground": true,
            "ticks": "",
            "zerolinecolor": "white"
           },
           "zaxis": {
            "backgroundcolor": "#E5ECF6",
            "gridcolor": "white",
            "gridwidth": 2,
            "linecolor": "white",
            "showbackground": true,
            "ticks": "",
            "zerolinecolor": "white"
           }
          },
          "shapedefaults": {
           "line": {
            "color": "#2a3f5f"
           }
          },
          "ternary": {
           "aaxis": {
            "gridcolor": "white",
            "linecolor": "white",
            "ticks": ""
           },
           "baxis": {
            "gridcolor": "white",
            "linecolor": "white",
            "ticks": ""
           },
           "bgcolor": "#E5ECF6",
           "caxis": {
            "gridcolor": "white",
            "linecolor": "white",
            "ticks": ""
           }
          },
          "title": {
           "x": 0.05
          },
          "xaxis": {
           "automargin": true,
           "gridcolor": "white",
           "linecolor": "white",
           "ticks": "",
           "title": {
            "standoff": 15
           },
           "zerolinecolor": "white",
           "zerolinewidth": 2
          },
          "yaxis": {
           "automargin": true,
           "gridcolor": "white",
           "linecolor": "white",
           "ticks": "",
           "title": {
            "standoff": 15
           },
           "zerolinecolor": "white",
           "zerolinewidth": 2
          }
         }
        },
        "title": {
         "text": "Loss"
        },
        "xaxis": {
         "title": {
          "text": "Epochs"
         }
        },
        "yaxis": {
         "title": {
          "text": "Loss"
         }
        }
       }
      },
      "image/png": "[encoded data removed]"
     },
     "metadata": {},
     "output_type": "display_data"
    }
   ],
   "source": [
    "reg_trainer.mm.get_metric_chart(\"loss\")"
   ]
  },
  {
   "cell_type": "code",
   "execution_count": 10,
   "id": "0c857fea-d50b-4456-b421-b91dba2f7c3c",
   "metadata": {},
   "outputs": [
    {
     "data": {
      "application/vnd.plotly.v1+json": {
       "config": {
        "plotlyServerURL": "https://plot.ly"
       },
       "data": [
        {
         "mode": "lines+markers",
         "name": "Training MSE",
         "text": "",
         "type": "scatter",
         "x": {
          "bdata": "AQIDBAUGBwgJCg==",
          "dtype": "i1"
         },
         "xaxis": "x",
         "y": [
          39269.2734375,
          5990.1220703125,
          1980.199951171875,
          918.69970703125,
          514.1442260742188,
          424.29022216796875,
          341.1368103027344,
          291.4832763671875,
          233.7488555908203,
          264.91278076171875
         ],
         "yaxis": "y"
        },
        {
         "mode": "lines+markers",
         "name": "Validation MSE",
         "text": "",
         "type": "scatter",
         "x": {
          "bdata": "AQIDBAUGBwgJCg==",
          "dtype": "i1"
         },
         "xaxis": "x",
         "y": [
          16080.9326171875,
          4605.42822265625,
          4551.19775390625,
          2292.56396484375,
          2086.55322265625,
          2147.16650390625,
          2022.417236328125,
          1979.9921875,
          1556.925048828125,
          1683.170654296875
         ],
         "yaxis": "y"
        },
        {
         "mode": "lines+markers",
         "name": "Training RMSE",
         "text": "",
         "type": "scatter",
         "x": {
          "bdata": "AQIDBAUGBwgJCg==",
          "dtype": "i1"
         },
         "xaxis": "x2",
         "y": [
          198.16476440429688,
          77.39588165283203,
          44.49943923950195,
          30.31005859375,
          22.67474937438965,
          20.59830665588379,
          18.46988868713379,
          17.0728816986084,
          15.288846969604492,
          16.276142120361328
         ],
         "yaxis": "y2"
        },
        {
         "mode": "lines+markers",
         "name": "Validation RMSE",
         "text": "",
         "type": "scatter",
         "x": {
          "bdata": "AQIDBAUGBwgJCg==",
          "dtype": "i1"
         },
         "xaxis": "x2",
         "y": [
          126.81061553955078,
          67.8633041381836,
          67.46256256103516,
          47.8807258605957,
          45.67880630493164,
          46.337528228759766,
          44.97129440307617,
          44.49710464477539,
          39.457889556884766,
          41.02646255493164
         ],
         "yaxis": "y2"
        },
        {
         "mode": "lines+markers",
         "name": "Training MAE",
         "text": "",
         "type": "scatter",
         "x": {
          "bdata": "AQIDBAUGBwgJCg==",
          "dtype": "i1"
         },
         "xaxis": "x3",
         "y": [
          157.30148315429688,
          59.09486770629883,
          34.97188949584961,
          23.808748245239258,
          17.747739791870117,
          16.035215377807617,
          14.481742858886719,
          13.166801452636719,
          11.462449073791504,
          12.816668510437012
         ],
         "yaxis": "y3"
        },
        {
         "mode": "lines+markers",
         "name": "Validation MAE",
         "text": "",
         "type": "scatter",
         "x": {
          "bdata": "AQIDBAUGBwgJCg==",
          "dtype": "i1"
         },
         "xaxis": "x3",
         "y": [
          99.37239074707031,
          53.9782829284668,
          53.41303634643555,
          38.06279754638672,
          36.96747589111328,
          36.872413635253906,
          35.259788513183594,
          34.37781524658203,
          30.391902923583984,
          32.395545959472656
         ],
         "yaxis": "y3"
        },
        {
         "mode": "lines+markers",
         "name": "Training R2 Score",
         "text": "",
         "type": "scatter",
         "x": {
          "bdata": "AQIDBAUGBwgJCg==",
          "dtype": "i1"
         },
         "xaxis": "x4",
         "y": [
          0.08861666917800903,
          0.8609778881072998,
          0.9540424346923828,
          0.978678286075592,
          0.9880674481391907,
          0.9901528358459473,
          0.9920827150344849,
          0.9932351112365723,
          0.994575023651123,
          0.9938517808914185
         ],
         "yaxis": "y4"
        },
        {
         "mode": "lines+markers",
         "name": "Validation R2 Score",
         "text": "",
         "type": "scatter",
         "x": {
          "bdata": "AQIDBAUGBwgJCg==",
          "dtype": "i1"
         },
         "xaxis": "x4",
         "y": [
          0.6681647300720215,
          0.9049655199050903,
          0.9060845375061035,
          0.9526922106742859,
          0.9569432735443115,
          0.9556925296783447,
          0.9582667350769043,
          0.9591422080993652,
          0.9678723216056824,
          0.9652672410011292
         ],
         "yaxis": "y4"
        }
       ],
       "layout": {
        "annotations": [
         {
          "font": {
           "size": 16
          },
          "showarrow": false,
          "text": "MSE",
          "x": 0.225,
          "xanchor": "center",
          "xref": "paper",
          "y": 1,
          "yanchor": "bottom",
          "yref": "paper"
         },
         {
          "font": {
           "size": 16
          },
          "showarrow": false,
          "text": "RMSE",
          "x": 0.775,
          "xanchor": "center",
          "xref": "paper",
          "y": 1,
          "yanchor": "bottom",
          "yref": "paper"
         },
         {
          "font": {
           "size": 16
          },
          "showarrow": false,
          "text": "MAE",
          "x": 0.225,
          "xanchor": "center",
          "xref": "paper",
          "y": 0.375,
          "yanchor": "bottom",
          "yref": "paper"
         },
         {
          "font": {
           "size": 16
          },
          "showarrow": false,
          "text": "R2 Score",
          "x": 0.775,
          "xanchor": "center",
          "xref": "paper",
          "y": 0.375,
          "yanchor": "bottom",
          "yref": "paper"
         }
        ],
        "height": 1000,
        "template": {
         "data": {
          "bar": [
           {
            "error_x": {
             "color": "#2a3f5f"
            },
            "error_y": {
             "color": "#2a3f5f"
            },
            "marker": {
             "line": {
              "color": "#E5ECF6",
              "width": 0.5
             },
             "pattern": {
              "fillmode": "overlay",
              "size": 10,
              "solidity": 0.2
             }
            },
            "type": "bar"
           }
          ],
          "barpolar": [
           {
            "marker": {
             "line": {
              "color": "#E5ECF6",
              "width": 0.5
             },
             "pattern": {
              "fillmode": "overlay",
              "size": 10,
              "solidity": 0.2
             }
            },
            "type": "barpolar"
           }
          ],
          "carpet": [
           {
            "aaxis": {
             "endlinecolor": "#2a3f5f",
             "gridcolor": "white",
             "linecolor": "white",
             "minorgridcolor": "white",
             "startlinecolor": "#2a3f5f"
            },
            "baxis": {
             "endlinecolor": "#2a3f5f",
             "gridcolor": "white",
             "linecolor": "white",
             "minorgridcolor": "white",
             "startlinecolor": "#2a3f5f"
            },
            "type": "carpet"
           }
          ],
          "choropleth": [
           {
            "colorbar": {
             "outlinewidth": 0,
             "ticks": ""
            },
            "type": "choropleth"
           }
          ],
          "contour": [
           {
            "colorbar": {
             "outlinewidth": 0,
             "ticks": ""
            },
            "colorscale": [
             [
              0,
              "#0d0887"
             ],
             [
              0.1111111111111111,
              "#46039f"
             ],
             [
              0.2222222222222222,
              "#7201a8"
             ],
             [
              0.3333333333333333,
              "#9c179e"
             ],
             [
              0.4444444444444444,
              "#bd3786"
             ],
             [
              0.5555555555555556,
              "#d8576b"
             ],
             [
              0.6666666666666666,
              "#ed7953"
             ],
             [
              0.7777777777777778,
              "#fb9f3a"
             ],
             [
              0.8888888888888888,
              "#fdca26"
             ],
             [
              1,
              "#f0f921"
             ]
            ],
            "type": "contour"
           }
          ],
          "contourcarpet": [
           {
            "colorbar": {
             "outlinewidth": 0,
             "ticks": ""
            },
            "type": "contourcarpet"
           }
          ],
          "heatmap": [
           {
            "colorbar": {
             "outlinewidth": 0,
             "ticks": ""
            },
            "colorscale": [
             [
              0,
              "#0d0887"
             ],
             [
              0.1111111111111111,
              "#46039f"
             ],
             [
              0.2222222222222222,
              "#7201a8"
             ],
             [
              0.3333333333333333,
              "#9c179e"
             ],
             [
              0.4444444444444444,
              "#bd3786"
             ],
             [
              0.5555555555555556,
              "#d8576b"
             ],
             [
              0.6666666666666666,
              "#ed7953"
             ],
             [
              0.7777777777777778,
              "#fb9f3a"
             ],
             [
              0.8888888888888888,
              "#fdca26"
             ],
             [
              1,
              "#f0f921"
             ]
            ],
            "type": "heatmap"
           }
          ],
          "histogram": [
           {
            "marker": {
             "pattern": {
              "fillmode": "overlay",
              "size": 10,
              "solidity": 0.2
             }
            },
            "type": "histogram"
           }
          ],
          "histogram2d": [
           {
            "colorbar": {
             "outlinewidth": 0,
             "ticks": ""
            },
            "colorscale": [
             [
              0,
              "#0d0887"
             ],
             [
              0.1111111111111111,
              "#46039f"
             ],
             [
              0.2222222222222222,
              "#7201a8"
             ],
             [
              0.3333333333333333,
              "#9c179e"
             ],
             [
              0.4444444444444444,
              "#bd3786"
             ],
             [
              0.5555555555555556,
              "#d8576b"
             ],
             [
              0.6666666666666666,
              "#ed7953"
             ],
             [
              0.7777777777777778,
              "#fb9f3a"
             ],
             [
              0.8888888888888888,
              "#fdca26"
             ],
             [
              1,
              "#f0f921"
             ]
            ],
            "type": "histogram2d"
           }
          ],
          "histogram2dcontour": [
           {
            "colorbar": {
             "outlinewidth": 0,
             "ticks": ""
            },
            "colorscale": [
             [
              0,
              "#0d0887"
             ],
             [
              0.1111111111111111,
              "#46039f"
             ],
             [
              0.2222222222222222,
              "#7201a8"
             ],
             [
              0.3333333333333333,
              "#9c179e"
             ],
             [
              0.4444444444444444,
              "#bd3786"
             ],
             [
              0.5555555555555556,
              "#d8576b"
             ],
             [
              0.6666666666666666,
              "#ed7953"
             ],
             [
              0.7777777777777778,
              "#fb9f3a"
             ],
             [
              0.8888888888888888,
              "#fdca26"
             ],
             [
              1,
              "#f0f921"
             ]
            ],
            "type": "histogram2dcontour"
           }
          ],
          "mesh3d": [
           {
            "colorbar": {
             "outlinewidth": 0,
             "ticks": ""
            },
            "type": "mesh3d"
           }
          ],
          "parcoords": [
           {
            "line": {
             "colorbar": {
              "outlinewidth": 0,
              "ticks": ""
             }
            },
            "type": "parcoords"
           }
          ],
          "pie": [
           {
            "automargin": true,
            "type": "pie"
           }
          ],
          "scatter": [
           {
            "fillpattern": {
             "fillmode": "overlay",
             "size": 10,
             "solidity": 0.2
            },
            "type": "scatter"
           }
          ],
          "scatter3d": [
           {
            "line": {
             "colorbar": {
              "outlinewidth": 0,
              "ticks": ""
             }
            },
            "marker": {
             "colorbar": {
              "outlinewidth": 0,
              "ticks": ""
             }
            },
            "type": "scatter3d"
           }
          ],
          "scattercarpet": [
           {
            "marker": {
             "colorbar": {
              "outlinewidth": 0,
              "ticks": ""
             }
            },
            "type": "scattercarpet"
           }
          ],
          "scattergeo": [
           {
            "marker": {
             "colorbar": {
              "outlinewidth": 0,
              "ticks": ""
             }
            },
            "type": "scattergeo"
           }
          ],
          "scattergl": [
           {
            "marker": {
             "colorbar": {
              "outlinewidth": 0,
              "ticks": ""
             }
            },
            "type": "scattergl"
           }
          ],
          "scattermap": [
           {
            "marker": {
             "colorbar": {
              "outlinewidth": 0,
              "ticks": ""
             }
            },
            "type": "scattermap"
           }
          ],
          "scattermapbox": [
           {
            "marker": {
             "colorbar": {
              "outlinewidth": 0,
              "ticks": ""
             }
            },
            "type": "scattermapbox"
           }
          ],
          "scatterpolar": [
           {
            "marker": {
             "colorbar": {
              "outlinewidth": 0,
              "ticks": ""
             }
            },
            "type": "scatterpolar"
           }
          ],
          "scatterpolargl": [
           {
            "marker": {
             "colorbar": {
              "outlinewidth": 0,
              "ticks": ""
             }
            },
            "type": "scatterpolargl"
           }
          ],
          "scatterternary": [
           {
            "marker": {
             "colorbar": {
              "outlinewidth": 0,
              "ticks": ""
             }
            },
            "type": "scatterternary"
           }
          ],
          "surface": [
           {
            "colorbar": {
             "outlinewidth": 0,
             "ticks": ""
            },
            "colorscale": [
             [
              0,
              "#0d0887"
             ],
             [
              0.1111111111111111,
              "#46039f"
             ],
             [
              0.2222222222222222,
              "#7201a8"
             ],
             [
              0.3333333333333333,
              "#9c179e"
             ],
             [
              0.4444444444444444,
              "#bd3786"
             ],
             [
              0.5555555555555556,
              "#d8576b"
             ],
             [
              0.6666666666666666,
              "#ed7953"
             ],
             [
              0.7777777777777778,
              "#fb9f3a"
             ],
             [
              0.8888888888888888,
              "#fdca26"
             ],
             [
              1,
              "#f0f921"
             ]
            ],
            "type": "surface"
           }
          ],
          "table": [
           {
            "cells": {
             "fill": {
              "color": "#EBF0F8"
             },
             "line": {
              "color": "white"
             }
            },
            "header": {
             "fill": {
              "color": "#C8D4E3"
             },
             "line": {
              "color": "white"
             }
            },
            "type": "table"
           }
          ]
         },
         "layout": {
          "annotationdefaults": {
           "arrowcolor": "#2a3f5f",
           "arrowhead": 0,
           "arrowwidth": 1
          },
          "autotypenumbers": "strict",
          "coloraxis": {
           "colorbar": {
            "outlinewidth": 0,
            "ticks": ""
           }
          },
          "colorscale": {
           "diverging": [
            [
             0,
             "#8e0152"
            ],
            [
             0.1,
             "#c51b7d"
            ],
            [
             0.2,
             "#de77ae"
            ],
            [
             0.3,
             "#f1b6da"
            ],
            [
             0.4,
             "#fde0ef"
            ],
            [
             0.5,
             "#f7f7f7"
            ],
            [
             0.6,
             "#e6f5d0"
            ],
            [
             0.7,
             "#b8e186"
            ],
            [
             0.8,
             "#7fbc41"
            ],
            [
             0.9,
             "#4d9221"
            ],
            [
             1,
             "#276419"
            ]
           ],
           "sequential": [
            [
             0,
             "#0d0887"
            ],
            [
             0.1111111111111111,
             "#46039f"
            ],
            [
             0.2222222222222222,
             "#7201a8"
            ],
            [
             0.3333333333333333,
             "#9c179e"
            ],
            [
             0.4444444444444444,
             "#bd3786"
            ],
            [
             0.5555555555555556,
             "#d8576b"
            ],
            [
             0.6666666666666666,
             "#ed7953"
            ],
            [
             0.7777777777777778,
             "#fb9f3a"
            ],
            [
             0.8888888888888888,
             "#fdca26"
            ],
            [
             1,
             "#f0f921"
            ]
           ],
           "sequentialminus": [
            [
             0,
             "#0d0887"
            ],
            [
             0.1111111111111111,
             "#46039f"
            ],
            [
             0.2222222222222222,
             "#7201a8"
            ],
            [
             0.3333333333333333,
             "#9c179e"
            ],
            [
             0.4444444444444444,
             "#bd3786"
            ],
            [
             0.5555555555555556,
             "#d8576b"
            ],
            [
             0.6666666666666666,
             "#ed7953"
            ],
            [
             0.7777777777777778,
             "#fb9f3a"
            ],
            [
             0.8888888888888888,
             "#fdca26"
            ],
            [
             1,
             "#f0f921"
            ]
           ]
          },
          "colorway": [
           "#636efa",
           "#EF553B",
           "#00cc96",
           "#ab63fa",
           "#FFA15A",
           "#19d3f3",
           "#FF6692",
           "#B6E880",
           "#FF97FF",
           "#FECB52"
          ],
          "font": {
           "color": "#2a3f5f"
          },
          "geo": {
           "bgcolor": "white",
           "lakecolor": "white",
           "landcolor": "#E5ECF6",
           "showlakes": true,
           "showland": true,
           "subunitcolor": "white"
          },
          "hoverlabel": {
           "align": "left"
          },
          "hovermode": "closest",
          "mapbox": {
           "style": "light"
          },
          "paper_bgcolor": "white",
          "plot_bgcolor": "#E5ECF6",
          "polar": {
           "angularaxis": {
            "gridcolor": "white",
            "linecolor": "white",
            "ticks": ""
           },
           "bgcolor": "#E5ECF6",
           "radialaxis": {
            "gridcolor": "white",
            "linecolor": "white",
            "ticks": ""
           }
          },
          "scene": {
           "xaxis": {
            "backgroundcolor": "#E5ECF6",
            "gridcolor": "white",
            "gridwidth": 2,
            "linecolor": "white",
            "showbackground": true,
            "ticks": "",
            "zerolinecolor": "white"
           },
           "yaxis": {
            "backgroundcolor": "#E5ECF6",
            "gridcolor": "white",
            "gridwidth": 2,
            "linecolor": "white",
            "showbackground": true,
            "ticks": "",
            "zerolinecolor": "white"
           },
           "zaxis": {
            "backgroundcolor": "#E5ECF6",
            "gridcolor": "white",
            "gridwidth": 2,
            "linecolor": "white",
            "showbackground": true,
            "ticks": "",
            "zerolinecolor": "white"
           }
          },
          "shapedefaults": {
           "line": {
            "color": "#2a3f5f"
           }
          },
          "ternary": {
           "aaxis": {
            "gridcolor": "white",
            "linecolor": "white",
            "ticks": ""
           },
           "baxis": {
            "gridcolor": "white",
            "linecolor": "white",
            "ticks": ""
           },
           "bgcolor": "#E5ECF6",
           "caxis": {
            "gridcolor": "white",
            "linecolor": "white",
            "ticks": ""
           }
          },
          "title": {
           "x": 0.05
          },
          "xaxis": {
           "automargin": true,
           "gridcolor": "white",
           "linecolor": "white",
           "ticks": "",
           "title": {
            "standoff": 15
           },
           "zerolinecolor": "white",
           "zerolinewidth": 2
          },
          "yaxis": {
           "automargin": true,
           "gridcolor": "white",
           "linecolor": "white",
           "ticks": "",
           "title": {
            "standoff": 15
           },
           "zerolinecolor": "white",
           "zerolinewidth": 2
          }
         }
        },
        "title": {
         "text": "MSE, RMSE, MAE and R2 Score"
        },
        "xaxis": {
         "anchor": "y",
         "domain": [
          0,
          0.45
         ],
         "title": {
          "text": "Epochs"
         }
        },
        "xaxis2": {
         "anchor": "y2",
         "domain": [
          0.55,
          1
         ],
         "title": {
          "text": "Epochs"
         }
        },
        "xaxis3": {
         "anchor": "y3",
         "domain": [
          0,
          0.45
         ],
         "title": {
          "text": "Epochs"
         }
        },
        "xaxis4": {
         "anchor": "y4",
         "domain": [
          0.55,
          1
         ],
         "title": {
          "text": "Epochs"
         }
        },
        "yaxis": {
         "anchor": "x",
         "domain": [
          0.625,
          1
         ],
         "title": {
          "text": "MSE"
         }
        },
        "yaxis2": {
         "anchor": "x2",
         "domain": [
          0.625,
          1
         ],
         "title": {
          "text": "RMSE"
         }
        },
        "yaxis3": {
         "anchor": "x3",
         "domain": [
          0,
          0.375
         ],
         "title": {
          "text": "MAE"
         }
        },
        "yaxis4": {
         "anchor": "x4",
         "domain": [
          0,
          0.375
         ],
         "title": {
          "text": "R2 Score"
         }
        }
       }
      },
      "image/png": "[encoded data removed]"
     },
     "metadata": {},
     "output_type": "display_data"
    }
   ],
   "source": [
    "reg_trainer.mm.get_metric_chart_collection([\"mse\", \"rmse\", \"mae\", \"r2\"])"
   ]
  },
  {
   "cell_type": "markdown",
   "id": "54620e49-a167-43e0-856d-a591131c8dac",
   "metadata": {},
   "source": [
    "### Evaluating the Model on Test Data"
   ]
  },
  {
   "cell_type": "code",
   "execution_count": 11,
   "id": "026d2a74-0023-459c-8337-d19535a4950d",
   "metadata": {},
   "outputs": [
    {
     "data": {
      "application/vnd.plotly.v1+json": {
       "config": {
        "plotlyServerURL": "https://plot.ly"
       },
       "data": [
        {
         "mode": "markers",
         "name": "True Values",
         "text": "",
         "type": "scatter",
         "x": {
          "bdata": "AAABAAIAAwAEAAUABgAHAAgACQAKAAsADAANAA4ADwAQABEAEgATABQAFQAWABcAGAAZABoAGwAcAB0AHgAfACAAIQAiACMAJAAlACYAJwAoACkAKgArACwALQAuAC8AMAAxADIAMwA0ADUANgA3ADgAOQA6ADsAPAA9AD4APwBAAEEAQgBDAEQARQBGAEcASABJAEoASwBMAE0ATgBPAFAAUQBSAFMAVABVAFYAVwBYAFkAWgBbAFwAXQBeAF8AYABhAGIAYwBkAGUAZgBnAGgAaQBqAGsAbABtAG4AbwBwAHEAcgBzAHQAdQB2AHcAeAB5AHoAewB8AH0AfgB/AIAAgQCCAIMAhACFAIYAhwCIAIkAigCLAIwAjQCOAI8AkACRAJIAkwCUAJUAlgCXAJgAmQCaAJsAnACdAJ4AnwCgAKEAogCjAKQApQCmAKcAqACpAKoAqwCsAK0ArgCvALAAsQCyALMAtAC1ALYAtwC4ALkAugC7ALwAvQC+AL8AwADBAMIAwwDEAMUAxgDHAA==",
          "dtype": "i2"
         },
         "y": {
          "bdata": "wpr6ZS4OM0By5Fk5ly9wQCTZkIJXDFDA8vlRuXQcY8BqueltkQZzwHqQBkFMinLAjHlwTLP6asD90w24HZdWQAAihtnv8Py/VIgyAavkVMAckMYA1kM/QAZPbJU5QlHAtvc9w51CRsBMe/ON0vFxQNYf7/nb5HbAPC5zaNmJTcDIJNwOojZ1wEoxEgo3HlhAxM3fBWPgW0AMQXzmZwVDwO6EBJk5K2dA8mmKlKMUgMDtKfEOzxKEQG7cpSpcUDZAhtEzTyclYEAhD16i8nF6QMC2QUSbMXXA3ni90cxLSMC+GawRw9ozwLwUMjQFIltAZWWzyXoscMAuLSYHdTCBQJZH5MYA73TAGDy/66XNO8CWTkjEU5xxQPQkiDxwd3XAyA93D0ZoZMC8x+N9iU5dQE3JAkG0amFA1wGwJVAwVEByoFhxo9VywFh1pa1FpndAYMsc3XUHfkDA1FjqeTkGQGnJDINxm2pAimoyYWdbd8CwjqoVeOccwEt7H+HUd2RAsIi4nVhKOkCqNjDdrp5lQMjAP1nhDjfACs7lEwY2c0AEkEmrcwQpQCCYZ+Z6XyJAAKoIWRcsQ0BCKrigeNliQKL7XZ1xCyFAmC/GAZfrU0CAqlpN2LU4QGsVJtVklmhAMcrOLUWOcMBPCCZnnTF6QJ4VNd2Fy1FAADPV/VADUcBAOflYcjEXwGJbuO/7rILAnM6g6+GxRsDnX4Ujej5nwHApMiEVKlDAmq23UlixX0BSSqWxQdFlwAl94u5dJnZA8O4AiNtTPcB/Zlw0BTF3wABlDP/yIjrAlHOebBuKVUDewIbtbZZUQJTrqMwSlkjAgA6yf+PkGUDcWA22clR/QEjihnvfdHRAjkhbBo6pbUC9u9W+XalQQDEacOFWI3JAFhY7HApcU0CC72ToqKNtQGObJwDPoHbAoLxsE8xbMcAejx8IbfNtQMaf92255nPA+OOhx3JtXcA6Kc77M+pWwDHk2ayRNFVAyODMGH7hVkDFsWiC3xJRwIbjnO19Z0RA7b4uKocZT8DO+fZNsj04QFw8sYoM8GPAnw5Hq9HMd0DIx0clHJZjwOwxI1DXoXBAYJ8dbo1TGcCXGTdgucpSwPCtAmufI1fArAm7aQH5cUB0TLN6DvhVQBCpCn2uIklA1GDnYJAia8Dg0/ae3b8iQDN/uRUsdF7AgDPErzkqGcCYPE319tRAwEON4u4cXk5APmALlCnZLEC0UQrKjfJAQLBZ0T/Lz0TAzDE5Kg++d0AjIa93SgdRQCkV1Bf/cUBADOiVEstcJMAAQb+Czgt1QFBc1ZqkxWZAD/xNqL3RcUBiouA7PQFeQLDshfioDHRAzk6uvkGEdEBc3TgherpFwBp4hxpPN2TAycrEwIoYasAggvoV34prQJJ0a+ZtaFnA031Q/OKJWMDEkvQsBrpgQCIKrfi4DHXA3BfxZSU6NcCtOJHCROxoQLwQGrqHGFHADnEBB861UUAWvzA1Lz9uQFhpyBO+wXHA5Z890D2YaEAa/RKOzd9XQFoX4RIqiGbAopo8G2MAT0CcJ7iqlqlIwMyx6UAM5zpAdsgwtUgUccD4nv4s0WxswMKoFQTSYTXA1g7x6jtsZsDAdK7WrsQfQHafTngB7T9A4O4wYStNBsAvTtInbq9uQIA1Faz/liBARdQkc6yBScD+13SbXjZxQJpP2rD5FmpAWLPNrRMOQkBaN9A4/CNvwNqkvamsuVpAVlWVcv74VsDoAlYabFBwQA6rn94LUzLApGiAaCmXdsDfFirF715kwD7BX8bVum7AM/NysoPwekD8ilPN/pN0wHZ3OdsXdVBArOqlMMpsbcB3okS8ZzY3QMik8fQI7ElAAC9tO4Lz+r/Y16UBsjJgwPEHbrb55GvAmzXYtQTAY8CInridDSFjQAKdPOK2jnBA3p7NSiK9TUBa3PeFKXVowD75w4HDfjdAobfateJ/dEAsrriyzNJGQEpLo8irh3lAlesdBEsrU8AeS4J5g7FTwPToVe+EMlFAZrW83lt7N8D2wuWGchxiwPpCv8BPCn5AVbuuKsAoX0Aiv5CUlPhbwBi/3mXZu3pAJnZgJV/va8A7AbiLQGFbQD+Hnr2aEFHAmpwqSdu7WMB+EdkjqoBtwA==",
          "dtype": "f8"
         }
        },
        {
         "mode": "markers",
         "name": "Predicted Values",
         "text": "",
         "type": "scatter",
         "x": {
          "bdata": "AAABAAIAAwAEAAUABgAHAAgACQAKAAsADAANAA4ADwAQABEAEgATABQAFQAWABcAGAAZABoAGwAcAB0AHgAfACAAIQAiACMAJAAlACYAJwAoACkAKgArACwALQAuAC8AMAAxADIAMwA0ADUANgA3ADgAOQA6ADsAPAA9AD4APwBAAEEAQgBDAEQARQBGAEcASABJAEoASwBMAE0ATgBPAFAAUQBSAFMAVABVAFYAVwBYAFkAWgBbAFwAXQBeAF8AYABhAGIAYwBkAGUAZgBnAGgAaQBqAGsAbABtAG4AbwBwAHEAcgBzAHQAdQB2AHcAeAB5AHoAewB8AH0AfgB/AIAAgQCCAIMAhACFAIYAhwCIAIkAigCLAIwAjQCOAI8AkACRAJIAkwCUAJUAlgCXAJgAmQCaAJsAnACdAJ4AnwCgAKEAogCjAKQApQCmAKcAqACpAKoAqwCsAK0ArgCvALAAsQCyALMAtAC1ALYAtwC4ALkAugC7ALwAvQC+AL8AwADBAMIAwwDEAMUAxgDHAA==",
          "dtype": "i2"
         },
         "y": {
          "bdata": "fgB4QT37lUNy3JzC4Q4TwyI1isO75rXD7R8qw1V+E0LYkgJCqVk3wgT+fUIUYNjCq08Xwy6HgUNMxqXDSk6LwjsktcPjdoNB5HGzQvRrQcJcikJDNkvCw+iMA0SZO/dANSjvQtS5p0Mi9pDDQIerwvqLOMGgei1Ccxhqw9ul/kPGkW7DLU6twVXzbEOSMZvDPHjUwhQumEJi3vVC74zoQY+PicPkDpRDaGXKQ1QYYsLhCmJD0uSsw4IcNcKzDhlDt4F5QaScA0NHi0jCSnibQ3zhE0G3v5hBBdUlQjVqHUOrggjC2OFMwfJ+478Qx1VD8cBawz0jqEOh8p9CBlmZwbh8jsHPtejDBiIPwtvHT8MPaHPCf2BtQ7E9GcNhvK1Dw/FFwb5dsMPaV1bCYEStQnM4P0KmrNXCfu2RP6853UMU+qNDu4OFQ9gGmUJK0HxDT/CeQgoadEM4Y43D6Lz5wZEgN0PPuJ7Daagdw6NjCMNWJ8FCwt/qQknUr8JicKQ/A7tiwgaWFkL1OjrDU4mhQzXOHMMX0nlDuhp2wpSftMKfW7/C9kCqQ3ULuUL4sJpCwjJsw45rG8KcF7TCf6WrQZGpZEBFyo1AW7XLwTqgNUI4nPfBCXenQ3yuSEIR98/BL8UmwEUilkM0wBZD8wiwQ7GeAkP8rbJDxz+UQ8dFlEG38i3D+/lpwz8dbUM0bvDCnhDjwR2/RUPC/6fDvekfwglkLEOq5LjCMGseQpOXbUPdiYfDNGbDQpgzy0JeM1TDTGRGQqD3fcEmlaPAtG2Gw1E2l8OY/i7C1EVWw1VsSUBQq2FCokrJwRkaT0N1+YPBno5NweJTbkNVNTpD5IKrQkt5esMtWc1CYFRKwqk2ckOGtoPB/9K5wyF+BcN72GXDYKW7Q9/6lsNvjVFC5UVdwxWkK0KVllvBCwimQa31B8O/PUTDNCEow5K8PEML911DH/NFQjGZGsNa+yvCpoaUQ4UankH8lKlDXIWOwoA93MLfF4JCS3KVwU/TJMM4H9BDcLTcQlAoeMI9stpDvZVIw/vS20Ks/ZPCjiO8wtWaMsM=",
          "dtype": "f4"
         }
        }
       ],
       "layout": {
        "template": {
         "data": {
          "bar": [
           {
            "error_x": {
             "color": "#2a3f5f"
            },
            "error_y": {
             "color": "#2a3f5f"
            },
            "marker": {
             "line": {
              "color": "#E5ECF6",
              "width": 0.5
             },
             "pattern": {
              "fillmode": "overlay",
              "size": 10,
              "solidity": 0.2
             }
            },
            "type": "bar"
           }
          ],
          "barpolar": [
           {
            "marker": {
             "line": {
              "color": "#E5ECF6",
              "width": 0.5
             },
             "pattern": {
              "fillmode": "overlay",
              "size": 10,
              "solidity": 0.2
             }
            },
            "type": "barpolar"
           }
          ],
          "carpet": [
           {
            "aaxis": {
             "endlinecolor": "#2a3f5f",
             "gridcolor": "white",
             "linecolor": "white",
             "minorgridcolor": "white",
             "startlinecolor": "#2a3f5f"
            },
            "baxis": {
             "endlinecolor": "#2a3f5f",
             "gridcolor": "white",
             "linecolor": "white",
             "minorgridcolor": "white",
             "startlinecolor": "#2a3f5f"
            },
            "type": "carpet"
           }
          ],
          "choropleth": [
           {
            "colorbar": {
             "outlinewidth": 0,
             "ticks": ""
            },
            "type": "choropleth"
           }
          ],
          "contour": [
           {
            "colorbar": {
             "outlinewidth": 0,
             "ticks": ""
            },
            "colorscale": [
             [
              0,
              "#0d0887"
             ],
             [
              0.1111111111111111,
              "#46039f"
             ],
             [
              0.2222222222222222,
              "#7201a8"
             ],
             [
              0.3333333333333333,
              "#9c179e"
             ],
             [
              0.4444444444444444,
              "#bd3786"
             ],
             [
              0.5555555555555556,
              "#d8576b"
             ],
             [
              0.6666666666666666,
              "#ed7953"
             ],
             [
              0.7777777777777778,
              "#fb9f3a"
             ],
             [
              0.8888888888888888,
              "#fdca26"
             ],
             [
              1,
              "#f0f921"
             ]
            ],
            "type": "contour"
           }
          ],
          "contourcarpet": [
           {
            "colorbar": {
             "outlinewidth": 0,
             "ticks": ""
            },
            "type": "contourcarpet"
           }
          ],
          "heatmap": [
           {
            "colorbar": {
             "outlinewidth": 0,
             "ticks": ""
            },
            "colorscale": [
             [
              0,
              "#0d0887"
             ],
             [
              0.1111111111111111,
              "#46039f"
             ],
             [
              0.2222222222222222,
              "#7201a8"
             ],
             [
              0.3333333333333333,
              "#9c179e"
             ],
             [
              0.4444444444444444,
              "#bd3786"
             ],
             [
              0.5555555555555556,
              "#d8576b"
             ],
             [
              0.6666666666666666,
              "#ed7953"
             ],
             [
              0.7777777777777778,
              "#fb9f3a"
             ],
             [
              0.8888888888888888,
              "#fdca26"
             ],
             [
              1,
              "#f0f921"
             ]
            ],
            "type": "heatmap"
           }
          ],
          "histogram": [
           {
            "marker": {
             "pattern": {
              "fillmode": "overlay",
              "size": 10,
              "solidity": 0.2
             }
            },
            "type": "histogram"
           }
          ],
          "histogram2d": [
           {
            "colorbar": {
             "outlinewidth": 0,
             "ticks": ""
            },
            "colorscale": [
             [
              0,
              "#0d0887"
             ],
             [
              0.1111111111111111,
              "#46039f"
             ],
             [
              0.2222222222222222,
              "#7201a8"
             ],
             [
              0.3333333333333333,
              "#9c179e"
             ],
             [
              0.4444444444444444,
              "#bd3786"
             ],
             [
              0.5555555555555556,
              "#d8576b"
             ],
             [
              0.6666666666666666,
              "#ed7953"
             ],
             [
              0.7777777777777778,
              "#fb9f3a"
             ],
             [
              0.8888888888888888,
              "#fdca26"
             ],
             [
              1,
              "#f0f921"
             ]
            ],
            "type": "histogram2d"
           }
          ],
          "histogram2dcontour": [
           {
            "colorbar": {
             "outlinewidth": 0,
             "ticks": ""
            },
            "colorscale": [
             [
              0,
              "#0d0887"
             ],
             [
              0.1111111111111111,
              "#46039f"
             ],
             [
              0.2222222222222222,
              "#7201a8"
             ],
             [
              0.3333333333333333,
              "#9c179e"
             ],
             [
              0.4444444444444444,
              "#bd3786"
             ],
             [
              0.5555555555555556,
              "#d8576b"
             ],
             [
              0.6666666666666666,
              "#ed7953"
             ],
             [
              0.7777777777777778,
              "#fb9f3a"
             ],
             [
              0.8888888888888888,
              "#fdca26"
             ],
             [
              1,
              "#f0f921"
             ]
            ],
            "type": "histogram2dcontour"
           }
          ],
          "mesh3d": [
           {
            "colorbar": {
             "outlinewidth": 0,
             "ticks": ""
            },
            "type": "mesh3d"
           }
          ],
          "parcoords": [
           {
            "line": {
             "colorbar": {
              "outlinewidth": 0,
              "ticks": ""
             }
            },
            "type": "parcoords"
           }
          ],
          "pie": [
           {
            "automargin": true,
            "type": "pie"
           }
          ],
          "scatter": [
           {
            "fillpattern": {
             "fillmode": "overlay",
             "size": 10,
             "solidity": 0.2
            },
            "type": "scatter"
           }
          ],
          "scatter3d": [
           {
            "line": {
             "colorbar": {
              "outlinewidth": 0,
              "ticks": ""
             }
            },
            "marker": {
             "colorbar": {
              "outlinewidth": 0,
              "ticks": ""
             }
            },
            "type": "scatter3d"
           }
          ],
          "scattercarpet": [
           {
            "marker": {
             "colorbar": {
              "outlinewidth": 0,
              "ticks": ""
             }
            },
            "type": "scattercarpet"
           }
          ],
          "scattergeo": [
           {
            "marker": {
             "colorbar": {
              "outlinewidth": 0,
              "ticks": ""
             }
            },
            "type": "scattergeo"
           }
          ],
          "scattergl": [
           {
            "marker": {
             "colorbar": {
              "outlinewidth": 0,
              "ticks": ""
             }
            },
            "type": "scattergl"
           }
          ],
          "scattermap": [
           {
            "marker": {
             "colorbar": {
              "outlinewidth": 0,
              "ticks": ""
             }
            },
            "type": "scattermap"
           }
          ],
          "scattermapbox": [
           {
            "marker": {
             "colorbar": {
              "outlinewidth": 0,
              "ticks": ""
             }
            },
            "type": "scattermapbox"
           }
          ],
          "scatterpolar": [
           {
            "marker": {
             "colorbar": {
              "outlinewidth": 0,
              "ticks": ""
             }
            },
            "type": "scatterpolar"
           }
          ],
          "scatterpolargl": [
           {
            "marker": {
             "colorbar": {
              "outlinewidth": 0,
              "ticks": ""
             }
            },
            "type": "scatterpolargl"
           }
          ],
          "scatterternary": [
           {
            "marker": {
             "colorbar": {
              "outlinewidth": 0,
              "ticks": ""
             }
            },
            "type": "scatterternary"
           }
          ],
          "surface": [
           {
            "colorbar": {
             "outlinewidth": 0,
             "ticks": ""
            },
            "colorscale": [
             [
              0,
              "#0d0887"
             ],
             [
              0.1111111111111111,
              "#46039f"
             ],
             [
              0.2222222222222222,
              "#7201a8"
             ],
             [
              0.3333333333333333,
              "#9c179e"
             ],
             [
              0.4444444444444444,
              "#bd3786"
             ],
             [
              0.5555555555555556,
              "#d8576b"
             ],
             [
              0.6666666666666666,
              "#ed7953"
             ],
             [
              0.7777777777777778,
              "#fb9f3a"
             ],
             [
              0.8888888888888888,
              "#fdca26"
             ],
             [
              1,
              "#f0f921"
             ]
            ],
            "type": "surface"
           }
          ],
          "table": [
           {
            "cells": {
             "fill": {
              "color": "#EBF0F8"
             },
             "line": {
              "color": "white"
             }
            },
            "header": {
             "fill": {
              "color": "#C8D4E3"
             },
             "line": {
              "color": "white"
             }
            },
            "type": "table"
           }
          ]
         },
         "layout": {
          "annotationdefaults": {
           "arrowcolor": "#2a3f5f",
           "arrowhead": 0,
           "arrowwidth": 1
          },
          "autotypenumbers": "strict",
          "coloraxis": {
           "colorbar": {
            "outlinewidth": 0,
            "ticks": ""
           }
          },
          "colorscale": {
           "diverging": [
            [
             0,
             "#8e0152"
            ],
            [
             0.1,
             "#c51b7d"
            ],
            [
             0.2,
             "#de77ae"
            ],
            [
             0.3,
             "#f1b6da"
            ],
            [
             0.4,
             "#fde0ef"
            ],
            [
             0.5,
             "#f7f7f7"
            ],
            [
             0.6,
             "#e6f5d0"
            ],
            [
             0.7,
             "#b8e186"
            ],
            [
             0.8,
             "#7fbc41"
            ],
            [
             0.9,
             "#4d9221"
            ],
            [
             1,
             "#276419"
            ]
           ],
           "sequential": [
            [
             0,
             "#0d0887"
            ],
            [
             0.1111111111111111,
             "#46039f"
            ],
            [
             0.2222222222222222,
             "#7201a8"
            ],
            [
             0.3333333333333333,
             "#9c179e"
            ],
            [
             0.4444444444444444,
             "#bd3786"
            ],
            [
             0.5555555555555556,
             "#d8576b"
            ],
            [
             0.6666666666666666,
             "#ed7953"
            ],
            [
             0.7777777777777778,
             "#fb9f3a"
            ],
            [
             0.8888888888888888,
             "#fdca26"
            ],
            [
             1,
             "#f0f921"
            ]
           ],
           "sequentialminus": [
            [
             0,
             "#0d0887"
            ],
            [
             0.1111111111111111,
             "#46039f"
            ],
            [
             0.2222222222222222,
             "#7201a8"
            ],
            [
             0.3333333333333333,
             "#9c179e"
            ],
            [
             0.4444444444444444,
             "#bd3786"
            ],
            [
             0.5555555555555556,
             "#d8576b"
            ],
            [
             0.6666666666666666,
             "#ed7953"
            ],
            [
             0.7777777777777778,
             "#fb9f3a"
            ],
            [
             0.8888888888888888,
             "#fdca26"
            ],
            [
             1,
             "#f0f921"
            ]
           ]
          },
          "colorway": [
           "#636efa",
           "#EF553B",
           "#00cc96",
           "#ab63fa",
           "#FFA15A",
           "#19d3f3",
           "#FF6692",
           "#B6E880",
           "#FF97FF",
           "#FECB52"
          ],
          "font": {
           "color": "#2a3f5f"
          },
          "geo": {
           "bgcolor": "white",
           "lakecolor": "white",
           "landcolor": "#E5ECF6",
           "showlakes": true,
           "showland": true,
           "subunitcolor": "white"
          },
          "hoverlabel": {
           "align": "left"
          },
          "hovermode": "closest",
          "mapbox": {
           "style": "light"
          },
          "paper_bgcolor": "white",
          "plot_bgcolor": "#E5ECF6",
          "polar": {
           "angularaxis": {
            "gridcolor": "white",
            "linecolor": "white",
            "ticks": ""
           },
           "bgcolor": "#E5ECF6",
           "radialaxis": {
            "gridcolor": "white",
            "linecolor": "white",
            "ticks": ""
           }
          },
          "scene": {
           "xaxis": {
            "backgroundcolor": "#E5ECF6",
            "gridcolor": "white",
            "gridwidth": 2,
            "linecolor": "white",
            "showbackground": true,
            "ticks": "",
            "zerolinecolor": "white"
           },
           "yaxis": {
            "backgroundcolor": "#E5ECF6",
            "gridcolor": "white",
            "gridwidth": 2,
            "linecolor": "white",
            "showbackground": true,
            "ticks": "",
            "zerolinecolor": "white"
           },
           "zaxis": {
            "backgroundcolor": "#E5ECF6",
            "gridcolor": "white",
            "gridwidth": 2,
            "linecolor": "white",
            "showbackground": true,
            "ticks": "",
            "zerolinecolor": "white"
           }
          },
          "shapedefaults": {
           "line": {
            "color": "#2a3f5f"
           }
          },
          "ternary": {
           "aaxis": {
            "gridcolor": "white",
            "linecolor": "white",
            "ticks": ""
           },
           "baxis": {
            "gridcolor": "white",
            "linecolor": "white",
            "ticks": ""
           },
           "bgcolor": "#E5ECF6",
           "caxis": {
            "gridcolor": "white",
            "linecolor": "white",
            "ticks": ""
           }
          },
          "title": {
           "x": 0.05
          },
          "xaxis": {
           "automargin": true,
           "gridcolor": "white",
           "linecolor": "white",
           "ticks": "",
           "title": {
            "standoff": 15
           },
           "zerolinecolor": "white",
           "zerolinewidth": 2
          },
          "yaxis": {
           "automargin": true,
           "gridcolor": "white",
           "linecolor": "white",
           "ticks": "",
           "title": {
            "standoff": 15
           },
           "zerolinecolor": "white",
           "zerolinewidth": 2
          }
         }
        },
        "title": {
         "text": "True vs Predicted Values"
        },
        "xaxis": {
         "title": {
          "text": ""
         }
        },
        "yaxis": {
         "title": {
          "text": ""
         }
        }
       }
      },
      "image/png": "[encoded data removed]"
     },
     "metadata": {},
     "output_type": "display_data"
    }
   ],
   "source": [
    "X_test = torch.tensor(X_test, dtype=torch.float32).to(device)\n",
    "\n",
    "reg_model.eval()\n",
    "\n",
    "with torch.no_grad():\n",
    "    test_preds = reg_model(X_test)\n",
    "    test_preds = test_preds.float().cpu().numpy().flatten()\n",
    "\n",
    "x = np.arange(0, X_test.shape[0])\n",
    "pp.plot_data(\n",
    "    true_vals=pp.create_trace(x, y_test, name=\"True Values\", mode=\"markers\"),\n",
    "    pred_vals=pp.create_trace(x, test_preds, name=\"Predicted Values\", mode=\"markers\"),\n",
    "    title=\"True vs Predicted Values\",\n",
    ")"
   ]
  },
  {
   "cell_type": "markdown",
   "id": "e422779a-91b8-4841-bebf-009fcf74f639",
   "metadata": {},
   "source": [
    "## Binary Classification"
   ]
  },
  {
   "cell_type": "markdown",
   "id": "2317a753-693b-460e-a173-bbc5730ff22e",
   "metadata": {},
   "source": [
    "### Data Loading and Preprocessing"
   ]
  },
  {
   "cell_type": "code",
   "execution_count": 12,
   "id": "d5075163-cba5-4a4c-8ee5-e52437a69347",
   "metadata": {},
   "outputs": [
    {
     "data": {
      "application/vnd.plotly.v1+json": {
       "config": {
        "plotlyServerURL": "https://plot.ly"
       },
       "data": [
        {
         "mode": "markers",
         "name": "",
         "text": "",
         "type": "scatter",
         "x": {
          "bdata": "AAABAAIAAwAEAAUABgAHAAgACQAKAAsADAANAA4ADwAQABEAEgATABQAFQAWABcAGAAZABoAGwAcAB0AHgAfACAAIQAiACMAJAAlACYAJwAoACkAKgArACwALQAuAC8AMAAxADIAMwA0ADUANgA3ADgAOQA6ADsAPAA9AD4APwBAAEEAQgBDAEQARQBGAEcASABJAEoASwBMAE0ATgBPAFAAUQBSAFMAVABVAFYAVwBYAFkAWgBbAFwAXQBeAF8AYABhAGIAYwBkAGUAZgBnAGgAaQBqAGsAbABtAG4AbwBwAHEAcgBzAHQAdQB2AHcAeAB5AHoAewB8AH0AfgB/AIAAgQCCAIMAhACFAIYAhwCIAIkAigCLAIwAjQCOAI8AkACRAJIAkwCUAJUAlgCXAJgAmQCaAJsAnACdAJ4AnwCgAKEAogCjAKQApQCmAKcAqACpAKoAqwCsAK0ArgCvALAAsQCyALMAtAC1ALYAtwC4ALkAugC7ALwAvQC+AL8AwADBAMIAwwDEAMUAxgDHAMgAyQDKAMsAzADNAM4AzwDQANEA0gDTANQA1QDWANcA2ADZANoA2wDcAN0A3gDfAOAA4QDiAOMA5ADlAOYA5wDoAOkA6gDrAOwA7QDuAO8A8ADxAPIA8wD0APUA9gD3APgA+QD6APsA/AD9AP4A/wAAAQEBAgEDAQQBBQEGAQcBCAEJAQoBCwEMAQ0BDgEPARABEQESARMBFAEVARYBFwEYARkBGgEbARwBHQEeAR8BIAEhASIBIwEkASUBJgEnASgBKQEqASsBLAEtAS4BLwEwATEBMgEzATQBNQE2ATcBOAE5AToBOwE8AT0BPgE/AUABQQFCAUMBRAFFAUYBRwFIAUkBSgFLAUwBTQFOAU8BUAFRAVIBUwFUAVUBVgFXAVgBWQFaAVsBXAFdAV4BXwFgAWEBYgFjAWQBZQFmAWcBaAFpAWoBawFsAW0BbgFvAXABcQFyAXMBdAF1AXYBdwF4AXkBegF7AXwBfQF+AX8BgAGBAYIBgwGEAYUBhgGHAYgBiQGKAYsBjAGNAY4BjwGQAZEBkgGTAZQBlQGWAZcBmAGZAZoBmwGcAZ0BngGfAaABoQGiAaMBpAGlAaYBpwGoAakBqgGrAawBrQGuAa8BsAGxAbIBswG0AbUBtgG3AbgBuQG6AbsBvAG9Ab4BvwHAAcEBwgHDAcQBxQHGAccByAHJAcoBywHMAc0BzgHPAdAB0QHSAdMB1AHVAdYB1wHYAdkB2gHbAdwB3QHeAd8B4AHhAeIB4wHkAeUB5gHnAegB6QHqAesB7AHtAe4B7wHwAfEB8gHzAfQB9QH2AfcB+AH5AfoB+wH8Af0B/gH/AQACAQICAgMCBAIFAgYCBwIIAgkCCgILAgwCDQIOAg8CEAIRAhICEwIUAhUCFgIXAhgCGQIaAhsCHAIdAh4CHwIgAiECIgIjAiQCJQImAicCKAIpAioCKwIsAi0CLgIvAjACMQIyAjMCNAI1AjYCNwI4Ag==",
          "dtype": "i2"
         },
         "y": {
          "bdata": "AAAAAAAAAAAAAAAAAAAAAAAAAAEBAQAAAAAAAAAAAAAAAAAAAAEAAAAAAAAAAAEAAQEBAQEAAAEAAAEBAQEAAQAAAQEBAQABAAABAAEAAAEBAQAAAQAAAAEBAQABAQAAAQEBAAABAQEBAAEBAAEBAQEBAQEBAAAAAQAAAQEBAAABAAEAAAEAAAEBAAEBAAEBAQEAAQEBAQEBAQEBAAEBAQEAAAEAAQEAAAEBAAABAQEBAAEBAAAAAQABAAEBAQABAQAAAQAAAAABAAAAAQABAAEBAAEAAAAAAQEAAAEBAQABAQEBAQAAAQEAAQEAAAEAAQEBAQABAQEBAQABAAAAAAAAAAAAAAAAAAABAQEBAQEAAQABAQABAQABAAABAQEBAQEBAQEBAQEBAAEBAAEAAQEBAQEBAQEBAQEBAQEAAQEBAAEAAQEBAQAAAAEBAQEAAQABAAEBAQABAQEBAQEBAAAAAQEBAQEBAQEBAQEAAAEAAAABAAABAQEBAQABAQEBAQABAQEAAQEAAAEBAQEBAQABAQEBAQEBAAEBAQEBAAEBAAEBAQEBAQEBAQEBAQABAAABAAEBAQEBAAEBAAEAAQEAAQABAQEBAQEBAQAAAQEBAQEBAAEBAQEBAQEBAQEAAQEBAQEBAQABAAEBAAEBAQEBAAABAAEAAQEBAQEAAQEAAQABAAABAQEAAQEBAQEBAQEBAQEAAQAAAQEBAQEBAQEBAQEBAQEBAQEBAQEBAQEBAQAAAAAAAAE=",
          "dtype": "i1"
         }
        }
       ],
       "layout": {
        "template": {
         "data": {
          "bar": [
           {
            "error_x": {
             "color": "#2a3f5f"
            },
            "error_y": {
             "color": "#2a3f5f"
            },
            "marker": {
             "line": {
              "color": "#E5ECF6",
              "width": 0.5
             },
             "pattern": {
              "fillmode": "overlay",
              "size": 10,
              "solidity": 0.2
             }
            },
            "type": "bar"
           }
          ],
          "barpolar": [
           {
            "marker": {
             "line": {
              "color": "#E5ECF6",
              "width": 0.5
             },
             "pattern": {
              "fillmode": "overlay",
              "size": 10,
              "solidity": 0.2
             }
            },
            "type": "barpolar"
           }
          ],
          "carpet": [
           {
            "aaxis": {
             "endlinecolor": "#2a3f5f",
             "gridcolor": "white",
             "linecolor": "white",
             "minorgridcolor": "white",
             "startlinecolor": "#2a3f5f"
            },
            "baxis": {
             "endlinecolor": "#2a3f5f",
             "gridcolor": "white",
             "linecolor": "white",
             "minorgridcolor": "white",
             "startlinecolor": "#2a3f5f"
            },
            "type": "carpet"
           }
          ],
          "choropleth": [
           {
            "colorbar": {
             "outlinewidth": 0,
             "ticks": ""
            },
            "type": "choropleth"
           }
          ],
          "contour": [
           {
            "colorbar": {
             "outlinewidth": 0,
             "ticks": ""
            },
            "colorscale": [
             [
              0,
              "#0d0887"
             ],
             [
              0.1111111111111111,
              "#46039f"
             ],
             [
              0.2222222222222222,
              "#7201a8"
             ],
             [
              0.3333333333333333,
              "#9c179e"
             ],
             [
              0.4444444444444444,
              "#bd3786"
             ],
             [
              0.5555555555555556,
              "#d8576b"
             ],
             [
              0.6666666666666666,
              "#ed7953"
             ],
             [
              0.7777777777777778,
              "#fb9f3a"
             ],
             [
              0.8888888888888888,
              "#fdca26"
             ],
             [
              1,
              "#f0f921"
             ]
            ],
            "type": "contour"
           }
          ],
          "contourcarpet": [
           {
            "colorbar": {
             "outlinewidth": 0,
             "ticks": ""
            },
            "type": "contourcarpet"
           }
          ],
          "heatmap": [
           {
            "colorbar": {
             "outlinewidth": 0,
             "ticks": ""
            },
            "colorscale": [
             [
              0,
              "#0d0887"
             ],
             [
              0.1111111111111111,
              "#46039f"
             ],
             [
              0.2222222222222222,
              "#7201a8"
             ],
             [
              0.3333333333333333,
              "#9c179e"
             ],
             [
              0.4444444444444444,
              "#bd3786"
             ],
             [
              0.5555555555555556,
              "#d8576b"
             ],
             [
              0.6666666666666666,
              "#ed7953"
             ],
             [
              0.7777777777777778,
              "#fb9f3a"
             ],
             [
              0.8888888888888888,
              "#fdca26"
             ],
             [
              1,
              "#f0f921"
             ]
            ],
            "type": "heatmap"
           }
          ],
          "histogram": [
           {
            "marker": {
             "pattern": {
              "fillmode": "overlay",
              "size": 10,
              "solidity": 0.2
             }
            },
            "type": "histogram"
           }
          ],
          "histogram2d": [
           {
            "colorbar": {
             "outlinewidth": 0,
             "ticks": ""
            },
            "colorscale": [
             [
              0,
              "#0d0887"
             ],
             [
              0.1111111111111111,
              "#46039f"
             ],
             [
              0.2222222222222222,
              "#7201a8"
             ],
             [
              0.3333333333333333,
              "#9c179e"
             ],
             [
              0.4444444444444444,
              "#bd3786"
             ],
             [
              0.5555555555555556,
              "#d8576b"
             ],
             [
              0.6666666666666666,
              "#ed7953"
             ],
             [
              0.7777777777777778,
              "#fb9f3a"
             ],
             [
              0.8888888888888888,
              "#fdca26"
             ],
             [
              1,
              "#f0f921"
             ]
            ],
            "type": "histogram2d"
           }
          ],
          "histogram2dcontour": [
           {
            "colorbar": {
             "outlinewidth": 0,
             "ticks": ""
            },
            "colorscale": [
             [
              0,
              "#0d0887"
             ],
             [
              0.1111111111111111,
              "#46039f"
             ],
             [
              0.2222222222222222,
              "#7201a8"
             ],
             [
              0.3333333333333333,
              "#9c179e"
             ],
             [
              0.4444444444444444,
              "#bd3786"
             ],
             [
              0.5555555555555556,
              "#d8576b"
             ],
             [
              0.6666666666666666,
              "#ed7953"
             ],
             [
              0.7777777777777778,
              "#fb9f3a"
             ],
             [
              0.8888888888888888,
              "#fdca26"
             ],
             [
              1,
              "#f0f921"
             ]
            ],
            "type": "histogram2dcontour"
           }
          ],
          "mesh3d": [
           {
            "colorbar": {
             "outlinewidth": 0,
             "ticks": ""
            },
            "type": "mesh3d"
           }
          ],
          "parcoords": [
           {
            "line": {
             "colorbar": {
              "outlinewidth": 0,
              "ticks": ""
             }
            },
            "type": "parcoords"
           }
          ],
          "pie": [
           {
            "automargin": true,
            "type": "pie"
           }
          ],
          "scatter": [
           {
            "fillpattern": {
             "fillmode": "overlay",
             "size": 10,
             "solidity": 0.2
            },
            "type": "scatter"
           }
          ],
          "scatter3d": [
           {
            "line": {
             "colorbar": {
              "outlinewidth": 0,
              "ticks": ""
             }
            },
            "marker": {
             "colorbar": {
              "outlinewidth": 0,
              "ticks": ""
             }
            },
            "type": "scatter3d"
           }
          ],
          "scattercarpet": [
           {
            "marker": {
             "colorbar": {
              "outlinewidth": 0,
              "ticks": ""
             }
            },
            "type": "scattercarpet"
           }
          ],
          "scattergeo": [
           {
            "marker": {
             "colorbar": {
              "outlinewidth": 0,
              "ticks": ""
             }
            },
            "type": "scattergeo"
           }
          ],
          "scattergl": [
           {
            "marker": {
             "colorbar": {
              "outlinewidth": 0,
              "ticks": ""
             }
            },
            "type": "scattergl"
           }
          ],
          "scattermap": [
           {
            "marker": {
             "colorbar": {
              "outlinewidth": 0,
              "ticks": ""
             }
            },
            "type": "scattermap"
           }
          ],
          "scattermapbox": [
           {
            "marker": {
             "colorbar": {
              "outlinewidth": 0,
              "ticks": ""
             }
            },
            "type": "scattermapbox"
           }
          ],
          "scatterpolar": [
           {
            "marker": {
             "colorbar": {
              "outlinewidth": 0,
              "ticks": ""
             }
            },
            "type": "scatterpolar"
           }
          ],
          "scatterpolargl": [
           {
            "marker": {
             "colorbar": {
              "outlinewidth": 0,
              "ticks": ""
             }
            },
            "type": "scatterpolargl"
           }
          ],
          "scatterternary": [
           {
            "marker": {
             "colorbar": {
              "outlinewidth": 0,
              "ticks": ""
             }
            },
            "type": "scatterternary"
           }
          ],
          "surface": [
           {
            "colorbar": {
             "outlinewidth": 0,
             "ticks": ""
            },
            "colorscale": [
             [
              0,
              "#0d0887"
             ],
             [
              0.1111111111111111,
              "#46039f"
             ],
             [
              0.2222222222222222,
              "#7201a8"
             ],
             [
              0.3333333333333333,
              "#9c179e"
             ],
             [
              0.4444444444444444,
              "#bd3786"
             ],
             [
              0.5555555555555556,
              "#d8576b"
             ],
             [
              0.6666666666666666,
              "#ed7953"
             ],
             [
              0.7777777777777778,
              "#fb9f3a"
             ],
             [
              0.8888888888888888,
              "#fdca26"
             ],
             [
              1,
              "#f0f921"
             ]
            ],
            "type": "surface"
           }
          ],
          "table": [
           {
            "cells": {
             "fill": {
              "color": "#EBF0F8"
             },
             "line": {
              "color": "white"
             }
            },
            "header": {
             "fill": {
              "color": "#C8D4E3"
             },
             "line": {
              "color": "white"
             }
            },
            "type": "table"
           }
          ]
         },
         "layout": {
          "annotationdefaults": {
           "arrowcolor": "#2a3f5f",
           "arrowhead": 0,
           "arrowwidth": 1
          },
          "autotypenumbers": "strict",
          "coloraxis": {
           "colorbar": {
            "outlinewidth": 0,
            "ticks": ""
           }
          },
          "colorscale": {
           "diverging": [
            [
             0,
             "#8e0152"
            ],
            [
             0.1,
             "#c51b7d"
            ],
            [
             0.2,
             "#de77ae"
            ],
            [
             0.3,
             "#f1b6da"
            ],
            [
             0.4,
             "#fde0ef"
            ],
            [
             0.5,
             "#f7f7f7"
            ],
            [
             0.6,
             "#e6f5d0"
            ],
            [
             0.7,
             "#b8e186"
            ],
            [
             0.8,
             "#7fbc41"
            ],
            [
             0.9,
             "#4d9221"
            ],
            [
             1,
             "#276419"
            ]
           ],
           "sequential": [
            [
             0,
             "#0d0887"
            ],
            [
             0.1111111111111111,
             "#46039f"
            ],
            [
             0.2222222222222222,
             "#7201a8"
            ],
            [
             0.3333333333333333,
             "#9c179e"
            ],
            [
             0.4444444444444444,
             "#bd3786"
            ],
            [
             0.5555555555555556,
             "#d8576b"
            ],
            [
             0.6666666666666666,
             "#ed7953"
            ],
            [
             0.7777777777777778,
             "#fb9f3a"
            ],
            [
             0.8888888888888888,
             "#fdca26"
            ],
            [
             1,
             "#f0f921"
            ]
           ],
           "sequentialminus": [
            [
             0,
             "#0d0887"
            ],
            [
             0.1111111111111111,
             "#46039f"
            ],
            [
             0.2222222222222222,
             "#7201a8"
            ],
            [
             0.3333333333333333,
             "#9c179e"
            ],
            [
             0.4444444444444444,
             "#bd3786"
            ],
            [
             0.5555555555555556,
             "#d8576b"
            ],
            [
             0.6666666666666666,
             "#ed7953"
            ],
            [
             0.7777777777777778,
             "#fb9f3a"
            ],
            [
             0.8888888888888888,
             "#fdca26"
            ],
            [
             1,
             "#f0f921"
            ]
           ]
          },
          "colorway": [
           "#636efa",
           "#EF553B",
           "#00cc96",
           "#ab63fa",
           "#FFA15A",
           "#19d3f3",
           "#FF6692",
           "#B6E880",
           "#FF97FF",
           "#FECB52"
          ],
          "font": {
           "color": "#2a3f5f"
          },
          "geo": {
           "bgcolor": "white",
           "lakecolor": "white",
           "landcolor": "#E5ECF6",
           "showlakes": true,
           "showland": true,
           "subunitcolor": "white"
          },
          "hoverlabel": {
           "align": "left"
          },
          "hovermode": "closest",
          "mapbox": {
           "style": "light"
          },
          "paper_bgcolor": "white",
          "plot_bgcolor": "#E5ECF6",
          "polar": {
           "angularaxis": {
            "gridcolor": "white",
            "linecolor": "white",
            "ticks": ""
           },
           "bgcolor": "#E5ECF6",
           "radialaxis": {
            "gridcolor": "white",
            "linecolor": "white",
            "ticks": ""
           }
          },
          "scene": {
           "xaxis": {
            "backgroundcolor": "#E5ECF6",
            "gridcolor": "white",
            "gridwidth": 2,
            "linecolor": "white",
            "showbackground": true,
            "ticks": "",
            "zerolinecolor": "white"
           },
           "yaxis": {
            "backgroundcolor": "#E5ECF6",
            "gridcolor": "white",
            "gridwidth": 2,
            "linecolor": "white",
            "showbackground": true,
            "ticks": "",
            "zerolinecolor": "white"
           },
           "zaxis": {
            "backgroundcolor": "#E5ECF6",
            "gridcolor": "white",
            "gridwidth": 2,
            "linecolor": "white",
            "showbackground": true,
            "ticks": "",
            "zerolinecolor": "white"
           }
          },
          "shapedefaults": {
           "line": {
            "color": "#2a3f5f"
           }
          },
          "ternary": {
           "aaxis": {
            "gridcolor": "white",
            "linecolor": "white",
            "ticks": ""
           },
           "baxis": {
            "gridcolor": "white",
            "linecolor": "white",
            "ticks": ""
           },
           "bgcolor": "#E5ECF6",
           "caxis": {
            "gridcolor": "white",
            "linecolor": "white",
            "ticks": ""
           }
          },
          "title": {
           "x": 0.05
          },
          "xaxis": {
           "automargin": true,
           "gridcolor": "white",
           "linecolor": "white",
           "ticks": "",
           "title": {
            "standoff": 15
           },
           "zerolinecolor": "white",
           "zerolinewidth": 2
          },
          "yaxis": {
           "automargin": true,
           "gridcolor": "white",
           "linecolor": "white",
           "ticks": "",
           "title": {
            "standoff": 15
           },
           "zerolinecolor": "white",
           "zerolinewidth": 2
          }
         }
        },
        "title": {
         "text": ""
        },
        "xaxis": {
         "title": {
          "text": "X-axis"
         }
        },
        "yaxis": {
         "title": {
          "text": "y-axis"
         }
        }
       }
      },
      "image/png": "[encoded data removed]"
     },
     "metadata": {},
     "output_type": "display_data"
    }
   ],
   "source": [
    "# Get breast cancer data\n",
    "X, y = load_breast_cancer(return_X_y=True)\n",
    "x = np.arange(0, y.shape[0])\n",
    "pp.plot_data(x, y, x_label=\"X-axis\", y_label=\"y-axis\")\n",
    "\n",
    "# # Generate random data\n",
    "# X, y = make_classification(n_samples=1000, n_features=100, n_classes=2)\n",
    "# x = np.arange(0, y.shape[0])\n",
    "# pp.plot_data(x, y, x_label=\"X-axis\", y_label=\"y-axis\")"
   ]
  },
  {
   "cell_type": "code",
   "execution_count": 13,
   "id": "75b58eeb-3e01-4276-86f5-36660f5e8a03",
   "metadata": {},
   "outputs": [
    {
     "name": "stdout",
     "output_type": "stream",
     "text": [
      "X_train: (364, 30)\n",
      "y_train: (364,)\n",
      "X_val: (91, 30)\n",
      "y_val: (91,)\n",
      "X_test: (114, 30)\n",
      "y_test: (114,)\n"
     ]
    }
   ],
   "source": [
    "# Dataloading parameters\n",
    "batch_size = 8\n",
    "test_size = 0.2\n",
    "val_size = 0.2\n",
    "\n",
    "# Split the data\n",
    "X_train, X_test, y_train, y_test = train_test_split(X, y, test_size=test_size, random_state=42)\n",
    "X_train, X_val, y_train, y_val = train_test_split(X_train, y_train, test_size=val_size, random_state=42)\n",
    "\n",
    "print(f\"X_train: {X_train.shape}\")\n",
    "print(f\"y_train: {y_train.shape}\")\n",
    "print(f\"X_val: {X_val.shape}\")\n",
    "print(f\"y_val: {y_val.shape}\")\n",
    "print(f\"X_test: {X_test.shape}\")\n",
    "print(f\"y_test: {y_test.shape}\")"
   ]
  },
  {
   "cell_type": "code",
   "execution_count": 14,
   "id": "cf42bcad-a422-4d76-9b36-59c52e6b0229",
   "metadata": {},
   "outputs": [],
   "source": [
    "# Get tensors and dataloaders\n",
    "X_train, y_train, X_val, y_val = get_tensors(X_train, y_train, X_val, y_val)\n",
    "train_loader, val_loader = get_data_loaders(X_train, y_train, X_val, y_val, batch_size)"
   ]
  },
  {
   "cell_type": "markdown",
   "id": "ed7b51bb-bac2-4f78-943d-1d9b17440618",
   "metadata": {},
   "source": [
    "### Building the Model"
   ]
  },
  {
   "cell_type": "code",
   "execution_count": 15,
   "id": "711faf91-ff18-4c67-8a7e-b809ab7c9fcc",
   "metadata": {},
   "outputs": [
    {
     "name": "stdout",
     "output_type": "stream",
     "text": [
      "MLP(\n",
      "  (model): ModuleList(\n",
      "    (0): Linear(in_features=30, out_features=1, bias=True)\n",
      "    (1): Sigmoid()\n",
      "  )\n",
      ")\n",
      "Number of trainable parameters: 31\n"
     ]
    }
   ],
   "source": [
    "# Training parameters\n",
    "num_train_epochs = 20\n",
    "l_rate = 1e-02\n",
    "pred_threshold = 0.5\n",
    "loss_choice = \"binary\"\n",
    "optim_choice = \"adam\"\n",
    "\n",
    "# Create configuration for model layers\n",
    "layer_config_1 = [ # a simple logistic regression model (a perceptron)\n",
    "    (X_train.shape[1], None, None),\n",
    "    (1, \"sigmoid\", None),\n",
    "]\n",
    "\n",
    "layer_config_2 = [ # a multi-layer perceptron\n",
    "    (X_train.shape[1], None, None),\n",
    "    (200, \"relu\", None),\n",
    "    (300, \"relu\", None),\n",
    "    (400, \"relu\", 0.1),\n",
    "    (200, \"relu\", None),\n",
    "    (1, \"sigmoid\", None),\n",
    "]\n",
    "\n",
    "# Initialise model\n",
    "b_cls_model = MLP(layer_config=layer_config_1, model_name=\"BinClsModel\")\n",
    "b_cls_model.set_model_layers()\n",
    "\n",
    "# Initialise model parameters\n",
    "b_cls_model.apply(lambda m: param_init(m, \"xavier\"))\n",
    "\n",
    "# Move model to selected device\n",
    "b_cls_model.to(device)\n",
    "\n",
    "print(b_cls_model)\n",
    "print(f\"Number of trainable parameters: {sum(p.numel() for p in b_cls_model.parameters())}\")"
   ]
  },
  {
   "cell_type": "markdown",
   "id": "17f985a7-4b7e-473f-9297-f002bb270139",
   "metadata": {},
   "source": [
    "### Training the Model"
   ]
  },
  {
   "cell_type": "markdown",
   "id": "7f534fa6-adf0-4a96-aac5-244314c08c9b",
   "metadata": {},
   "source": [
    "#### Loss Function and Optimiser"
   ]
  },
  {
   "cell_type": "code",
   "execution_count": 16,
   "id": "0cbc6be8-e3ad-47b9-94e0-3c41d6935aad",
   "metadata": {},
   "outputs": [],
   "source": [
    "loss_fn = get_loss_fn(loss_choice)  # Binary cross-entropy loss because this a binary classification task\n",
    "optimiser = get_optimiser(optim_choice, reg_model, l_rate) # adam"
   ]
  },
  {
   "cell_type": "markdown",
   "id": "ecb0a45f-d891-4c89-be55-048e80492178",
   "metadata": {},
   "source": [
    "#### Training Loop"
   ]
  },
  {
   "cell_type": "code",
   "execution_count": 17,
   "id": "0442efa7-fa86-45cb-aab3-9b74a6bb4279",
   "metadata": {},
   "outputs": [
    {
     "name": "stdout",
     "output_type": "stream",
     "text": [
      "    |                       TRAINING SET                       ||                      VALIDATION SET                      |\n",
      "    |   Loss   || Accuracy || Precison ||  Recall  ||    F1    ||   Loss   || Accuracy || Precison ||  Recall  ||    F1    |\n",
      "001 | 2.89e+02 || 6.35e-01 || 6.35e-01 || 1.00e+00 || 7.76e-01 || 3.75e+01 || 6.04e-01 || 6.04e-01 || 1.00e+00 || 7.53e-01 |\n",
      "002 | 2.89e+02 || 6.35e-01 || 6.35e-01 || 1.00e+00 || 7.76e-01 || 3.75e+01 || 6.04e-01 || 6.04e-01 || 1.00e+00 || 7.53e-01 |\n",
      "003 | 2.89e+02 || 6.35e-01 || 6.35e-01 || 1.00e+00 || 7.76e-01 || 3.75e+01 || 6.04e-01 || 6.04e-01 || 1.00e+00 || 7.53e-01 |\n",
      "004 | 2.89e+02 || 6.35e-01 || 6.35e-01 || 1.00e+00 || 7.76e-01 || 3.75e+01 || 6.04e-01 || 6.04e-01 || 1.00e+00 || 7.53e-01 |\n",
      "005 | 2.89e+02 || 6.35e-01 || 6.35e-01 || 1.00e+00 || 7.76e-01 || 3.75e+01 || 6.04e-01 || 6.04e-01 || 1.00e+00 || 7.53e-01 |\n",
      "006 | 2.89e+02 || 6.35e-01 || 6.35e-01 || 1.00e+00 || 7.76e-01 || 3.75e+01 || 6.04e-01 || 6.04e-01 || 1.00e+00 || 7.53e-01 |\n",
      "007 | 2.89e+02 || 6.35e-01 || 6.35e-01 || 1.00e+00 || 7.76e-01 || 3.75e+01 || 6.04e-01 || 6.04e-01 || 1.00e+00 || 7.53e-01 |\n",
      "008 | 2.89e+02 || 6.35e-01 || 6.35e-01 || 1.00e+00 || 7.76e-01 || 3.75e+01 || 6.04e-01 || 6.04e-01 || 1.00e+00 || 7.53e-01 |\n",
      "009 | 2.89e+02 || 6.35e-01 || 6.35e-01 || 1.00e+00 || 7.76e-01 || 3.75e+01 || 6.04e-01 || 6.04e-01 || 1.00e+00 || 7.53e-01 |\n",
      "010 | 2.89e+02 || 6.35e-01 || 6.35e-01 || 1.00e+00 || 7.76e-01 || 3.75e+01 || 6.04e-01 || 6.04e-01 || 1.00e+00 || 7.53e-01 |\n",
      "011 | 2.89e+02 || 6.35e-01 || 6.35e-01 || 1.00e+00 || 7.76e-01 || 3.75e+01 || 6.04e-01 || 6.04e-01 || 1.00e+00 || 7.53e-01 |\n",
      "012 | 2.89e+02 || 6.35e-01 || 6.35e-01 || 1.00e+00 || 7.76e-01 || 3.75e+01 || 6.04e-01 || 6.04e-01 || 1.00e+00 || 7.53e-01 |\n",
      "013 | 2.89e+02 || 6.35e-01 || 6.35e-01 || 1.00e+00 || 7.76e-01 || 3.75e+01 || 6.04e-01 || 6.04e-01 || 1.00e+00 || 7.53e-01 |\n",
      "014 | 2.89e+02 || 6.35e-01 || 6.35e-01 || 1.00e+00 || 7.76e-01 || 3.75e+01 || 6.04e-01 || 6.04e-01 || 1.00e+00 || 7.53e-01 |\n",
      "015 | 2.89e+02 || 6.35e-01 || 6.35e-01 || 1.00e+00 || 7.76e-01 || 3.75e+01 || 6.04e-01 || 6.04e-01 || 1.00e+00 || 7.53e-01 |\n",
      "016 | 2.89e+02 || 6.35e-01 || 6.35e-01 || 1.00e+00 || 7.76e-01 || 3.75e+01 || 6.04e-01 || 6.04e-01 || 1.00e+00 || 7.53e-01 |\n",
      "017 | 2.89e+02 || 6.35e-01 || 6.35e-01 || 1.00e+00 || 7.76e-01 || 3.75e+01 || 6.04e-01 || 6.04e-01 || 1.00e+00 || 7.53e-01 |\n",
      "018 | 2.89e+02 || 6.35e-01 || 6.35e-01 || 1.00e+00 || 7.76e-01 || 3.75e+01 || 6.04e-01 || 6.04e-01 || 1.00e+00 || 7.53e-01 |\n",
      "019 | 2.89e+02 || 6.35e-01 || 6.35e-01 || 1.00e+00 || 7.76e-01 || 3.75e+01 || 6.04e-01 || 6.04e-01 || 1.00e+00 || 7.53e-01 |\n",
      "020 | 2.89e+02 || 6.35e-01 || 6.35e-01 || 1.00e+00 || 7.76e-01 || 3.75e+01 || 6.04e-01 || 6.04e-01 || 1.00e+00 || 7.53e-01 |\n"
     ]
    }
   ],
   "source": [
    "b_cls_trainer = MLPTrainer(type=\"cls\", is_multiclass=False)\n",
    "\n",
    "b_cls_trainer.train(\n",
    "    b_cls_model,\n",
    "    num_train_epochs,\n",
    "    optimiser,\n",
    "    loss_fn,\n",
    "    train_loader,\n",
    "    val_loader,\n",
    "    pred_threshold=pred_threshold,\n",
    "    device=device,\n",
    ")"
   ]
  },
  {
   "cell_type": "markdown",
   "id": "2ad69290-feb5-42c4-bf19-88986bd598ce",
   "metadata": {},
   "source": [
    "#### Visualising Training Results"
   ]
  },
  {
   "cell_type": "code",
   "execution_count": 18,
   "id": "2379dbae-d15a-440c-b362-32c4bc80d13f",
   "metadata": {},
   "outputs": [
    {
     "data": {
      "application/vnd.plotly.v1+json": {
       "config": {
        "plotlyServerURL": "https://plot.ly"
       },
       "data": [
        {
         "mode": "lines+markers",
         "name": "Training Loss",
         "text": "",
         "type": "scatter",
         "x": {
          "bdata": "AQIDBAUGBwgJCgsMDQ4PEBESExQ=",
          "dtype": "i1"
         },
         "y": [
          289.1304347826087,
          289.1304347826087,
          289.1304347826087,
          289.1304347826087,
          289.1304347826087,
          289.1304347826087,
          289.1304347826087,
          289.1304347826087,
          289.1304347826087,
          289.1304347826087,
          289.1304347826087,
          289.1304347826087,
          289.1304347826087,
          289.1304347826087,
          289.1304347826087,
          289.1304347826087,
          289.1304347826087,
          289.1304347826087,
          289.1304347826087,
          289.1304347826087
         ]
        },
        {
         "mode": "lines+markers",
         "name": "Validation Loss",
         "text": "",
         "type": "scatter",
         "x": {
          "bdata": "AQIDBAUGBwgJCgsMDQ4PEBESExQ=",
          "dtype": "i1"
         },
         "y": [
          37.5,
          37.5,
          37.5,
          37.5,
          37.5,
          37.5,
          37.5,
          37.5,
          37.5,
          37.5,
          37.5,
          37.5,
          37.5,
          37.5,
          37.5,
          37.5,
          37.5,
          37.5,
          37.5,
          37.5
         ]
        }
       ],
       "layout": {
        "template": {
         "data": {
          "bar": [
           {
            "error_x": {
             "color": "#2a3f5f"
            },
            "error_y": {
             "color": "#2a3f5f"
            },
            "marker": {
             "line": {
              "color": "#E5ECF6",
              "width": 0.5
             },
             "pattern": {
              "fillmode": "overlay",
              "size": 10,
              "solidity": 0.2
             }
            },
            "type": "bar"
           }
          ],
          "barpolar": [
           {
            "marker": {
             "line": {
              "color": "#E5ECF6",
              "width": 0.5
             },
             "pattern": {
              "fillmode": "overlay",
              "size": 10,
              "solidity": 0.2
             }
            },
            "type": "barpolar"
           }
          ],
          "carpet": [
           {
            "aaxis": {
             "endlinecolor": "#2a3f5f",
             "gridcolor": "white",
             "linecolor": "white",
             "minorgridcolor": "white",
             "startlinecolor": "#2a3f5f"
            },
            "baxis": {
             "endlinecolor": "#2a3f5f",
             "gridcolor": "white",
             "linecolor": "white",
             "minorgridcolor": "white",
             "startlinecolor": "#2a3f5f"
            },
            "type": "carpet"
           }
          ],
          "choropleth": [
           {
            "colorbar": {
             "outlinewidth": 0,
             "ticks": ""
            },
            "type": "choropleth"
           }
          ],
          "contour": [
           {
            "colorbar": {
             "outlinewidth": 0,
             "ticks": ""
            },
            "colorscale": [
             [
              0,
              "#0d0887"
             ],
             [
              0.1111111111111111,
              "#46039f"
             ],
             [
              0.2222222222222222,
              "#7201a8"
             ],
             [
              0.3333333333333333,
              "#9c179e"
             ],
             [
              0.4444444444444444,
              "#bd3786"
             ],
             [
              0.5555555555555556,
              "#d8576b"
             ],
             [
              0.6666666666666666,
              "#ed7953"
             ],
             [
              0.7777777777777778,
              "#fb9f3a"
             ],
             [
              0.8888888888888888,
              "#fdca26"
             ],
             [
              1,
              "#f0f921"
             ]
            ],
            "type": "contour"
           }
          ],
          "contourcarpet": [
           {
            "colorbar": {
             "outlinewidth": 0,
             "ticks": ""
            },
            "type": "contourcarpet"
           }
          ],
          "heatmap": [
           {
            "colorbar": {
             "outlinewidth": 0,
             "ticks": ""
            },
            "colorscale": [
             [
              0,
              "#0d0887"
             ],
             [
              0.1111111111111111,
              "#46039f"
             ],
             [
              0.2222222222222222,
              "#7201a8"
             ],
             [
              0.3333333333333333,
              "#9c179e"
             ],
             [
              0.4444444444444444,
              "#bd3786"
             ],
             [
              0.5555555555555556,
              "#d8576b"
             ],
             [
              0.6666666666666666,
              "#ed7953"
             ],
             [
              0.7777777777777778,
              "#fb9f3a"
             ],
             [
              0.8888888888888888,
              "#fdca26"
             ],
             [
              1,
              "#f0f921"
             ]
            ],
            "type": "heatmap"
           }
          ],
          "histogram": [
           {
            "marker": {
             "pattern": {
              "fillmode": "overlay",
              "size": 10,
              "solidity": 0.2
             }
            },
            "type": "histogram"
           }
          ],
          "histogram2d": [
           {
            "colorbar": {
             "outlinewidth": 0,
             "ticks": ""
            },
            "colorscale": [
             [
              0,
              "#0d0887"
             ],
             [
              0.1111111111111111,
              "#46039f"
             ],
             [
              0.2222222222222222,
              "#7201a8"
             ],
             [
              0.3333333333333333,
              "#9c179e"
             ],
             [
              0.4444444444444444,
              "#bd3786"
             ],
             [
              0.5555555555555556,
              "#d8576b"
             ],
             [
              0.6666666666666666,
              "#ed7953"
             ],
             [
              0.7777777777777778,
              "#fb9f3a"
             ],
             [
              0.8888888888888888,
              "#fdca26"
             ],
             [
              1,
              "#f0f921"
             ]
            ],
            "type": "histogram2d"
           }
          ],
          "histogram2dcontour": [
           {
            "colorbar": {
             "outlinewidth": 0,
             "ticks": ""
            },
            "colorscale": [
             [
              0,
              "#0d0887"
             ],
             [
              0.1111111111111111,
              "#46039f"
             ],
             [
              0.2222222222222222,
              "#7201a8"
             ],
             [
              0.3333333333333333,
              "#9c179e"
             ],
             [
              0.4444444444444444,
              "#bd3786"
             ],
             [
              0.5555555555555556,
              "#d8576b"
             ],
             [
              0.6666666666666666,
              "#ed7953"
             ],
             [
              0.7777777777777778,
              "#fb9f3a"
             ],
             [
              0.8888888888888888,
              "#fdca26"
             ],
             [
              1,
              "#f0f921"
             ]
            ],
            "type": "histogram2dcontour"
           }
          ],
          "mesh3d": [
           {
            "colorbar": {
             "outlinewidth": 0,
             "ticks": ""
            },
            "type": "mesh3d"
           }
          ],
          "parcoords": [
           {
            "line": {
             "colorbar": {
              "outlinewidth": 0,
              "ticks": ""
             }
            },
            "type": "parcoords"
           }
          ],
          "pie": [
           {
            "automargin": true,
            "type": "pie"
           }
          ],
          "scatter": [
           {
            "fillpattern": {
             "fillmode": "overlay",
             "size": 10,
             "solidity": 0.2
            },
            "type": "scatter"
           }
          ],
          "scatter3d": [
           {
            "line": {
             "colorbar": {
              "outlinewidth": 0,
              "ticks": ""
             }
            },
            "marker": {
             "colorbar": {
              "outlinewidth": 0,
              "ticks": ""
             }
            },
            "type": "scatter3d"
           }
          ],
          "scattercarpet": [
           {
            "marker": {
             "colorbar": {
              "outlinewidth": 0,
              "ticks": ""
             }
            },
            "type": "scattercarpet"
           }
          ],
          "scattergeo": [
           {
            "marker": {
             "colorbar": {
              "outlinewidth": 0,
              "ticks": ""
             }
            },
            "type": "scattergeo"
           }
          ],
          "scattergl": [
           {
            "marker": {
             "colorbar": {
              "outlinewidth": 0,
              "ticks": ""
             }
            },
            "type": "scattergl"
           }
          ],
          "scattermap": [
           {
            "marker": {
             "colorbar": {
              "outlinewidth": 0,
              "ticks": ""
             }
            },
            "type": "scattermap"
           }
          ],
          "scattermapbox": [
           {
            "marker": {
             "colorbar": {
              "outlinewidth": 0,
              "ticks": ""
             }
            },
            "type": "scattermapbox"
           }
          ],
          "scatterpolar": [
           {
            "marker": {
             "colorbar": {
              "outlinewidth": 0,
              "ticks": ""
             }
            },
            "type": "scatterpolar"
           }
          ],
          "scatterpolargl": [
           {
            "marker": {
             "colorbar": {
              "outlinewidth": 0,
              "ticks": ""
             }
            },
            "type": "scatterpolargl"
           }
          ],
          "scatterternary": [
           {
            "marker": {
             "colorbar": {
              "outlinewidth": 0,
              "ticks": ""
             }
            },
            "type": "scatterternary"
           }
          ],
          "surface": [
           {
            "colorbar": {
             "outlinewidth": 0,
             "ticks": ""
            },
            "colorscale": [
             [
              0,
              "#0d0887"
             ],
             [
              0.1111111111111111,
              "#46039f"
             ],
             [
              0.2222222222222222,
              "#7201a8"
             ],
             [
              0.3333333333333333,
              "#9c179e"
             ],
             [
              0.4444444444444444,
              "#bd3786"
             ],
             [
              0.5555555555555556,
              "#d8576b"
             ],
             [
              0.6666666666666666,
              "#ed7953"
             ],
             [
              0.7777777777777778,
              "#fb9f3a"
             ],
             [
              0.8888888888888888,
              "#fdca26"
             ],
             [
              1,
              "#f0f921"
             ]
            ],
            "type": "surface"
           }
          ],
          "table": [
           {
            "cells": {
             "fill": {
              "color": "#EBF0F8"
             },
             "line": {
              "color": "white"
             }
            },
            "header": {
             "fill": {
              "color": "#C8D4E3"
             },
             "line": {
              "color": "white"
             }
            },
            "type": "table"
           }
          ]
         },
         "layout": {
          "annotationdefaults": {
           "arrowcolor": "#2a3f5f",
           "arrowhead": 0,
           "arrowwidth": 1
          },
          "autotypenumbers": "strict",
          "coloraxis": {
           "colorbar": {
            "outlinewidth": 0,
            "ticks": ""
           }
          },
          "colorscale": {
           "diverging": [
            [
             0,
             "#8e0152"
            ],
            [
             0.1,
             "#c51b7d"
            ],
            [
             0.2,
             "#de77ae"
            ],
            [
             0.3,
             "#f1b6da"
            ],
            [
             0.4,
             "#fde0ef"
            ],
            [
             0.5,
             "#f7f7f7"
            ],
            [
             0.6,
             "#e6f5d0"
            ],
            [
             0.7,
             "#b8e186"
            ],
            [
             0.8,
             "#7fbc41"
            ],
            [
             0.9,
             "#4d9221"
            ],
            [
             1,
             "#276419"
            ]
           ],
           "sequential": [
            [
             0,
             "#0d0887"
            ],
            [
             0.1111111111111111,
             "#46039f"
            ],
            [
             0.2222222222222222,
             "#7201a8"
            ],
            [
             0.3333333333333333,
             "#9c179e"
            ],
            [
             0.4444444444444444,
             "#bd3786"
            ],
            [
             0.5555555555555556,
             "#d8576b"
            ],
            [
             0.6666666666666666,
             "#ed7953"
            ],
            [
             0.7777777777777778,
             "#fb9f3a"
            ],
            [
             0.8888888888888888,
             "#fdca26"
            ],
            [
             1,
             "#f0f921"
            ]
           ],
           "sequentialminus": [
            [
             0,
             "#0d0887"
            ],
            [
             0.1111111111111111,
             "#46039f"
            ],
            [
             0.2222222222222222,
             "#7201a8"
            ],
            [
             0.3333333333333333,
             "#9c179e"
            ],
            [
             0.4444444444444444,
             "#bd3786"
            ],
            [
             0.5555555555555556,
             "#d8576b"
            ],
            [
             0.6666666666666666,
             "#ed7953"
            ],
            [
             0.7777777777777778,
             "#fb9f3a"
            ],
            [
             0.8888888888888888,
             "#fdca26"
            ],
            [
             1,
             "#f0f921"
            ]
           ]
          },
          "colorway": [
           "#636efa",
           "#EF553B",
           "#00cc96",
           "#ab63fa",
           "#FFA15A",
           "#19d3f3",
           "#FF6692",
           "#B6E880",
           "#FF97FF",
           "#FECB52"
          ],
          "font": {
           "color": "#2a3f5f"
          },
          "geo": {
           "bgcolor": "white",
           "lakecolor": "white",
           "landcolor": "#E5ECF6",
           "showlakes": true,
           "showland": true,
           "subunitcolor": "white"
          },
          "hoverlabel": {
           "align": "left"
          },
          "hovermode": "closest",
          "mapbox": {
           "style": "light"
          },
          "paper_bgcolor": "white",
          "plot_bgcolor": "#E5ECF6",
          "polar": {
           "angularaxis": {
            "gridcolor": "white",
            "linecolor": "white",
            "ticks": ""
           },
           "bgcolor": "#E5ECF6",
           "radialaxis": {
            "gridcolor": "white",
            "linecolor": "white",
            "ticks": ""
           }
          },
          "scene": {
           "xaxis": {
            "backgroundcolor": "#E5ECF6",
            "gridcolor": "white",
            "gridwidth": 2,
            "linecolor": "white",
            "showbackground": true,
            "ticks": "",
            "zerolinecolor": "white"
           },
           "yaxis": {
            "backgroundcolor": "#E5ECF6",
            "gridcolor": "white",
            "gridwidth": 2,
            "linecolor": "white",
            "showbackground": true,
            "ticks": "",
            "zerolinecolor": "white"
           },
           "zaxis": {
            "backgroundcolor": "#E5ECF6",
            "gridcolor": "white",
            "gridwidth": 2,
            "linecolor": "white",
            "showbackground": true,
            "ticks": "",
            "zerolinecolor": "white"
           }
          },
          "shapedefaults": {
           "line": {
            "color": "#2a3f5f"
           }
          },
          "ternary": {
           "aaxis": {
            "gridcolor": "white",
            "linecolor": "white",
            "ticks": ""
           },
           "baxis": {
            "gridcolor": "white",
            "linecolor": "white",
            "ticks": ""
           },
           "bgcolor": "#E5ECF6",
           "caxis": {
            "gridcolor": "white",
            "linecolor": "white",
            "ticks": ""
           }
          },
          "title": {
           "x": 0.05
          },
          "xaxis": {
           "automargin": true,
           "gridcolor": "white",
           "linecolor": "white",
           "ticks": "",
           "title": {
            "standoff": 15
           },
           "zerolinecolor": "white",
           "zerolinewidth": 2
          },
          "yaxis": {
           "automargin": true,
           "gridcolor": "white",
           "linecolor": "white",
           "ticks": "",
           "title": {
            "standoff": 15
           },
           "zerolinecolor": "white",
           "zerolinewidth": 2
          }
         }
        },
        "title": {
         "text": "Loss"
        },
        "xaxis": {
         "title": {
          "text": "Epochs"
         }
        },
        "yaxis": {
         "title": {
          "text": "Loss"
         }
        }
       }
      },
      "image/png": "[encoded data removed]"
     },
     "metadata": {},
     "output_type": "display_data"
    }
   ],
   "source": [
    "b_cls_trainer.mm.get_metric_chart(\"loss\")"
   ]
  },
  {
   "cell_type": "code",
   "execution_count": 19,
   "id": "b039b4b0-c47e-44c1-b969-ec0f5c576a4a",
   "metadata": {},
   "outputs": [
    {
     "data": {
      "application/vnd.plotly.v1+json": {
       "config": {
        "plotlyServerURL": "https://plot.ly"
       },
       "data": [
        {
         "mode": "lines+markers",
         "name": "Training Accuracy",
         "text": "",
         "type": "scatter",
         "x": {
          "bdata": "AQIDBAUGBwgJCgsMDQ4PEBESExQ=",
          "dtype": "i1"
         },
         "xaxis": "x",
         "y": [
          0.6346153846153846,
          0.6346153846153846,
          0.6346153846153846,
          0.6346153846153846,
          0.6346153846153846,
          0.6346153846153846,
          0.6346153846153846,
          0.6346153846153846,
          0.6346153846153846,
          0.6346153846153846,
          0.6346153846153846,
          0.6346153846153846,
          0.6346153846153846,
          0.6346153846153846,
          0.6346153846153846,
          0.6346153846153846,
          0.6346153846153846,
          0.6346153846153846,
          0.6346153846153846,
          0.6346153846153846
         ],
         "yaxis": "y"
        },
        {
         "mode": "lines+markers",
         "name": "Validation Accuracy",
         "text": "",
         "type": "scatter",
         "x": {
          "bdata": "AQIDBAUGBwgJCgsMDQ4PEBESExQ=",
          "dtype": "i1"
         },
         "xaxis": "x",
         "y": [
          0.6043956043956044,
          0.6043956043956044,
          0.6043956043956044,
          0.6043956043956044,
          0.6043956043956044,
          0.6043956043956044,
          0.6043956043956044,
          0.6043956043956044,
          0.6043956043956044,
          0.6043956043956044,
          0.6043956043956044,
          0.6043956043956044,
          0.6043956043956044,
          0.6043956043956044,
          0.6043956043956044,
          0.6043956043956044,
          0.6043956043956044,
          0.6043956043956044,
          0.6043956043956044,
          0.6043956043956044
         ],
         "yaxis": "y"
        },
        {
         "mode": "lines+markers",
         "name": "Training Precision",
         "text": "",
         "type": "scatter",
         "x": {
          "bdata": "AQIDBAUGBwgJCgsMDQ4PEBESExQ=",
          "dtype": "i1"
         },
         "xaxis": "x2",
         "y": [
          0.6346153846153846,
          0.6346153846153846,
          0.6346153846153846,
          0.6346153846153846,
          0.6346153846153846,
          0.6346153846153846,
          0.6346153846153846,
          0.6346153846153846,
          0.6346153846153846,
          0.6346153846153846,
          0.6346153846153846,
          0.6346153846153846,
          0.6346153846153846,
          0.6346153846153846,
          0.6346153846153846,
          0.6346153846153846,
          0.6346153846153846,
          0.6346153846153846,
          0.6346153846153846,
          0.6346153846153846
         ],
         "yaxis": "y2"
        },
        {
         "mode": "lines+markers",
         "name": "Validation Precision",
         "text": "",
         "type": "scatter",
         "x": {
          "bdata": "AQIDBAUGBwgJCgsMDQ4PEBESExQ=",
          "dtype": "i1"
         },
         "xaxis": "x2",
         "y": [
          0.6043956043956044,
          0.6043956043956044,
          0.6043956043956044,
          0.6043956043956044,
          0.6043956043956044,
          0.6043956043956044,
          0.6043956043956044,
          0.6043956043956044,
          0.6043956043956044,
          0.6043956043956044,
          0.6043956043956044,
          0.6043956043956044,
          0.6043956043956044,
          0.6043956043956044,
          0.6043956043956044,
          0.6043956043956044,
          0.6043956043956044,
          0.6043956043956044,
          0.6043956043956044,
          0.6043956043956044
         ],
         "yaxis": "y2"
        },
        {
         "mode": "lines+markers",
         "name": "Training Recall",
         "text": "",
         "type": "scatter",
         "x": {
          "bdata": "AQIDBAUGBwgJCgsMDQ4PEBESExQ=",
          "dtype": "i1"
         },
         "xaxis": "x3",
         "y": [
          1,
          1,
          1,
          1,
          1,
          1,
          1,
          1,
          1,
          1,
          1,
          1,
          1,
          1,
          1,
          1,
          1,
          1,
          1,
          1
         ],
         "yaxis": "y3"
        },
        {
         "mode": "lines+markers",
         "name": "Validation Recall",
         "text": "",
         "type": "scatter",
         "x": {
          "bdata": "AQIDBAUGBwgJCgsMDQ4PEBESExQ=",
          "dtype": "i1"
         },
         "xaxis": "x3",
         "y": [
          1,
          1,
          1,
          1,
          1,
          1,
          1,
          1,
          1,
          1,
          1,
          1,
          1,
          1,
          1,
          1,
          1,
          1,
          1,
          1
         ],
         "yaxis": "y3"
        },
        {
         "mode": "lines+markers",
         "name": "Training F1 Score",
         "text": "",
         "type": "scatter",
         "x": {
          "bdata": "AQIDBAUGBwgJCgsMDQ4PEBESExQ=",
          "dtype": "i1"
         },
         "xaxis": "x4",
         "y": [
          0.7764705882352941,
          0.7764705882352941,
          0.7764705882352941,
          0.7764705882352941,
          0.7764705882352941,
          0.7764705882352941,
          0.7764705882352941,
          0.7764705882352941,
          0.7764705882352941,
          0.7764705882352941,
          0.7764705882352941,
          0.7764705882352941,
          0.7764705882352941,
          0.7764705882352941,
          0.7764705882352941,
          0.7764705882352941,
          0.7764705882352941,
          0.7764705882352941,
          0.7764705882352941,
          0.7764705882352941
         ],
         "yaxis": "y4"
        },
        {
         "mode": "lines+markers",
         "name": "Validation F1 Score",
         "text": "",
         "type": "scatter",
         "x": {
          "bdata": "AQIDBAUGBwgJCgsMDQ4PEBESExQ=",
          "dtype": "i1"
         },
         "xaxis": "x4",
         "y": [
          0.7534246575342466,
          0.7534246575342466,
          0.7534246575342466,
          0.7534246575342466,
          0.7534246575342466,
          0.7534246575342466,
          0.7534246575342466,
          0.7534246575342466,
          0.7534246575342466,
          0.7534246575342466,
          0.7534246575342466,
          0.7534246575342466,
          0.7534246575342466,
          0.7534246575342466,
          0.7534246575342466,
          0.7534246575342466,
          0.7534246575342466,
          0.7534246575342466,
          0.7534246575342466,
          0.7534246575342466
         ],
         "yaxis": "y4"
        }
       ],
       "layout": {
        "annotations": [
         {
          "font": {
           "size": 16
          },
          "showarrow": false,
          "text": "Accuracy",
          "x": 0.225,
          "xanchor": "center",
          "xref": "paper",
          "y": 1,
          "yanchor": "bottom",
          "yref": "paper"
         },
         {
          "font": {
           "size": 16
          },
          "showarrow": false,
          "text": "Precision",
          "x": 0.775,
          "xanchor": "center",
          "xref": "paper",
          "y": 1,
          "yanchor": "bottom",
          "yref": "paper"
         },
         {
          "font": {
           "size": 16
          },
          "showarrow": false,
          "text": "Recall",
          "x": 0.225,
          "xanchor": "center",
          "xref": "paper",
          "y": 0.375,
          "yanchor": "bottom",
          "yref": "paper"
         },
         {
          "font": {
           "size": 16
          },
          "showarrow": false,
          "text": "F1 Score",
          "x": 0.775,
          "xanchor": "center",
          "xref": "paper",
          "y": 0.375,
          "yanchor": "bottom",
          "yref": "paper"
         }
        ],
        "height": 1000,
        "template": {
         "data": {
          "bar": [
           {
            "error_x": {
             "color": "#2a3f5f"
            },
            "error_y": {
             "color": "#2a3f5f"
            },
            "marker": {
             "line": {
              "color": "#E5ECF6",
              "width": 0.5
             },
             "pattern": {
              "fillmode": "overlay",
              "size": 10,
              "solidity": 0.2
             }
            },
            "type": "bar"
           }
          ],
          "barpolar": [
           {
            "marker": {
             "line": {
              "color": "#E5ECF6",
              "width": 0.5
             },
             "pattern": {
              "fillmode": "overlay",
              "size": 10,
              "solidity": 0.2
             }
            },
            "type": "barpolar"
           }
          ],
          "carpet": [
           {
            "aaxis": {
             "endlinecolor": "#2a3f5f",
             "gridcolor": "white",
             "linecolor": "white",
             "minorgridcolor": "white",
             "startlinecolor": "#2a3f5f"
            },
            "baxis": {
             "endlinecolor": "#2a3f5f",
             "gridcolor": "white",
             "linecolor": "white",
             "minorgridcolor": "white",
             "startlinecolor": "#2a3f5f"
            },
            "type": "carpet"
           }
          ],
          "choropleth": [
           {
            "colorbar": {
             "outlinewidth": 0,
             "ticks": ""
            },
            "type": "choropleth"
           }
          ],
          "contour": [
           {
            "colorbar": {
             "outlinewidth": 0,
             "ticks": ""
            },
            "colorscale": [
             [
              0,
              "#0d0887"
             ],
             [
              0.1111111111111111,
              "#46039f"
             ],
             [
              0.2222222222222222,
              "#7201a8"
             ],
             [
              0.3333333333333333,
              "#9c179e"
             ],
             [
              0.4444444444444444,
              "#bd3786"
             ],
             [
              0.5555555555555556,
              "#d8576b"
             ],
             [
              0.6666666666666666,
              "#ed7953"
             ],
             [
              0.7777777777777778,
              "#fb9f3a"
             ],
             [
              0.8888888888888888,
              "#fdca26"
             ],
             [
              1,
              "#f0f921"
             ]
            ],
            "type": "contour"
           }
          ],
          "contourcarpet": [
           {
            "colorbar": {
             "outlinewidth": 0,
             "ticks": ""
            },
            "type": "contourcarpet"
           }
          ],
          "heatmap": [
           {
            "colorbar": {
             "outlinewidth": 0,
             "ticks": ""
            },
            "colorscale": [
             [
              0,
              "#0d0887"
             ],
             [
              0.1111111111111111,
              "#46039f"
             ],
             [
              0.2222222222222222,
              "#7201a8"
             ],
             [
              0.3333333333333333,
              "#9c179e"
             ],
             [
              0.4444444444444444,
              "#bd3786"
             ],
             [
              0.5555555555555556,
              "#d8576b"
             ],
             [
              0.6666666666666666,
              "#ed7953"
             ],
             [
              0.7777777777777778,
              "#fb9f3a"
             ],
             [
              0.8888888888888888,
              "#fdca26"
             ],
             [
              1,
              "#f0f921"
             ]
            ],
            "type": "heatmap"
           }
          ],
          "histogram": [
           {
            "marker": {
             "pattern": {
              "fillmode": "overlay",
              "size": 10,
              "solidity": 0.2
             }
            },
            "type": "histogram"
           }
          ],
          "histogram2d": [
           {
            "colorbar": {
             "outlinewidth": 0,
             "ticks": ""
            },
            "colorscale": [
             [
              0,
              "#0d0887"
             ],
             [
              0.1111111111111111,
              "#46039f"
             ],
             [
              0.2222222222222222,
              "#7201a8"
             ],
             [
              0.3333333333333333,
              "#9c179e"
             ],
             [
              0.4444444444444444,
              "#bd3786"
             ],
             [
              0.5555555555555556,
              "#d8576b"
             ],
             [
              0.6666666666666666,
              "#ed7953"
             ],
             [
              0.7777777777777778,
              "#fb9f3a"
             ],
             [
              0.8888888888888888,
              "#fdca26"
             ],
             [
              1,
              "#f0f921"
             ]
            ],
            "type": "histogram2d"
           }
          ],
          "histogram2dcontour": [
           {
            "colorbar": {
             "outlinewidth": 0,
             "ticks": ""
            },
            "colorscale": [
             [
              0,
              "#0d0887"
             ],
             [
              0.1111111111111111,
              "#46039f"
             ],
             [
              0.2222222222222222,
              "#7201a8"
             ],
             [
              0.3333333333333333,
              "#9c179e"
             ],
             [
              0.4444444444444444,
              "#bd3786"
             ],
             [
              0.5555555555555556,
              "#d8576b"
             ],
             [
              0.6666666666666666,
              "#ed7953"
             ],
             [
              0.7777777777777778,
              "#fb9f3a"
             ],
             [
              0.8888888888888888,
              "#fdca26"
             ],
             [
              1,
              "#f0f921"
             ]
            ],
            "type": "histogram2dcontour"
           }
          ],
          "mesh3d": [
           {
            "colorbar": {
             "outlinewidth": 0,
             "ticks": ""
            },
            "type": "mesh3d"
           }
          ],
          "parcoords": [
           {
            "line": {
             "colorbar": {
              "outlinewidth": 0,
              "ticks": ""
             }
            },
            "type": "parcoords"
           }
          ],
          "pie": [
           {
            "automargin": true,
            "type": "pie"
           }
          ],
          "scatter": [
           {
            "fillpattern": {
             "fillmode": "overlay",
             "size": 10,
             "solidity": 0.2
            },
            "type": "scatter"
           }
          ],
          "scatter3d": [
           {
            "line": {
             "colorbar": {
              "outlinewidth": 0,
              "ticks": ""
             }
            },
            "marker": {
             "colorbar": {
              "outlinewidth": 0,
              "ticks": ""
             }
            },
            "type": "scatter3d"
           }
          ],
          "scattercarpet": [
           {
            "marker": {
             "colorbar": {
              "outlinewidth": 0,
              "ticks": ""
             }
            },
            "type": "scattercarpet"
           }
          ],
          "scattergeo": [
           {
            "marker": {
             "colorbar": {
              "outlinewidth": 0,
              "ticks": ""
             }
            },
            "type": "scattergeo"
           }
          ],
          "scattergl": [
           {
            "marker": {
             "colorbar": {
              "outlinewidth": 0,
              "ticks": ""
             }
            },
            "type": "scattergl"
           }
          ],
          "scattermap": [
           {
            "marker": {
             "colorbar": {
              "outlinewidth": 0,
              "ticks": ""
             }
            },
            "type": "scattermap"
           }
          ],
          "scattermapbox": [
           {
            "marker": {
             "colorbar": {
              "outlinewidth": 0,
              "ticks": ""
             }
            },
            "type": "scattermapbox"
           }
          ],
          "scatterpolar": [
           {
            "marker": {
             "colorbar": {
              "outlinewidth": 0,
              "ticks": ""
             }
            },
            "type": "scatterpolar"
           }
          ],
          "scatterpolargl": [
           {
            "marker": {
             "colorbar": {
              "outlinewidth": 0,
              "ticks": ""
             }
            },
            "type": "scatterpolargl"
           }
          ],
          "scatterternary": [
           {
            "marker": {
             "colorbar": {
              "outlinewidth": 0,
              "ticks": ""
             }
            },
            "type": "scatterternary"
           }
          ],
          "surface": [
           {
            "colorbar": {
             "outlinewidth": 0,
             "ticks": ""
            },
            "colorscale": [
             [
              0,
              "#0d0887"
             ],
             [
              0.1111111111111111,
              "#46039f"
             ],
             [
              0.2222222222222222,
              "#7201a8"
             ],
             [
              0.3333333333333333,
              "#9c179e"
             ],
             [
              0.4444444444444444,
              "#bd3786"
             ],
             [
              0.5555555555555556,
              "#d8576b"
             ],
             [
              0.6666666666666666,
              "#ed7953"
             ],
             [
              0.7777777777777778,
              "#fb9f3a"
             ],
             [
              0.8888888888888888,
              "#fdca26"
             ],
             [
              1,
              "#f0f921"
             ]
            ],
            "type": "surface"
           }
          ],
          "table": [
           {
            "cells": {
             "fill": {
              "color": "#EBF0F8"
             },
             "line": {
              "color": "white"
             }
            },
            "header": {
             "fill": {
              "color": "#C8D4E3"
             },
             "line": {
              "color": "white"
             }
            },
            "type": "table"
           }
          ]
         },
         "layout": {
          "annotationdefaults": {
           "arrowcolor": "#2a3f5f",
           "arrowhead": 0,
           "arrowwidth": 1
          },
          "autotypenumbers": "strict",
          "coloraxis": {
           "colorbar": {
            "outlinewidth": 0,
            "ticks": ""
           }
          },
          "colorscale": {
           "diverging": [
            [
             0,
             "#8e0152"
            ],
            [
             0.1,
             "#c51b7d"
            ],
            [
             0.2,
             "#de77ae"
            ],
            [
             0.3,
             "#f1b6da"
            ],
            [
             0.4,
             "#fde0ef"
            ],
            [
             0.5,
             "#f7f7f7"
            ],
            [
             0.6,
             "#e6f5d0"
            ],
            [
             0.7,
             "#b8e186"
            ],
            [
             0.8,
             "#7fbc41"
            ],
            [
             0.9,
             "#4d9221"
            ],
            [
             1,
             "#276419"
            ]
           ],
           "sequential": [
            [
             0,
             "#0d0887"
            ],
            [
             0.1111111111111111,
             "#46039f"
            ],
            [
             0.2222222222222222,
             "#7201a8"
            ],
            [
             0.3333333333333333,
             "#9c179e"
            ],
            [
             0.4444444444444444,
             "#bd3786"
            ],
            [
             0.5555555555555556,
             "#d8576b"
            ],
            [
             0.6666666666666666,
             "#ed7953"
            ],
            [
             0.7777777777777778,
             "#fb9f3a"
            ],
            [
             0.8888888888888888,
             "#fdca26"
            ],
            [
             1,
             "#f0f921"
            ]
           ],
           "sequentialminus": [
            [
             0,
             "#0d0887"
            ],
            [
             0.1111111111111111,
             "#46039f"
            ],
            [
             0.2222222222222222,
             "#7201a8"
            ],
            [
             0.3333333333333333,
             "#9c179e"
            ],
            [
             0.4444444444444444,
             "#bd3786"
            ],
            [
             0.5555555555555556,
             "#d8576b"
            ],
            [
             0.6666666666666666,
             "#ed7953"
            ],
            [
             0.7777777777777778,
             "#fb9f3a"
            ],
            [
             0.8888888888888888,
             "#fdca26"
            ],
            [
             1,
             "#f0f921"
            ]
           ]
          },
          "colorway": [
           "#636efa",
           "#EF553B",
           "#00cc96",
           "#ab63fa",
           "#FFA15A",
           "#19d3f3",
           "#FF6692",
           "#B6E880",
           "#FF97FF",
           "#FECB52"
          ],
          "font": {
           "color": "#2a3f5f"
          },
          "geo": {
           "bgcolor": "white",
           "lakecolor": "white",
           "landcolor": "#E5ECF6",
           "showlakes": true,
           "showland": true,
           "subunitcolor": "white"
          },
          "hoverlabel": {
           "align": "left"
          },
          "hovermode": "closest",
          "mapbox": {
           "style": "light"
          },
          "paper_bgcolor": "white",
          "plot_bgcolor": "#E5ECF6",
          "polar": {
           "angularaxis": {
            "gridcolor": "white",
            "linecolor": "white",
            "ticks": ""
           },
           "bgcolor": "#E5ECF6",
           "radialaxis": {
            "gridcolor": "white",
            "linecolor": "white",
            "ticks": ""
           }
          },
          "scene": {
           "xaxis": {
            "backgroundcolor": "#E5ECF6",
            "gridcolor": "white",
            "gridwidth": 2,
            "linecolor": "white",
            "showbackground": true,
            "ticks": "",
            "zerolinecolor": "white"
           },
           "yaxis": {
            "backgroundcolor": "#E5ECF6",
            "gridcolor": "white",
            "gridwidth": 2,
            "linecolor": "white",
            "showbackground": true,
            "ticks": "",
            "zerolinecolor": "white"
           },
           "zaxis": {
            "backgroundcolor": "#E5ECF6",
            "gridcolor": "white",
            "gridwidth": 2,
            "linecolor": "white",
            "showbackground": true,
            "ticks": "",
            "zerolinecolor": "white"
           }
          },
          "shapedefaults": {
           "line": {
            "color": "#2a3f5f"
           }
          },
          "ternary": {
           "aaxis": {
            "gridcolor": "white",
            "linecolor": "white",
            "ticks": ""
           },
           "baxis": {
            "gridcolor": "white",
            "linecolor": "white",
            "ticks": ""
           },
           "bgcolor": "#E5ECF6",
           "caxis": {
            "gridcolor": "white",
            "linecolor": "white",
            "ticks": ""
           }
          },
          "title": {
           "x": 0.05
          },
          "xaxis": {
           "automargin": true,
           "gridcolor": "white",
           "linecolor": "white",
           "ticks": "",
           "title": {
            "standoff": 15
           },
           "zerolinecolor": "white",
           "zerolinewidth": 2
          },
          "yaxis": {
           "automargin": true,
           "gridcolor": "white",
           "linecolor": "white",
           "ticks": "",
           "title": {
            "standoff": 15
           },
           "zerolinecolor": "white",
           "zerolinewidth": 2
          }
         }
        },
        "title": {
         "text": "Accuracy, Precision, Recall and F1 Score"
        },
        "xaxis": {
         "anchor": "y",
         "domain": [
          0,
          0.45
         ],
         "title": {
          "text": "Epochs"
         }
        },
        "xaxis2": {
         "anchor": "y2",
         "domain": [
          0.55,
          1
         ],
         "title": {
          "text": "Epochs"
         }
        },
        "xaxis3": {
         "anchor": "y3",
         "domain": [
          0,
          0.45
         ],
         "title": {
          "text": "Epochs"
         }
        },
        "xaxis4": {
         "anchor": "y4",
         "domain": [
          0.55,
          1
         ],
         "title": {
          "text": "Epochs"
         }
        },
        "yaxis": {
         "anchor": "x",
         "domain": [
          0.625,
          1
         ],
         "title": {
          "text": "Accuracy"
         }
        },
        "yaxis2": {
         "anchor": "x2",
         "domain": [
          0.625,
          1
         ],
         "title": {
          "text": "Precision"
         }
        },
        "yaxis3": {
         "anchor": "x3",
         "domain": [
          0,
          0.375
         ],
         "title": {
          "text": "Recall"
         }
        },
        "yaxis4": {
         "anchor": "x4",
         "domain": [
          0,
          0.375
         ],
         "title": {
          "text": "F1 Score"
         }
        }
       }
      },
      "image/png": "[encoded data removed]"
     },
     "metadata": {},
     "output_type": "display_data"
    }
   ],
   "source": [
    "b_cls_trainer.mm.get_metric_chart_collection([\"acc\", \"prec\", \"rec\", \"f1\"])"
   ]
  },
  {
   "cell_type": "markdown",
   "id": "39279f78-a20d-4bdc-ae41-acf80c49be25",
   "metadata": {},
   "source": [
    "### Evaluating the Model on Test Data"
   ]
  },
  {
   "cell_type": "code",
   "execution_count": 20,
   "id": "53be6b7b-9430-4906-92c8-48838464a346",
   "metadata": {},
   "outputs": [
    {
     "data": {
      "application/vnd.plotly.v1+json": {
       "config": {
        "plotlyServerURL": "https://plot.ly"
       },
       "data": [
        {
         "mode": "markers",
         "name": "True Values",
         "text": "",
         "type": "scatter",
         "x": {
          "bdata": "AAECAwQFBgcICQoLDA0ODxAREhMUFRYXGBkaGxwdHh8gISIjJCUmJygpKissLS4vMDEyMzQ1Njc4OTo7PD0+P0BBQkNERUZHSElKS0xNTk9QUVJTVFVWV1hZWltcXV5fYGFiY2RlZmdoaWprbG1ub3Bx",
          "dtype": "i1"
         },
         "y": {
          "bdata": "AQAAAQEAAAABAQEAAQABAAEBAQAAAQABAQEBAQEAAQEBAQEBAAEAAQEAAQEBAQEBAQEAAAEBAQEBAAABAQAAAQEBAAABAQAAAQABAQEAAQEAAQAAAAAAAAEBAQEBAQEBAAABAAABAAABAQEAAQEAAQEA",
          "dtype": "i1"
         }
        },
        {
         "mode": "markers",
         "name": "Predicted Values",
         "text": "",
         "type": "scatter",
         "x": {
          "bdata": "AAECAwQFBgcICQoLDA0ODxAREhMUFRYXGBkaGxwdHh8gISIjJCUmJygpKissLS4vMDEyMzQ1Njc4OTo7PD0+P0BBQkNERUZHSElKS0xNTk9QUVJTVFVWV1hZWltcXV5fYGFiY2RlZmdoaWprbG1ub3Bx",
          "dtype": "i1"
         },
         "y": {
          "bdata": "AACAPwAAgD8AAIA/AACAPwAAgD8AAIA/AACAPwAAgD8AAIA/AACAPwAAgD8AAIA/AACAPwAAgD8AAIA/AACAPwAAgD8AAIA/AACAPwAAgD8AAIA/AACAPwAAgD8AAIA/AACAPwAAgD8AAIA/AACAPwAAgD8AAIA/AACAPwAAgD8AAIA/AACAPwAAgD8AAIA/AACAPwAAgD8AAIA/AACAPwAAgD8AAIA/AACAPwAAgD8AAIA/AACAPwAAgD8AAIA/AACAPwAAgD8AAIA/AACAPwAAgD8AAIA/AACAPwAAgD8AAIA/AACAPwAAgD8AAIA/AACAPwAAgD8AAIA/AACAPwAAgD8AAIA/AACAPwAAgD8AAIA/AACAPwAAgD8AAIA/AACAPwAAgD8AAIA/AACAPwAAgD8AAIA/AACAPwAAgD8AAIA/AACAPwAAgD8AAIA/AACAPwAAgD8AAIA/AACAPwAAgD8AAIA/AACAPwAAgD8AAIA/AACAPwAAgD8AAIA/AACAPwAAgD8AAIA/AACAPwAAgD8AAIA/AACAPwAAgD8AAIA/AACAPwAAgD8AAIA/AACAPwAAgD8AAIA/AACAPwAAgD8AAIA/",
          "dtype": "f4"
         }
        }
       ],
       "layout": {
        "template": {
         "data": {
          "bar": [
           {
            "error_x": {
             "color": "#2a3f5f"
            },
            "error_y": {
             "color": "#2a3f5f"
            },
            "marker": {
             "line": {
              "color": "#E5ECF6",
              "width": 0.5
             },
             "pattern": {
              "fillmode": "overlay",
              "size": 10,
              "solidity": 0.2
             }
            },
            "type": "bar"
           }
          ],
          "barpolar": [
           {
            "marker": {
             "line": {
              "color": "#E5ECF6",
              "width": 0.5
             },
             "pattern": {
              "fillmode": "overlay",
              "size": 10,
              "solidity": 0.2
             }
            },
            "type": "barpolar"
           }
          ],
          "carpet": [
           {
            "aaxis": {
             "endlinecolor": "#2a3f5f",
             "gridcolor": "white",
             "linecolor": "white",
             "minorgridcolor": "white",
             "startlinecolor": "#2a3f5f"
            },
            "baxis": {
             "endlinecolor": "#2a3f5f",
             "gridcolor": "white",
             "linecolor": "white",
             "minorgridcolor": "white",
             "startlinecolor": "#2a3f5f"
            },
            "type": "carpet"
           }
          ],
          "choropleth": [
           {
            "colorbar": {
             "outlinewidth": 0,
             "ticks": ""
            },
            "type": "choropleth"
           }
          ],
          "contour": [
           {
            "colorbar": {
             "outlinewidth": 0,
             "ticks": ""
            },
            "colorscale": [
             [
              0,
              "#0d0887"
             ],
             [
              0.1111111111111111,
              "#46039f"
             ],
             [
              0.2222222222222222,
              "#7201a8"
             ],
             [
              0.3333333333333333,
              "#9c179e"
             ],
             [
              0.4444444444444444,
              "#bd3786"
             ],
             [
              0.5555555555555556,
              "#d8576b"
             ],
             [
              0.6666666666666666,
              "#ed7953"
             ],
             [
              0.7777777777777778,
              "#fb9f3a"
             ],
             [
              0.8888888888888888,
              "#fdca26"
             ],
             [
              1,
              "#f0f921"
             ]
            ],
            "type": "contour"
           }
          ],
          "contourcarpet": [
           {
            "colorbar": {
             "outlinewidth": 0,
             "ticks": ""
            },
            "type": "contourcarpet"
           }
          ],
          "heatmap": [
           {
            "colorbar": {
             "outlinewidth": 0,
             "ticks": ""
            },
            "colorscale": [
             [
              0,
              "#0d0887"
             ],
             [
              0.1111111111111111,
              "#46039f"
             ],
             [
              0.2222222222222222,
              "#7201a8"
             ],
             [
              0.3333333333333333,
              "#9c179e"
             ],
             [
              0.4444444444444444,
              "#bd3786"
             ],
             [
              0.5555555555555556,
              "#d8576b"
             ],
             [
              0.6666666666666666,
              "#ed7953"
             ],
             [
              0.7777777777777778,
              "#fb9f3a"
             ],
             [
              0.8888888888888888,
              "#fdca26"
             ],
             [
              1,
              "#f0f921"
             ]
            ],
            "type": "heatmap"
           }
          ],
          "histogram": [
           {
            "marker": {
             "pattern": {
              "fillmode": "overlay",
              "size": 10,
              "solidity": 0.2
             }
            },
            "type": "histogram"
           }
          ],
          "histogram2d": [
           {
            "colorbar": {
             "outlinewidth": 0,
             "ticks": ""
            },
            "colorscale": [
             [
              0,
              "#0d0887"
             ],
             [
              0.1111111111111111,
              "#46039f"
             ],
             [
              0.2222222222222222,
              "#7201a8"
             ],
             [
              0.3333333333333333,
              "#9c179e"
             ],
             [
              0.4444444444444444,
              "#bd3786"
             ],
             [
              0.5555555555555556,
              "#d8576b"
             ],
             [
              0.6666666666666666,
              "#ed7953"
             ],
             [
              0.7777777777777778,
              "#fb9f3a"
             ],
             [
              0.8888888888888888,
              "#fdca26"
             ],
             [
              1,
              "#f0f921"
             ]
            ],
            "type": "histogram2d"
           }
          ],
          "histogram2dcontour": [
           {
            "colorbar": {
             "outlinewidth": 0,
             "ticks": ""
            },
            "colorscale": [
             [
              0,
              "#0d0887"
             ],
             [
              0.1111111111111111,
              "#46039f"
             ],
             [
              0.2222222222222222,
              "#7201a8"
             ],
             [
              0.3333333333333333,
              "#9c179e"
             ],
             [
              0.4444444444444444,
              "#bd3786"
             ],
             [
              0.5555555555555556,
              "#d8576b"
             ],
             [
              0.6666666666666666,
              "#ed7953"
             ],
             [
              0.7777777777777778,
              "#fb9f3a"
             ],
             [
              0.8888888888888888,
              "#fdca26"
             ],
             [
              1,
              "#f0f921"
             ]
            ],
            "type": "histogram2dcontour"
           }
          ],
          "mesh3d": [
           {
            "colorbar": {
             "outlinewidth": 0,
             "ticks": ""
            },
            "type": "mesh3d"
           }
          ],
          "parcoords": [
           {
            "line": {
             "colorbar": {
              "outlinewidth": 0,
              "ticks": ""
             }
            },
            "type": "parcoords"
           }
          ],
          "pie": [
           {
            "automargin": true,
            "type": "pie"
           }
          ],
          "scatter": [
           {
            "fillpattern": {
             "fillmode": "overlay",
             "size": 10,
             "solidity": 0.2
            },
            "type": "scatter"
           }
          ],
          "scatter3d": [
           {
            "line": {
             "colorbar": {
              "outlinewidth": 0,
              "ticks": ""
             }
            },
            "marker": {
             "colorbar": {
              "outlinewidth": 0,
              "ticks": ""
             }
            },
            "type": "scatter3d"
           }
          ],
          "scattercarpet": [
           {
            "marker": {
             "colorbar": {
              "outlinewidth": 0,
              "ticks": ""
             }
            },
            "type": "scattercarpet"
           }
          ],
          "scattergeo": [
           {
            "marker": {
             "colorbar": {
              "outlinewidth": 0,
              "ticks": ""
             }
            },
            "type": "scattergeo"
           }
          ],
          "scattergl": [
           {
            "marker": {
             "colorbar": {
              "outlinewidth": 0,
              "ticks": ""
             }
            },
            "type": "scattergl"
           }
          ],
          "scattermap": [
           {
            "marker": {
             "colorbar": {
              "outlinewidth": 0,
              "ticks": ""
             }
            },
            "type": "scattermap"
           }
          ],
          "scattermapbox": [
           {
            "marker": {
             "colorbar": {
              "outlinewidth": 0,
              "ticks": ""
             }
            },
            "type": "scattermapbox"
           }
          ],
          "scatterpolar": [
           {
            "marker": {
             "colorbar": {
              "outlinewidth": 0,
              "ticks": ""
             }
            },
            "type": "scatterpolar"
           }
          ],
          "scatterpolargl": [
           {
            "marker": {
             "colorbar": {
              "outlinewidth": 0,
              "ticks": ""
             }
            },
            "type": "scatterpolargl"
           }
          ],
          "scatterternary": [
           {
            "marker": {
             "colorbar": {
              "outlinewidth": 0,
              "ticks": ""
             }
            },
            "type": "scatterternary"
           }
          ],
          "surface": [
           {
            "colorbar": {
             "outlinewidth": 0,
             "ticks": ""
            },
            "colorscale": [
             [
              0,
              "#0d0887"
             ],
             [
              0.1111111111111111,
              "#46039f"
             ],
             [
              0.2222222222222222,
              "#7201a8"
             ],
             [
              0.3333333333333333,
              "#9c179e"
             ],
             [
              0.4444444444444444,
              "#bd3786"
             ],
             [
              0.5555555555555556,
              "#d8576b"
             ],
             [
              0.6666666666666666,
              "#ed7953"
             ],
             [
              0.7777777777777778,
              "#fb9f3a"
             ],
             [
              0.8888888888888888,
              "#fdca26"
             ],
             [
              1,
              "#f0f921"
             ]
            ],
            "type": "surface"
           }
          ],
          "table": [
           {
            "cells": {
             "fill": {
              "color": "#EBF0F8"
             },
             "line": {
              "color": "white"
             }
            },
            "header": {
             "fill": {
              "color": "#C8D4E3"
             },
             "line": {
              "color": "white"
             }
            },
            "type": "table"
           }
          ]
         },
         "layout": {
          "annotationdefaults": {
           "arrowcolor": "#2a3f5f",
           "arrowhead": 0,
           "arrowwidth": 1
          },
          "autotypenumbers": "strict",
          "coloraxis": {
           "colorbar": {
            "outlinewidth": 0,
            "ticks": ""
           }
          },
          "colorscale": {
           "diverging": [
            [
             0,
             "#8e0152"
            ],
            [
             0.1,
             "#c51b7d"
            ],
            [
             0.2,
             "#de77ae"
            ],
            [
             0.3,
             "#f1b6da"
            ],
            [
             0.4,
             "#fde0ef"
            ],
            [
             0.5,
             "#f7f7f7"
            ],
            [
             0.6,
             "#e6f5d0"
            ],
            [
             0.7,
             "#b8e186"
            ],
            [
             0.8,
             "#7fbc41"
            ],
            [
             0.9,
             "#4d9221"
            ],
            [
             1,
             "#276419"
            ]
           ],
           "sequential": [
            [
             0,
             "#0d0887"
            ],
            [
             0.1111111111111111,
             "#46039f"
            ],
            [
             0.2222222222222222,
             "#7201a8"
            ],
            [
             0.3333333333333333,
             "#9c179e"
            ],
            [
             0.4444444444444444,
             "#bd3786"
            ],
            [
             0.5555555555555556,
             "#d8576b"
            ],
            [
             0.6666666666666666,
             "#ed7953"
            ],
            [
             0.7777777777777778,
             "#fb9f3a"
            ],
            [
             0.8888888888888888,
             "#fdca26"
            ],
            [
             1,
             "#f0f921"
            ]
           ],
           "sequentialminus": [
            [
             0,
             "#0d0887"
            ],
            [
             0.1111111111111111,
             "#46039f"
            ],
            [
             0.2222222222222222,
             "#7201a8"
            ],
            [
             0.3333333333333333,
             "#9c179e"
            ],
            [
             0.4444444444444444,
             "#bd3786"
            ],
            [
             0.5555555555555556,
             "#d8576b"
            ],
            [
             0.6666666666666666,
             "#ed7953"
            ],
            [
             0.7777777777777778,
             "#fb9f3a"
            ],
            [
             0.8888888888888888,
             "#fdca26"
            ],
            [
             1,
             "#f0f921"
            ]
           ]
          },
          "colorway": [
           "#636efa",
           "#EF553B",
           "#00cc96",
           "#ab63fa",
           "#FFA15A",
           "#19d3f3",
           "#FF6692",
           "#B6E880",
           "#FF97FF",
           "#FECB52"
          ],
          "font": {
           "color": "#2a3f5f"
          },
          "geo": {
           "bgcolor": "white",
           "lakecolor": "white",
           "landcolor": "#E5ECF6",
           "showlakes": true,
           "showland": true,
           "subunitcolor": "white"
          },
          "hoverlabel": {
           "align": "left"
          },
          "hovermode": "closest",
          "mapbox": {
           "style": "light"
          },
          "paper_bgcolor": "white",
          "plot_bgcolor": "#E5ECF6",
          "polar": {
           "angularaxis": {
            "gridcolor": "white",
            "linecolor": "white",
            "ticks": ""
           },
           "bgcolor": "#E5ECF6",
           "radialaxis": {
            "gridcolor": "white",
            "linecolor": "white",
            "ticks": ""
           }
          },
          "scene": {
           "xaxis": {
            "backgroundcolor": "#E5ECF6",
            "gridcolor": "white",
            "gridwidth": 2,
            "linecolor": "white",
            "showbackground": true,
            "ticks": "",
            "zerolinecolor": "white"
           },
           "yaxis": {
            "backgroundcolor": "#E5ECF6",
            "gridcolor": "white",
            "gridwidth": 2,
            "linecolor": "white",
            "showbackground": true,
            "ticks": "",
            "zerolinecolor": "white"
           },
           "zaxis": {
            "backgroundcolor": "#E5ECF6",
            "gridcolor": "white",
            "gridwidth": 2,
            "linecolor": "white",
            "showbackground": true,
            "ticks": "",
            "zerolinecolor": "white"
           }
          },
          "shapedefaults": {
           "line": {
            "color": "#2a3f5f"
           }
          },
          "ternary": {
           "aaxis": {
            "gridcolor": "white",
            "linecolor": "white",
            "ticks": ""
           },
           "baxis": {
            "gridcolor": "white",
            "linecolor": "white",
            "ticks": ""
           },
           "bgcolor": "#E5ECF6",
           "caxis": {
            "gridcolor": "white",
            "linecolor": "white",
            "ticks": ""
           }
          },
          "title": {
           "x": 0.05
          },
          "xaxis": {
           "automargin": true,
           "gridcolor": "white",
           "linecolor": "white",
           "ticks": "",
           "title": {
            "standoff": 15
           },
           "zerolinecolor": "white",
           "zerolinewidth": 2
          },
          "yaxis": {
           "automargin": true,
           "gridcolor": "white",
           "linecolor": "white",
           "ticks": "",
           "title": {
            "standoff": 15
           },
           "zerolinecolor": "white",
           "zerolinewidth": 2
          }
         }
        },
        "title": {
         "text": "True vs Predicted Values"
        },
        "xaxis": {
         "title": {
          "text": ""
         }
        },
        "yaxis": {
         "title": {
          "text": ""
         }
        }
       }
      },
      "image/png": "[encoded data removed]"
     },
     "metadata": {},
     "output_type": "display_data"
    }
   ],
   "source": [
    "X_test = torch.tensor(X_test, dtype=torch.float32).to(device)\n",
    "\n",
    "b_cls_model.eval()\n",
    "\n",
    "with torch.no_grad():\n",
    "    test_preds = b_cls_model(X_test)\n",
    "    test_preds = (test_preds.detach().clone() > pred_threshold)\n",
    "    test_preds = test_preds.float().cpu().numpy().flatten()\n",
    "\n",
    "x = np.arange(0, X_test.shape[0])\n",
    "pp.plot_data(\n",
    "    true_vals=pp.create_trace(x, y_test, name=\"True Values\", mode=\"markers\"),\n",
    "    pred_vals=pp.create_trace(x, test_preds, name=\"Predicted Values\", mode=\"markers\"),\n",
    "    title=\"True vs Predicted Values\",\n",
    ")"
   ]
  },
  {
   "cell_type": "code",
   "execution_count": 21,
   "id": "54c21aef-fe25-4749-a1c9-1b3242a7d25c",
   "metadata": {},
   "outputs": [
    {
     "name": "stdout",
     "output_type": "stream",
     "text": [
      "Final accuracy: 62.28%\n"
     ]
    }
   ],
   "source": [
    "# Test accuracy\n",
    "test_acc = ((test_preds == y_test).sum() / y_test.shape[0]) \n",
    "print(f\"Final accuracy: {test_acc * 100:.2f}%\")"
   ]
  },
  {
   "cell_type": "markdown",
   "id": "fbb63602-f766-4d2c-9f32-ef9b8f396214",
   "metadata": {},
   "source": [
    "## Multiclass Classification"
   ]
  },
  {
   "cell_type": "code",
   "execution_count": null,
   "id": "49b7e499-0981-482f-bb28-1e11e47cb8f3",
   "metadata": {},
   "outputs": [],
   "source": []
  }
 ],
 "metadata": {
  "kernelspec": {
   "display_name": "Python 3 (ipykernel)",
   "language": "python",
   "name": "python3"
  },
  "language_info": {
   "codemirror_mode": {
    "name": "ipython",
    "version": 3
   },
   "file_extension": ".py",
   "mimetype": "text/x-python",
   "name": "python",
   "nbconvert_exporter": "python",
   "pygments_lexer": "ipython3",
   "version": "3.9.6"
  }
 },
 "nbformat": 4,
 "nbformat_minor": 5
}
