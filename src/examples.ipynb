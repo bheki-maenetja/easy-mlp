{
 "cells": [
  {
   "cell_type": "markdown",
   "id": "f1daf871-b0d7-4abc-9dec-db4a64fe3088",
   "metadata": {},
   "source": [
    "# EasyMLP: Some Simple Examples"
   ]
  },
  {
   "cell_type": "markdown",
   "id": "cc0d1f96-7cde-4e8e-93e1-232878d56ab3",
   "metadata": {},
   "source": [
    "## Imports"
   ]
  },
  {
   "cell_type": "code",
   "execution_count": 1,
   "id": "c7aa6eae-b7b7-40d9-a61d-c896b895198c",
   "metadata": {},
   "outputs": [],
   "source": [
    "import sys\n",
    "sys.path.append(\".\")\n",
    "from easy_mlp.models import MLP\n",
    "from easy_mlp.trainers import MLPTrainer\n",
    "from easy_mlp.data import get_tensors, get_data_loaders\n",
    "from easy_mlp.helpers import get_loss_fn, get_optimiser, param_init\n",
    "\n",
    "import torch\n",
    "import numpy as np\n",
    "import pretty_plotly.plot as pp\n",
    "from sklearn.datasets import load_iris, make_classification, make_regression\n",
    "from sklearn.model_selection import train_test_split"
   ]
  },
  {
   "cell_type": "markdown",
   "id": "629e5cae-621c-44ac-b3bf-b9d34f3c56b3",
   "metadata": {},
   "source": [
    "## Set Device"
   ]
  },
  {
   "cell_type": "code",
   "execution_count": 2,
   "id": "95cd892d-a33a-4827-8835-0cb227f6083f",
   "metadata": {},
   "outputs": [
    {
     "data": {
      "text/plain": [
       "device(type='mps')"
      ]
     },
     "execution_count": 2,
     "metadata": {},
     "output_type": "execute_result"
    }
   ],
   "source": [
    "if torch.cuda.is_available():\n",
    "    device = torch.device(\"cuda\")\n",
    "elif torch.backends.mps.is_available():\n",
    "    device = torch.device(\"mps\")\n",
    "else:\n",
    "    device = torch.device(\"cpu\")\n",
    "\n",
    "device"
   ]
  },
  {
   "cell_type": "markdown",
   "id": "174b2cd4-cd17-4309-8fcc-b8aa3df6683e",
   "metadata": {},
   "source": [
    "## Regression"
   ]
  },
  {
   "cell_type": "markdown",
   "id": "3759f3be-880a-41fc-9c9d-4679d1004048",
   "metadata": {},
   "source": [
    "### Data Loading and Preprocessing"
   ]
  },
  {
   "cell_type": "code",
   "execution_count": 3,
   "id": "58fc5c37-62cc-4e69-9206-e5b9a76053c9",
   "metadata": {},
   "outputs": [
    {
     "data": {
      "application/vnd.plotly.v1+json": {
       "config": {
        "plotlyServerURL": "https://plot.ly"
       },
       "data": [
        {
         "mode": "markers",
         "name": "",
         "text": "",
         "type": "scatter",
         "x": {
          "bdata": "AAABAAIAAwAEAAUABgAHAAgACQAKAAsADAANAA4ADwAQABEAEgATABQAFQAWABcAGAAZABoAGwAcAB0AHgAfACAAIQAiACMAJAAlACYAJwAoACkAKgArACwALQAuAC8AMAAxADIAMwA0ADUANgA3ADgAOQA6ADsAPAA9AD4APwBAAEEAQgBDAEQARQBGAEcASABJAEoASwBMAE0ATgBPAFAAUQBSAFMAVABVAFYAVwBYAFkAWgBbAFwAXQBeAF8AYABhAGIAYwBkAGUAZgBnAGgAaQBqAGsAbABtAG4AbwBwAHEAcgBzAHQAdQB2AHcAeAB5AHoAewB8AH0AfgB/AIAAgQCCAIMAhACFAIYAhwCIAIkAigCLAIwAjQCOAI8AkACRAJIAkwCUAJUAlgCXAJgAmQCaAJsAnACdAJ4AnwCgAKEAogCjAKQApQCmAKcAqACpAKoAqwCsAK0ArgCvALAAsQCyALMAtAC1ALYAtwC4ALkAugC7ALwAvQC+AL8AwADBAMIAwwDEAMUAxgDHAMgAyQDKAMsAzADNAM4AzwDQANEA0gDTANQA1QDWANcA2ADZANoA2wDcAN0A3gDfAOAA4QDiAOMA5ADlAOYA5wDoAOkA6gDrAOwA7QDuAO8A8ADxAPIA8wD0APUA9gD3APgA+QD6APsA/AD9AP4A/wAAAQEBAgEDAQQBBQEGAQcBCAEJAQoBCwEMAQ0BDgEPARABEQESARMBFAEVARYBFwEYARkBGgEbARwBHQEeAR8BIAEhASIBIwEkASUBJgEnASgBKQEqASsBLAEtAS4BLwEwATEBMgEzATQBNQE2ATcBOAE5AToBOwE8AT0BPgE/AUABQQFCAUMBRAFFAUYBRwFIAUkBSgFLAUwBTQFOAU8BUAFRAVIBUwFUAVUBVgFXAVgBWQFaAVsBXAFdAV4BXwFgAWEBYgFjAWQBZQFmAWcBaAFpAWoBawFsAW0BbgFvAXABcQFyAXMBdAF1AXYBdwF4AXkBegF7AXwBfQF+AX8BgAGBAYIBgwGEAYUBhgGHAYgBiQGKAYsBjAGNAY4BjwGQAZEBkgGTAZQBlQGWAZcBmAGZAZoBmwGcAZ0BngGfAaABoQGiAaMBpAGlAaYBpwGoAakBqgGrAawBrQGuAa8BsAGxAbIBswG0AbUBtgG3AbgBuQG6AbsBvAG9Ab4BvwHAAcEBwgHDAcQBxQHGAccByAHJAcoBywHMAc0BzgHPAdAB0QHSAdMB1AHVAdYB1wHYAdkB2gHbAdwB3QHeAd8B4AHhAeIB4wHkAeUB5gHnAegB6QHqAesB7AHtAe4B7wHwAfEB8gHzAfQB9QH2AfcB+AH5AfoB+wH8Af0B/gH/AQACAQICAgMCBAIFAgYCBwIIAgkCCgILAgwCDQIOAg8CEAIRAhICEwIUAhUCFgIXAhgCGQIaAhsCHAIdAh4CHwIgAiECIgIjAiQCJQImAicCKAIpAioCKwIsAi0CLgIvAjACMQIyAjMCNAI1AjYCNwI4AjkCOgI7AjwCPQI+Aj8CQAJBAkICQwJEAkUCRgJHAkgCSQJKAksCTAJNAk4CTwJQAlECUgJTAlQCVQJWAlcCWAJZAloCWwJcAl0CXgJfAmACYQJiAmMCZAJlAmYCZwJoAmkCagJrAmwCbQJuAm8CcAJxAnICcwJ0AnUCdgJ3AngCeQJ6AnsCfAJ9An4CfwKAAoECggKDAoQChQKGAocCiAKJAooCiwKMAo0CjgKPApACkQKSApMClAKVApYClwKYApkCmgKbApwCnQKeAp8CoAKhAqICowKkAqUCpgKnAqgCqQKqAqsCrAKtAq4CrwKwArECsgKzArQCtQK2ArcCuAK5AroCuwK8Ar0CvgK/AsACwQLCAsMCxALFAsYCxwLIAskCygLLAswCzQLOAs8C0ALRAtIC0wLUAtUC1gLXAtgC2QLaAtsC3ALdAt4C3wLgAuEC4gLjAuQC5QLmAucC6ALpAuoC6wLsAu0C7gLvAvAC8QLyAvMC9AL1AvYC9wL4AvkC+gL7AvwC/QL+Av8CAAMBAwIDAwMEAwUDBgMHAwgDCQMKAwsDDAMNAw4DDwMQAxEDEgMTAxQDFQMWAxcDGAMZAxoDGwMcAx0DHgMfAyADIQMiAyMDJAMlAyYDJwMoAykDKgMrAywDLQMuAy8DMAMxAzIDMwM0AzUDNgM3AzgDOQM6AzsDPAM9Az4DPwNAA0EDQgNDA0QDRQNGA0cDSANJA0oDSwNMA00DTgNPA1ADUQNSA1MDVANVA1YDVwNYA1kDWgNbA1wDXQNeA18DYANhA2IDYwNkA2UDZgNnA2gDaQNqA2sDbANtA24DbwNwA3EDcgNzA3QDdQN2A3cDeAN5A3oDewN8A30DfgN/A4ADgQOCA4MDhAOFA4YDhwOIA4kDigOLA4wDjQOOA48DkAORA5IDkwOUA5UDlgOXA5gDmQOaA5sDnAOdA54DnwOgA6EDogOjA6QDpQOmA6cDqAOpA6oDqwOsA60DrgOvA7ADsQOyA7MDtAO1A7YDtwO4A7kDugO7A7wDvQO+A78DwAPBA8IDwwPEA8UDxgPHA8gDyQPKA8sDzAPNA84DzwPQA9ED0gPTA9QD1QPWA9cD2APZA9oD2wPcA90D3gPfA+AD4QPiA+MD5APlA+YD5wM=",
          "dtype": "i2"
         },
         "y": {
          "bdata": "CnJ3H3Y9PUAozq2Y51k8QKCxFd/Km4LAqJgGRtI4aEDLGeH8bVVrQPziwK6uNGNAP4BI97SQZcDY/y9Sbu9qwOztVhdvRURAmP4FkjYYX8DcBLjlHhUywFmflhybvWTAKB6FELTqU8CEAb9Td803QDHo7B0JzVVAwHrmOLIkcEDeShwbHBVzQMY3O4Bwv3DA9gjbhWLZU8Csi2xmBcVAwP3+sLP3o1xAwOyzWq+ROcDY2LwtH8hWQJ5cGCW/nW3AuGYhA0MIY0BmLYIvardrQCSAZ4+mAFzA9rf6wyCFUMAvQO2o1qJnQKg3afhMfEZAOrMNKE1+TcCQsECO2bhdQMihHrBL1XDANBNAvqcBUUDbYjO+zqBrwAQx6MAtckDAT2cMyL9xgEBNR35ITgpKQIQda086OkbADMIHNAvyZcCX4dNQAqpwQNrWYqgD/1DAfXLgu7LXdcAONJIFZjlZQBHWiiP6lEJATGcHICF7csCMK5k6uGJDwMnQwbKdEWpAVCWoI12UUkAGOdjro/BvQOL2i6mnN2RAmCcBsc+IVkCGPJyghElzQOwyGWenKE/AYHHmfuz+akCvcRtgmFJuQMGJ22umaGVA6TZH+9ySWkAm3W/RKeZswFLdkNH3pUlA71BL+DHyZUC3k0tJdkF4QKx392F4NldA86qcBUhLSEAKUG31HB4wQKg7G2Gzpm/AlDUw0ScBUcAtNgroSdk1QF2tOyDYeFJATJirbeSVaMDNFWlGHxdIQFInCCMvoG9AKE+vCh8YLcDGSZG5dVZxQF0a0iOgmnHAH/rT7PjSYEDoG4C8dFVcQFjWKd2p8CrAbLrus35+NEAyP3wB7bhcQIq7qWwXEWPAwH3ARn89Y8ARlJAROVBhQNwteOjoZmNAT8UJKLO0f8CZCN6B/3NMwJUgpz78HXjA0sc/k7XybcA0vwb2ZTJdQC7uiS3gbVdAwIH3iEFvYkBIh/B9h2M5QMNHgGUbtHPACLYQlwI4d0AUP2YfWL1JQFKiaT2DmmJAEi+xpEBQacBX3Iq1e2FowFNoua1EDHDA+Ll+wqPHbUC9OYODjvBgQOJYAGKwEHFA94rYxhl3XkCsOT4FmrhEwEf+Xs6WFmTA1QnuDQYHYUDAWlmjwlYCwHSOL/ZzEjvAhR48Y2mgUUDiJkmXeRFNwOABRtVhJjJAKi59jzOPQsDSVpLTfmF5wLg8WgT1JEBAeH/PVL4VdsAIslCw1QktwAXQj3HUQWpAK9tORduUa8CoawOXvsA1QA889vjLAFhAyO3jDpvcOkDIMXSfJz5qQNyncnYS4XJA46R6li4pcsBQMZdAXT8qwI+GWavnDGZA5IEURrISaUBcFozahIBywHpe9CWnt2DAgMJ9NzbAYUCyA60LsnBCQLSMPsQap2nA72XYkCdEcMDh4cB39QJYwDY9Gb+zWWBAxaTVToppYsC66RJV+1FjwP6eCCVZL2tAz23Vg4/MbEAzoJKwc/tjwBCPnnG2qh5ACv8vPpMlekD4vOtsXjZwwC+TpYYXlHLAZmZ+HeoRJkBTt0cqC650wPh3oS2yQllABSjcdIPMQcADDCRpE0JQwIBrUtugveK/UopRU4oWZMBAqUhQCBFTwGoH3lsyvXBAQHTnreqGEMAA6wDQiIjPP6ypvCJrdkVAu8AqYhGeUcAOLfxXf1dyQB6dJl3whmTA154QohG/S8ALy3E70XBhQFSn0gmOlGHAiSdC4LwlZsBICnzpAbdTQH8PNH0apjrACY9wzquDakBw1f/VhXQkQDo558+Mm2XAAoUg/69hYUDLmrev4xpGwMrj3+LoCFdAwyfbAIehV8C0i1z+rWNrwPDuichyQzpAIA896+wFdkBUHomlrgVhQDiIE10CdUZA5MbE9raEeUAuoWEyiXRrQCAVsRCf2lfAENqNRx5RN8ChcZ7oYQxTwFVvN6EPLVZAhN1e4oR9dkDhnw6LcwljQFVfXPyS8HvAAJdFt1qrsz/eqIQ+9UxswBkJ4gnp4WNAOKhQzb+fS8Ac5bwvs65oQIyJh0yzO2FAIvzDfbGrccDXBg9zkO1SwFq2X2Rh9WRAxZnq8VLvYMA0ragAsLNEQHHHmntpWF7AVhlC7Zr+ZsCYzG7pkytuwMIAvCHl2mzA7hLq5sLFgMAjx0IsFzltwNtB/ImjxVfA7IXceOV+bUBAeKiDhYk0wAJjHAdnAXbAsByfhACjJ0C/nX7nYSFgQNznrgjIS0JAkFB49WlNI8B6w6zSckNxQMA644kjgyRAzPeZ1lM2ekDkiBYCtH9UQPfewXQyuGLAM3tyWavEQ8DCFnwyjnNhwN4AZtAgvFvAEI5ZLY72bkCLYExzJZN2wAB+wbDR6s6/lwfxCgNTXcD9JnF77wpoQDZ6k8nfhm9A8WMf97Urc0A20RqshD9LwMS2gmqBEE3A2dz43ppGUsCUEcbN4aQ8wMftoPKmKWVA8jt6QRs9YMBO5WEUqjBqQIrwH3lLM3BAIbQKGOPHVcDKfLQZsYR1QAAQGh83e9M/iEmVE7r4J8DhDsv3VIw5wFMp1VL6VlhAgeQRSWpvUsDLyyYLFGZ4QJCiCrOiSYFA402yn228Y0CEpEuzFBUjwB+VgLyOP2RA7G87B4UycMC09pVJLxIZQL141t0gvXpAsoQGPhs9TkDmUj5BbFlTQBie+8/cZFlAtwZDuNrUWsBwzLIan91jwNp5JuvKKGdATBgBLODTWMCEMchLddd1QCyjzRz9I2fAJXfznd2TWsDKaedYpJxwwFI3rGN4jl7AYdhctSbxW0AQ+EyzmQQtwImLe2YbnVHALtsyAN18XMAkX6DxKvQ6wL5i8RSAr2LAmSfoNU+pZMCKbvZav8NgQBIeDtJam1hA0X0rQixYTUB9fw74wjpZwKuspAdmZIHA37hmBr4/dkDuMXY2f8w7wHZUnEK3t2hAdvOFzB57YkA3ONvOPCJSwODSFol1inTAWGR8vWNtZMAyRkE4+N4xQJbmo1RQsmhAnWQrdmf2RUB27OI2b8ZrQNrIQ97Lu2BA3iMBk33XXkAWsmlgMu9cwHUDeh9os2nASAUVeN+gRsAk6ilMW8xdQDwuMlkB5HXApJv8XhAkc0BxJ1EyUD5jwMrA1I2u00NAhD2mFL81IMCOm+3TusUhQKwhGLB8cHfAdjKmbFkyWkBgH7x9phI6wOyxo0ZGgVVA7gaQoPAPYcDhjQS3dRhMQCHyhVFGgXBA6Pte7/j2YsDAtg/zJG8fwH3euWN92WHAenBCeuRgVsDwqQhjf5RJQB+u5MycrGdAhlMEPch5bEC8ckghZX1WQGq2wzcVr3TAIEWOa6mjK0C8TOG3wBlywEwWds0jSlZAZlt9dfKAZ0AcuML+XPZewJDB4REZn0jAO4NM+AXxXkDm4j0uBdZ3wL1FPC1Z40JAauCahN5lWUCMhdERbXFaQDwDwZbHvE/ArcNmflRLYEAUEYnbVX1TQIc9OQpdEF1AAeS9wUSDUsANYy3C3GFEwCCoAkR4b0jABqiqgHgmc8AWvfhCbX17wFEbOlQdyGBAnPK+cN72WcA4EA3n9bYvQEFmBKgkDnPANQ+A4CvhgEAUBHxMYfNOQCPkERAUwmjAuHqlBGDkIUAPzS9vRbdbwHzKNxFPIDVAVn5Rra0HZ0BwEq5jT5I/QN9MpxVp9VfAQ0fE7ZMoYcCI7x6yxy94wIH3SPpSvnTAYq9XFJhQYMAO/221lqpywKS/VoB5S11APJ38ZtdGR0AXs+wAhZ5aQLAx/zyHvj/ADi1Qve4kaMCm9znpUnhbQBFMbfkxTVjAmMs7GL8JMcDyhhbe0jRuQEYjgowQAmdAjYohiVqZQMAQwDylz1sUwIvDY8PSyUtA/1ofq+JNc0DXMrUcdI1lwGjwMsy1JnNAqjGpIxYcRsCPyVi+ZYVWQCqSS53mzWjALFJ1UKEBbcAogiLcKr5YwDBI9m6TXU1AeHp6NBKJccC6tY4yxrFtwIOoMrf9JlxA7kNSxaWtbkD00BuGjc5gwA8TUDAS4kHAN6I54oISccCEUJ//UW5jwNFcDNKvimRAggaLLoEadkB0RP3LRGFzQJYpUpyUO2ZAwiQ1Sn//acBYlWy0cGdowKRMMH7rlTLAYgaNnku7dcD8gQzmZlhqQGix5r2hqFhAWJZ2DP3eEsCEYGNd53MzwDgYHMBcKEFAv7F+6YizXMBaPbcgBileQLqkcgkrqFNAjgh+l4JdUkD6K9INnwtQwNar7NLWlEbAgaaEAIFmWED6pYBPOGpCQCEu3DZywi9A4HetGBvlMkAQ863gJJVZQHNss+vScFfAGsQddxDVT8CegdfNI9FZQCn10NiBsEVAoRfkQmSPN0C5O2fGUkBuQPS7w+vpEUhAgN8P+HAxLkCxyDn0oeVwwJwgtp0sT0zAk125gtt9csBw6Zb2ExhVwLnRmTbkgWPA3mgYT+wYVEDeN2nFznlvwP2ekS2s4kXAy4ki9D5PYcBwZrNNezwVwGTAQMI0bDhAcnpBLXGZW8D6USv0PPJnwAR1wz5h6EFAL5yACtY+YsBMJ1GoXiZMQActD0hEYnJAyhUojGakZsCQ2G0u1DI0wIi0SqVk1ydA9NvSR1eoZ0CIb55JMKAzQByavQ3eImNArGkj2N02UEAi9B1l2XwzwNxhbIZ+aGbAAas/eBb/UkB6hy3ZEgNWwNBtyxMGlEFA8E7GHVZlUUDghxZf6R5zQKsoketefHPAel8Lnc2NQEAJcR10j+dUQG48SSbX4kVALhXjkTewXsDeEPwkc9BeQHy1vCN54VjAJtZe3GjEcUBzh9WhqjxZwBN3T8fZGWTAnzg04C4aYMC8RAp3lb1VwMtlz+jGJ0tAvbff/64+aMAyCosDk1BiwAr4qjdt6F5ATjdvhcEAW8DLzpQgpNkiQK+tfb7MKFXAmAC77HeHXEApMCCw9cViQFDpwLj3bjpANoEH4jk+Z8DJgIvSoiZ0QEOC02JNMExAEK1uLoGCaMAJiQ7hathqQHGbY/owaGPAv9xQZSk5cECBKhmD4hdkQJa3q6Zf60ZAQDJ4qSg8GcDDU+rE6GlgQAqfpY3gGGRAZxKos7bweUBjknZT3ZZIwD5CxfdXeSHAxkFx1MHNJcCCdzEhZxBzwAwpanEbZUtAgSOwk2PqUcAOfDLQLcRDwF+Xc8c1vSvAlCBcq2n4FMDgO0FIlsI2QDSWCbd9vGHAfudoKlQcZsDkp/qX0cJYQPtpgW3STVbAmEAT3b8NEsAyoyCbH15WQG7heYhZOl9AIFfjB6GLKkA5Vsg1wtFewEok93FqTXTAG4m5hCRtaUAITGVpkPQ8QNJLOfnmsWDAiCm7YwgzZcCiwk/tbWVQQCasBtf8tWBAVHwk3rFsSsBQnpGoaIRGQBH+Ay4BSGZAh/8L5Nc0ZMBI6Cmnh9JYwEv1zy8nY3ZAmLuaFgV8VUAf4XzoMgVtwC4A84sZvl3A0pK0QOCON0AA4Wv4tzoEQL3UxNx7Gl9Am0vTDJJCXMDA2bUr+6pfwLhfFx4/92pAddHdohK0YMDszUdauoRgQBerIuPLYFzAQk0oanmpa0CUtY7soTRmQOBcZeGUo1VAnUFjgsEXUcAYSKyqpxQ7QAAA4aIhI3u/8K9Ads8HRkD3QaYmnVVgQGlEy3Z7NFXA1MlphLnhZ8B4MPO0BNM+wA9jf2dbdUfAnFfsDy8pIkBwhu5dTRIYwIW10ChiDGRAQHdRgS/JZsAIxlI+OQw+wEaeRMnGoWFAC9+IPfrEPEDV0QjqnyxQQNH4Ggt6t0lAcWqn2gnzc0C1AKaDizFHQAovK3znPXJAypnMzukMMsD31gJA1kB2wKL1nIWkVHtAxuxXN4rmQkBAQWsThANSwJeSo083wFDABA2jXBGrZEBd6hfT7EtVwDbP2Kf77lXAB+nYD5lzdkD+Av1e0vc7wJ75pC3bugnATuK1C4JxaMBey5v6jqh6wLyAz8/j3U1APrJrShXOWsDYHHKWCl1PwO/vHVBt/G3AdNuth6upSUDGx2V/CnVgwBLcHsQT12lAukXFmVkbYUBukB7nJyN2wPAl37CohlBANKoNRu/2REAEUFEB/XM8wL/v+KHLFEDA9h5rgQy4akAagiCgRCVpQHlcH8njpltAW2Hberw+XMDBgZ8ZrtkxwK76PhdBdFvA6NOyZDXkVkCTa8WtaTpYwCD9mJhd507AR2UFzdw3ecAI6EQ9TMJgwL4VSn0br1NARPk9o3+lbsAj7HFmdF9SQGpLq2JqrGdAQAtZpwmbcMCShDGkKglYwJB79H963mfAlP5oDq87MMAcyaP9bO5TwEKlAGd3R2TAFhcAxwJwZcDwj617gQl1wMIeZZFKUXFA++QZcTrJZMD4JShBqP5twIP+QrOe4zlAioYTZyYcX0AML3cU6lxHQKC3TXd1MTtAmpSG9gxRbEBY1ps8eFdxwBZ9PXOMSTTAqzzU9CnBWUBHEbiXqohvQEFm73qquEbAwOpnAFkPCEBJod4XfUxdQARbJ84PBTdAPbzVnlA/cUA6j0y3JVxEQJjpB5FKJlZAiho/oR5FfcCwTBOAsqZkQOLUlrSxNUZA02FhCzYJXEAgqFk2g6g0wJwZ9VxC9GXAZLtxn7D3ZsB3Bs4yX7JiwH4f7VvklGRANL2E0AMCU0A3D8LduHJCwA5utd/DCVdAekoZCB1Db0Bu3mvgU/V1QLd10aho3nDA+GsfDdXdYUBzsvJy1bBxQMx21CFRl11ADU2UQvUacEAkY9qkDN46wDnGLQuqZmZAvO5adlfMOMCj6Qgb1AhvwL1I6M383lBAmH/CkkRgRECH7PqGKhhYwCAUDMZp/2NAcD073T8YcECs//31sm1iQL4skn+zzGlARQzgfGjDUsDQM3mecTwXwFj2FkgSinvAQCyUtCRU+78MP+sTj4RIwGZQLllqeVBAzvoZFuVdVcA0uKcPkoEgQEoFrOSe23ZAGG9um57LbUCiMGeu0nNSQCGxqkRgQmxAqZ8ApDUEVEDKfstx/ZlZQAlGqXFi109AlOuJNc0aSsBnS87O82xoQEeFMrTy12DAX84smwYzWsD8ShkspG9JwHe1Qt/+uGzALx3HwxmJcsCPQt+9VNhMQDkn/3y1HVLAgw5SNsdnaEDKA/Jk+htsQOyDCtEWbzBA/XcJUUEza8D69kqtWXpQQPUpnXq6PTzA6sFD0i+nVEB1D9lhcW9QQO7AKHcjbWBA8a2J6L71aMCshfDCmS5owAehKrIBpEvAYLIOB2m5WkDGKi3ovJxvQIuQrffQwnJAWd3IlrXkUcD0lBhF0zttwJt9pZNkymTACSeZgOIVVMCRjAqLHa9iwMGPEodbbGjAY/Y4KXY0V0AvepsAk0d1wNfFKkxns3bA78Bh+z/uTsAOF/T8G3RLQGY/4lpfk1lAfL8E8i43ccAupbq6hO5JwAhj6hzPzFjAXxzNP04gZ0ABC+EKu/hpwFAdS7sf9lXAuuAkfYjsUEBeqZzFWjtwQPwvbY2ktVvAkYb2sEMeb8BRYT2DODpmQPe+mCnb5URAkrlCGwmZUUDRgzpcO9ReQPiFu0BXQzvAUs5On7ieQcAYSj5jwqFaQFT0709Rd2PA8GD5wQpBIMB3M2s0NctrQDSBFhMYvEjAvuy9+laUVUBKVj4xttdWQHC1TuX+px7AUND2jNJWQ8DSOrfEstBzQNjnwurlQHVAYCzJ5eLWOcAWHG8wCjo7wPkFIGiElUtA5BI9RyV2bUBU5Fi0jm1QQExsutd1n2dAIs+/lNNRR8Blb6X94VdVwAqOYBc7b2zAdnXK4StHbMBebGxivi49wCFnyCgfwTvAICwPyodhZcCkCGo5tFA5QCGNr0KiAHHAHJffALEPWkAwKzlcZzRQwJ/o7wvbbV7Azp+p3rKQZ0D4U+7p7ydjQDAm5OV4L0TAhZQjQNxHSUAy15lB6PRxwK6vpiaVTnpA7XlBh910dUCHiHll7qtUQPKs4HCer1fA3qMhMUfkdMDR5Ar13152wFnpIWr6hmVAGmEbvre4X8AZW8oftxFmQM8Kef4NPkdA+DS9utrZNEBOrJ2rSu5JQKaKq82E3nLACmXqP9INYkB8pbjiiLBaQHOOjRmW3WBAcJG7gxuZZMDS1ZLvsY5kQE4oZrzzvG1A/l5/M2Qqb8D69uWbJDJgwNJCwaLqsW7AUz13TArIYUDCi/glnOh0QJhLUU14MVZAr9y0xXk/csDqOhESH9ptwO0LIMFTCG1AejWX1PwzTUCSYDCJRUBuQCV0LqX6pWbAhyml4CG0U8Cfz/8PUQtdQNjeSHSQSWvAvLfGPk9IZEBtBPdtQnVFQEms8KnhwlVAz4d06D2PQ0CiODT/U8lKwOg0wsNBEWdAFgAcwYjDa8A7Psk9krhiwHiV4UvtrhVAfBXxAPVjc8B/qO8gEtppwGjublFBaT/AbzVa1+n+VEDYbo5VfmBywFyXjfs4q1XAJhF4n+m+aECLukBT6i1QQBruqvw4l0nA0jP2juLaWkADnl94p1pjQBhL8fdFDSJAy2ZXxAg8a0Dg7I9h93ARQOtImPiYZWBASjEAnDbOacDgnLn8NGZnwFZKOSt3p0LAGOnsgDs8IUDq0Zw+KZV4wBgnSdUHpzxAotxdFgJdcMCkyYkdaLdsQEBq+4m1rVtANmHAPi04UMCQawjSKudgQDAwys4EvXFAol9Tt8ALZsDWWjNT765OQKerd1o793HA6nyRWtxzYsCz/cpM/YBwQEPj0WwgfWDAWHrHBHSJWECnb1LrrSBqwPCIUYxffyxAra7At/kTZMDmZzs3lYdcwE8z1cIb8mlAVt6VdZWRXsAIWhag669IwDjyoimzsU3A/Msf1ZDEcUAZG3sBqNVhQFFxbvelaG/Ax5NfFdJGO0B4RMMWv0QrQMRg6uZO+U1Ay5Yy4ko5YkBAMwZ1VlVSQLKDpQ0DWVFA5LVLgWMdZcCiE/QKibVcQLfOtBB0oFxAkLCEB5jPcEDmEI2bMkBuQGE6/1fNmmzABuEUxxHhcEAPFZBqoxo4wGwX8TbwTHXA6CQq+dIvIcA4+yTbgAhUwD9MFblqkWHAjCztLx+CZUDA3TntTfFbQCoDCsaFG2FAOAjUwQeaXMAG/iwBZaZSQIWsbsjtbmrAlPcsIO2US0C80m3nnsM9QLSMyqL/pENA4H63rrVJYMBIuoK8QApAwN7S4C/D5m5AM3oyc8Xca0BYoPPGrrRlwAiYs89e42PAYdvm8Hl0cMBoId59xIphQHHUeP+J3GXASL66COXSbMCGOPs9V6FTQIdoNE5xE23A9zp6jLUTb0DmivU7+rxAwFb3+/sH4W/A/sNHJj1MUcDcDNK75wRywC9sAuaFT3NAYWprhfaKRECUSTNvhbVKwJSpCRntp1HAaqO7kG6JakDR4l5klCRVQDnLsFmJX1hAjtnCFTavVUDax7hJjKtoQFe+sKEMUl5AbQpQkrw7R8A+TGvO8jZqwKO0OZU1TnNAPIV9DnxBcUDkYZrNRjlAQF4BuYvnKTVAeo3zbRy3QUCA6nnXw7RaQEwDKv6DVnBAwsm78OiKU8CifiJsq09HQAxbpUa53mLAukHoafycdsCk1n82XG9pQJKtsECzClDAE8/Su0s9c0BupBvHtphBwHxHEe1pYDvAorgZd8K5YkCOqrLAYdhoQMoSim3e4FBANlO2j9UYbkAELllhYd9HwLFrfpElUWRAAoHY3woVS8Cwnzk5PAo1wL4bdPqGHHPAAuT3SpD5c8AhKAo/D6FkQIA1LalzAytA+fJqDdjbZ8AWJUHz8IJrwBxKoGzPMXdAauIxaFsIf0DK+h9OiutfwMLUGTZyTWXAoFzuHQaOZkCuuHw3B0h2wMVuMvZahlZA4ADTcmvk8L+K7OKiRAp0wLwVVj4YuWxAmNwBJXwCUsBggjQELZ4YwGlSNNXR0l5AwxPozUkhTUBEESNsqQdnQIGCN7cSomLAp1uVD76AYUBvsh0lUzBRwFxAVW8yomxA/l9UQBTkekA2szOAS1FkQJjsrlRkGWJA5NqPe+QUbEDYObUlZQRwQPqPp49HdmrAKBjQsr2lXcB2fU/+4UaBQL7aiQqW/lDAEeji0+arccDpTymdB/NtQDwNeCHQRB/ATPj0pLPPIMAEexn4OksmQFAwm1y6bmfALTkSH/ftdUAX7QQXDx9MwBBPI0sT7VDAnM6nX6rud8BAIkA0PaRkwCM7yIerEUlApCzxCq7fVMDcFalNFvwgwOjXEJvSWHXA4IPskw41CkBWnttat4xawIBb19vKQRZAeJwFtYzIN8Ceno2WbhB8wMvQJGG7+0TA6vVmaRZUZMCi0ZbWyvpiwJX5CxGQomzAkh8pf306bsBcumcp+NteQKYUMqsckHTAe0KGnOF+YMC5a6MtVDJrwB3iYN7i905A9OcmvMlracCgXWdeeQlTwL7XcgDpLWXAMSz+YtgVWEAk8uCGuh5rQDTh0bVC0GFAHb8U1Q7OeMDSCAuBKAdLQOZYufbRQGpAxMp8ROv7QcBDmDZM1rdgwBnPTdeE61zA/D8tbh0uWMDguZxL/fVgwF1lEr3E2F3AjljGHLQVacAiKQF3PEVTwPcP/yL022NApoue4v6yZsDyEK55oe9wQEYWUADjlFjABqylQiKagEA=",
          "dtype": "f8"
         }
        }
       ],
       "layout": {
        "template": {
         "data": {
          "bar": [
           {
            "error_x": {
             "color": "#2a3f5f"
            },
            "error_y": {
             "color": "#2a3f5f"
            },
            "marker": {
             "line": {
              "color": "#E5ECF6",
              "width": 0.5
             },
             "pattern": {
              "fillmode": "overlay",
              "size": 10,
              "solidity": 0.2
             }
            },
            "type": "bar"
           }
          ],
          "barpolar": [
           {
            "marker": {
             "line": {
              "color": "#E5ECF6",
              "width": 0.5
             },
             "pattern": {
              "fillmode": "overlay",
              "size": 10,
              "solidity": 0.2
             }
            },
            "type": "barpolar"
           }
          ],
          "carpet": [
           {
            "aaxis": {
             "endlinecolor": "#2a3f5f",
             "gridcolor": "white",
             "linecolor": "white",
             "minorgridcolor": "white",
             "startlinecolor": "#2a3f5f"
            },
            "baxis": {
             "endlinecolor": "#2a3f5f",
             "gridcolor": "white",
             "linecolor": "white",
             "minorgridcolor": "white",
             "startlinecolor": "#2a3f5f"
            },
            "type": "carpet"
           }
          ],
          "choropleth": [
           {
            "colorbar": {
             "outlinewidth": 0,
             "ticks": ""
            },
            "type": "choropleth"
           }
          ],
          "contour": [
           {
            "colorbar": {
             "outlinewidth": 0,
             "ticks": ""
            },
            "colorscale": [
             [
              0,
              "#0d0887"
             ],
             [
              0.1111111111111111,
              "#46039f"
             ],
             [
              0.2222222222222222,
              "#7201a8"
             ],
             [
              0.3333333333333333,
              "#9c179e"
             ],
             [
              0.4444444444444444,
              "#bd3786"
             ],
             [
              0.5555555555555556,
              "#d8576b"
             ],
             [
              0.6666666666666666,
              "#ed7953"
             ],
             [
              0.7777777777777778,
              "#fb9f3a"
             ],
             [
              0.8888888888888888,
              "#fdca26"
             ],
             [
              1,
              "#f0f921"
             ]
            ],
            "type": "contour"
           }
          ],
          "contourcarpet": [
           {
            "colorbar": {
             "outlinewidth": 0,
             "ticks": ""
            },
            "type": "contourcarpet"
           }
          ],
          "heatmap": [
           {
            "colorbar": {
             "outlinewidth": 0,
             "ticks": ""
            },
            "colorscale": [
             [
              0,
              "#0d0887"
             ],
             [
              0.1111111111111111,
              "#46039f"
             ],
             [
              0.2222222222222222,
              "#7201a8"
             ],
             [
              0.3333333333333333,
              "#9c179e"
             ],
             [
              0.4444444444444444,
              "#bd3786"
             ],
             [
              0.5555555555555556,
              "#d8576b"
             ],
             [
              0.6666666666666666,
              "#ed7953"
             ],
             [
              0.7777777777777778,
              "#fb9f3a"
             ],
             [
              0.8888888888888888,
              "#fdca26"
             ],
             [
              1,
              "#f0f921"
             ]
            ],
            "type": "heatmap"
           }
          ],
          "histogram": [
           {
            "marker": {
             "pattern": {
              "fillmode": "overlay",
              "size": 10,
              "solidity": 0.2
             }
            },
            "type": "histogram"
           }
          ],
          "histogram2d": [
           {
            "colorbar": {
             "outlinewidth": 0,
             "ticks": ""
            },
            "colorscale": [
             [
              0,
              "#0d0887"
             ],
             [
              0.1111111111111111,
              "#46039f"
             ],
             [
              0.2222222222222222,
              "#7201a8"
             ],
             [
              0.3333333333333333,
              "#9c179e"
             ],
             [
              0.4444444444444444,
              "#bd3786"
             ],
             [
              0.5555555555555556,
              "#d8576b"
             ],
             [
              0.6666666666666666,
              "#ed7953"
             ],
             [
              0.7777777777777778,
              "#fb9f3a"
             ],
             [
              0.8888888888888888,
              "#fdca26"
             ],
             [
              1,
              "#f0f921"
             ]
            ],
            "type": "histogram2d"
           }
          ],
          "histogram2dcontour": [
           {
            "colorbar": {
             "outlinewidth": 0,
             "ticks": ""
            },
            "colorscale": [
             [
              0,
              "#0d0887"
             ],
             [
              0.1111111111111111,
              "#46039f"
             ],
             [
              0.2222222222222222,
              "#7201a8"
             ],
             [
              0.3333333333333333,
              "#9c179e"
             ],
             [
              0.4444444444444444,
              "#bd3786"
             ],
             [
              0.5555555555555556,
              "#d8576b"
             ],
             [
              0.6666666666666666,
              "#ed7953"
             ],
             [
              0.7777777777777778,
              "#fb9f3a"
             ],
             [
              0.8888888888888888,
              "#fdca26"
             ],
             [
              1,
              "#f0f921"
             ]
            ],
            "type": "histogram2dcontour"
           }
          ],
          "mesh3d": [
           {
            "colorbar": {
             "outlinewidth": 0,
             "ticks": ""
            },
            "type": "mesh3d"
           }
          ],
          "parcoords": [
           {
            "line": {
             "colorbar": {
              "outlinewidth": 0,
              "ticks": ""
             }
            },
            "type": "parcoords"
           }
          ],
          "pie": [
           {
            "automargin": true,
            "type": "pie"
           }
          ],
          "scatter": [
           {
            "fillpattern": {
             "fillmode": "overlay",
             "size": 10,
             "solidity": 0.2
            },
            "type": "scatter"
           }
          ],
          "scatter3d": [
           {
            "line": {
             "colorbar": {
              "outlinewidth": 0,
              "ticks": ""
             }
            },
            "marker": {
             "colorbar": {
              "outlinewidth": 0,
              "ticks": ""
             }
            },
            "type": "scatter3d"
           }
          ],
          "scattercarpet": [
           {
            "marker": {
             "colorbar": {
              "outlinewidth": 0,
              "ticks": ""
             }
            },
            "type": "scattercarpet"
           }
          ],
          "scattergeo": [
           {
            "marker": {
             "colorbar": {
              "outlinewidth": 0,
              "ticks": ""
             }
            },
            "type": "scattergeo"
           }
          ],
          "scattergl": [
           {
            "marker": {
             "colorbar": {
              "outlinewidth": 0,
              "ticks": ""
             }
            },
            "type": "scattergl"
           }
          ],
          "scattermap": [
           {
            "marker": {
             "colorbar": {
              "outlinewidth": 0,
              "ticks": ""
             }
            },
            "type": "scattermap"
           }
          ],
          "scattermapbox": [
           {
            "marker": {
             "colorbar": {
              "outlinewidth": 0,
              "ticks": ""
             }
            },
            "type": "scattermapbox"
           }
          ],
          "scatterpolar": [
           {
            "marker": {
             "colorbar": {
              "outlinewidth": 0,
              "ticks": ""
             }
            },
            "type": "scatterpolar"
           }
          ],
          "scatterpolargl": [
           {
            "marker": {
             "colorbar": {
              "outlinewidth": 0,
              "ticks": ""
             }
            },
            "type": "scatterpolargl"
           }
          ],
          "scatterternary": [
           {
            "marker": {
             "colorbar": {
              "outlinewidth": 0,
              "ticks": ""
             }
            },
            "type": "scatterternary"
           }
          ],
          "surface": [
           {
            "colorbar": {
             "outlinewidth": 0,
             "ticks": ""
            },
            "colorscale": [
             [
              0,
              "#0d0887"
             ],
             [
              0.1111111111111111,
              "#46039f"
             ],
             [
              0.2222222222222222,
              "#7201a8"
             ],
             [
              0.3333333333333333,
              "#9c179e"
             ],
             [
              0.4444444444444444,
              "#bd3786"
             ],
             [
              0.5555555555555556,
              "#d8576b"
             ],
             [
              0.6666666666666666,
              "#ed7953"
             ],
             [
              0.7777777777777778,
              "#fb9f3a"
             ],
             [
              0.8888888888888888,
              "#fdca26"
             ],
             [
              1,
              "#f0f921"
             ]
            ],
            "type": "surface"
           }
          ],
          "table": [
           {
            "cells": {
             "fill": {
              "color": "#EBF0F8"
             },
             "line": {
              "color": "white"
             }
            },
            "header": {
             "fill": {
              "color": "#C8D4E3"
             },
             "line": {
              "color": "white"
             }
            },
            "type": "table"
           }
          ]
         },
         "layout": {
          "annotationdefaults": {
           "arrowcolor": "#2a3f5f",
           "arrowhead": 0,
           "arrowwidth": 1
          },
          "autotypenumbers": "strict",
          "coloraxis": {
           "colorbar": {
            "outlinewidth": 0,
            "ticks": ""
           }
          },
          "colorscale": {
           "diverging": [
            [
             0,
             "#8e0152"
            ],
            [
             0.1,
             "#c51b7d"
            ],
            [
             0.2,
             "#de77ae"
            ],
            [
             0.3,
             "#f1b6da"
            ],
            [
             0.4,
             "#fde0ef"
            ],
            [
             0.5,
             "#f7f7f7"
            ],
            [
             0.6,
             "#e6f5d0"
            ],
            [
             0.7,
             "#b8e186"
            ],
            [
             0.8,
             "#7fbc41"
            ],
            [
             0.9,
             "#4d9221"
            ],
            [
             1,
             "#276419"
            ]
           ],
           "sequential": [
            [
             0,
             "#0d0887"
            ],
            [
             0.1111111111111111,
             "#46039f"
            ],
            [
             0.2222222222222222,
             "#7201a8"
            ],
            [
             0.3333333333333333,
             "#9c179e"
            ],
            [
             0.4444444444444444,
             "#bd3786"
            ],
            [
             0.5555555555555556,
             "#d8576b"
            ],
            [
             0.6666666666666666,
             "#ed7953"
            ],
            [
             0.7777777777777778,
             "#fb9f3a"
            ],
            [
             0.8888888888888888,
             "#fdca26"
            ],
            [
             1,
             "#f0f921"
            ]
           ],
           "sequentialminus": [
            [
             0,
             "#0d0887"
            ],
            [
             0.1111111111111111,
             "#46039f"
            ],
            [
             0.2222222222222222,
             "#7201a8"
            ],
            [
             0.3333333333333333,
             "#9c179e"
            ],
            [
             0.4444444444444444,
             "#bd3786"
            ],
            [
             0.5555555555555556,
             "#d8576b"
            ],
            [
             0.6666666666666666,
             "#ed7953"
            ],
            [
             0.7777777777777778,
             "#fb9f3a"
            ],
            [
             0.8888888888888888,
             "#fdca26"
            ],
            [
             1,
             "#f0f921"
            ]
           ]
          },
          "colorway": [
           "#636efa",
           "#EF553B",
           "#00cc96",
           "#ab63fa",
           "#FFA15A",
           "#19d3f3",
           "#FF6692",
           "#B6E880",
           "#FF97FF",
           "#FECB52"
          ],
          "font": {
           "color": "#2a3f5f"
          },
          "geo": {
           "bgcolor": "white",
           "lakecolor": "white",
           "landcolor": "#E5ECF6",
           "showlakes": true,
           "showland": true,
           "subunitcolor": "white"
          },
          "hoverlabel": {
           "align": "left"
          },
          "hovermode": "closest",
          "mapbox": {
           "style": "light"
          },
          "paper_bgcolor": "white",
          "plot_bgcolor": "#E5ECF6",
          "polar": {
           "angularaxis": {
            "gridcolor": "white",
            "linecolor": "white",
            "ticks": ""
           },
           "bgcolor": "#E5ECF6",
           "radialaxis": {
            "gridcolor": "white",
            "linecolor": "white",
            "ticks": ""
           }
          },
          "scene": {
           "xaxis": {
            "backgroundcolor": "#E5ECF6",
            "gridcolor": "white",
            "gridwidth": 2,
            "linecolor": "white",
            "showbackground": true,
            "ticks": "",
            "zerolinecolor": "white"
           },
           "yaxis": {
            "backgroundcolor": "#E5ECF6",
            "gridcolor": "white",
            "gridwidth": 2,
            "linecolor": "white",
            "showbackground": true,
            "ticks": "",
            "zerolinecolor": "white"
           },
           "zaxis": {
            "backgroundcolor": "#E5ECF6",
            "gridcolor": "white",
            "gridwidth": 2,
            "linecolor": "white",
            "showbackground": true,
            "ticks": "",
            "zerolinecolor": "white"
           }
          },
          "shapedefaults": {
           "line": {
            "color": "#2a3f5f"
           }
          },
          "ternary": {
           "aaxis": {
            "gridcolor": "white",
            "linecolor": "white",
            "ticks": ""
           },
           "baxis": {
            "gridcolor": "white",
            "linecolor": "white",
            "ticks": ""
           },
           "bgcolor": "#E5ECF6",
           "caxis": {
            "gridcolor": "white",
            "linecolor": "white",
            "ticks": ""
           }
          },
          "title": {
           "x": 0.05
          },
          "xaxis": {
           "automargin": true,
           "gridcolor": "white",
           "linecolor": "white",
           "ticks": "",
           "title": {
            "standoff": 15
           },
           "zerolinecolor": "white",
           "zerolinewidth": 2
          },
          "yaxis": {
           "automargin": true,
           "gridcolor": "white",
           "linecolor": "white",
           "ticks": "",
           "title": {
            "standoff": 15
           },
           "zerolinecolor": "white",
           "zerolinewidth": 2
          }
         }
        },
        "title": {
         "text": ""
        },
        "xaxis": {
         "title": {
          "text": "X"
         }
        },
        "yaxis": {
         "title": {
          "text": "y"
         }
        }
       }
      },
      "image/png": "[encoded data removed]"
     },
     "metadata": {},
     "output_type": "display_data"
    }
   ],
   "source": [
    "# Generate random data\n",
    "X, y = make_regression(n_samples=1000, n_features=100)\n",
    "x = np.arange(0, y.shape[0])\n",
    "pp.plot_data(x, y, x_label=\"X\", y_label=\"y\")"
   ]
  },
  {
   "cell_type": "code",
   "execution_count": 4,
   "id": "e44d1a47-5ca8-46aa-9f24-60f76256fb8f",
   "metadata": {},
   "outputs": [
    {
     "name": "stdout",
     "output_type": "stream",
     "text": [
      "X_train: (640, 100)\n",
      "y_train: (640,)\n",
      "X_val: (160, 100)\n",
      "y_val: (160,)\n",
      "X_test: (200, 100)\n",
      "y_test: (200,)\n"
     ]
    }
   ],
   "source": [
    "# Dataloading parameters\n",
    "batch_size = 8\n",
    "test_size = 0.2\n",
    "val_size = 0.2\n",
    "\n",
    "# Split the data\n",
    "X_train, X_test, y_train, y_test = train_test_split(X, y, test_size=test_size, random_state=42)\n",
    "X_train, X_val, y_train, y_val = train_test_split(X_train, y_train, test_size=val_size, random_state=42)\n",
    "\n",
    "print(f\"X_train: {X_train.shape}\")\n",
    "print(f\"y_train: {y_train.shape}\")\n",
    "print(f\"X_val: {X_val.shape}\")\n",
    "print(f\"y_val: {y_val.shape}\")\n",
    "print(f\"X_test: {X_test.shape}\")\n",
    "print(f\"y_test: {y_test.shape}\")"
   ]
  },
  {
   "cell_type": "code",
   "execution_count": 5,
   "id": "1faee360-af88-418a-be37-e4c31cfc0571",
   "metadata": {},
   "outputs": [],
   "source": [
    "# Get tensors and dataloaders\n",
    "X_train, y_train, X_val, y_val = get_tensors(X_train, y_train, X_val, y_val)\n",
    "train_loader, val_loader = get_data_loaders(X_train, y_train, X_val, y_val, batch_size)"
   ]
  },
  {
   "cell_type": "markdown",
   "id": "01100946-9172-4d7e-8741-e6279119800e",
   "metadata": {},
   "source": [
    "### Building the Model"
   ]
  },
  {
   "cell_type": "code",
   "execution_count": 6,
   "id": "a28d3077-4cd2-4a87-b1d0-075e1a418ece",
   "metadata": {},
   "outputs": [
    {
     "name": "stdout",
     "output_type": "stream",
     "text": [
      "MLP(\n",
      "  (model): ModuleList(\n",
      "    (0): Linear(in_features=100, out_features=200, bias=True)\n",
      "    (1): ReLU()\n",
      "    (2): Linear(in_features=200, out_features=300, bias=True)\n",
      "    (3): ReLU()\n",
      "    (4): Linear(in_features=300, out_features=400, bias=True)\n",
      "    (5): ReLU()\n",
      "    (6): Dropout(p=0.1, inplace=False)\n",
      "    (7): Linear(in_features=400, out_features=200, bias=True)\n",
      "    (8): ReLU()\n",
      "    (9): Linear(in_features=200, out_features=1, bias=True)\n",
      "  )\n",
      ")\n",
      "Number of trainable parameters: 281301\n"
     ]
    }
   ],
   "source": [
    "# Training parameters\n",
    "num_train_epochs = 20\n",
    "l_rate = 1e-03\n",
    "loss_choice = \"mse\"\n",
    "optim_choice = \"sgd\"\n",
    "\n",
    "# Create configuration for model layers\n",
    "layer_config_1 = [ # a simple linear regression model (a perceptron with no activation)\n",
    "    (X_train.shape[1], None, None),\n",
    "    (1, None, None),\n",
    "]\n",
    "\n",
    "layer_config_2 = [ # a multi-layer perceptron\n",
    "    (X_train.shape[1], None, None),\n",
    "    (200, \"relu\", None),\n",
    "    (300, \"relu\", None),\n",
    "    (400, \"relu\", 0.1),\n",
    "    (200, \"relu\", None),\n",
    "    (1, None, None),\n",
    "]\n",
    "\n",
    "# Initialise model\n",
    "reg_model = MLP(layer_config=layer_config_2, model_name=\"LinRegModel\")\n",
    "reg_model.set_model_layers()\n",
    "\n",
    "# Initialise model parameters\n",
    "reg_model.apply(lambda m: param_init(m, \"xavier\"))\n",
    "\n",
    "# Move model to selected device\n",
    "reg_model.to(device)\n",
    "\n",
    "print(reg_model)\n",
    "print(f\"Number of trainable parameters: {sum(p.numel() for p in reg_model.parameters())}\")"
   ]
  },
  {
   "cell_type": "markdown",
   "id": "4a3e973b-c166-479b-ab79-551ce26d4d8c",
   "metadata": {},
   "source": [
    "### Training the Model"
   ]
  },
  {
   "cell_type": "markdown",
   "id": "4a0c16d2-b16b-454f-8bbf-5a7e71fc6849",
   "metadata": {},
   "source": [
    "#### Loss Function and Optimiser"
   ]
  },
  {
   "cell_type": "code",
   "execution_count": 7,
   "id": "077a736a-fe9e-4d58-84b4-3f103cd6284d",
   "metadata": {},
   "outputs": [],
   "source": [
    "loss_fn = get_loss_fn(\"mse\")  # Mean-square error loss because this a regression task\n",
    "optimiser = get_optimiser(\"adam\", reg_model, l_rate)"
   ]
  },
  {
   "cell_type": "markdown",
   "id": "c57c118e-5dc3-4948-99a4-12623c04960f",
   "metadata": {},
   "source": [
    "#### Training Loop"
   ]
  },
  {
   "cell_type": "code",
   "execution_count": 8,
   "id": "bbf44215-2539-43b8-b0c3-69e3a82961c0",
   "metadata": {},
   "outputs": [
    {
     "name": "stdout",
     "output_type": "stream",
     "text": [
      "    |                       TRAINING SET                       ||                      VALIDATION SET                      |\n",
      "    |   Loss   ||   RMSE   ||   MSE    ||   MAE    ||    R2    ||   Loss   ||   RMSE   ||   MSE    ||   MAE    ||    R2    |\n",
      "001 | 2.07e+05 || 1.61e+02 || 2.59e+04 || 1.25e+02 || 2.39e-01 || 5.27e+03 || 7.26e+01 || 5.27e+03 || 5.79e+01 || 8.50e-01 |\n",
      "002 | 2.93e+04 || 6.05e+01 || 3.66e+03 || 4.75e+01 || 8.92e-01 || 1.85e+03 || 4.30e+01 || 1.85e+03 || 3.40e+01 || 9.48e-01 |\n",
      "003 | 9.20e+03 || 3.39e+01 || 1.15e+03 || 2.67e+01 || 9.66e-01 || 1.30e+03 || 3.61e+01 || 1.30e+03 || 2.75e+01 || 9.63e-01 |\n",
      "004 | 4.88e+03 || 2.47e+01 || 6.10e+02 || 1.99e+01 || 9.82e-01 || 1.37e+03 || 3.71e+01 || 1.37e+03 || 2.95e+01 || 9.61e-01 |\n",
      "005 | 2.97e+03 || 1.93e+01 || 3.71e+02 || 1.49e+01 || 9.89e-01 || 1.10e+03 || 3.32e+01 || 1.10e+03 || 2.60e+01 || 9.69e-01 |\n",
      "006 | 2.57e+03 || 1.79e+01 || 3.21e+02 || 1.39e+01 || 9.91e-01 || 1.23e+03 || 3.51e+01 || 1.23e+03 || 2.81e+01 || 9.65e-01 |\n",
      "007 | 2.63e+03 || 1.81e+01 || 3.28e+02 || 1.40e+01 || 9.90e-01 || 1.22e+03 || 3.50e+01 || 1.22e+03 || 2.78e+01 || 9.65e-01 |\n",
      "008 | 2.90e+03 || 1.90e+01 || 3.62e+02 || 1.50e+01 || 9.89e-01 || 1.13e+03 || 3.36e+01 || 1.13e+03 || 2.65e+01 || 9.68e-01 |\n",
      "009 | 2.05e+03 || 1.60e+01 || 2.57e+02 || 1.27e+01 || 9.92e-01 || 1.11e+03 || 3.34e+01 || 1.11e+03 || 2.63e+01 || 9.68e-01 |\n",
      "010 | 1.95e+03 || 1.56e+01 || 2.44e+02 || 1.23e+01 || 9.93e-01 || 1.14e+03 || 3.38e+01 || 1.14e+03 || 2.72e+01 || 9.68e-01 |\n",
      "011 | 2.11e+03 || 1.62e+01 || 2.63e+02 || 1.29e+01 || 9.92e-01 || 1.45e+03 || 3.80e+01 || 1.45e+03 || 3.03e+01 || 9.59e-01 |\n",
      "012 | 1.98e+03 || 1.57e+01 || 2.47e+02 || 1.25e+01 || 9.93e-01 || 9.95e+02 || 3.15e+01 || 9.95e+02 || 2.56e+01 || 9.72e-01 |\n",
      "013 | 1.91e+03 || 1.55e+01 || 2.39e+02 || 1.22e+01 || 9.93e-01 || 1.03e+03 || 3.21e+01 || 1.03e+03 || 2.59e+01 || 9.71e-01 |\n",
      "014 | 2.51e+03 || 1.77e+01 || 3.13e+02 || 1.39e+01 || 9.91e-01 || 9.26e+02 || 3.04e+01 || 9.26e+02 || 2.39e+01 || 9.74e-01 |\n",
      "015 | 2.33e+03 || 1.71e+01 || 2.92e+02 || 1.34e+01 || 9.91e-01 || 1.67e+03 || 4.09e+01 || 1.67e+03 || 3.13e+01 || 9.52e-01 |\n",
      "016 | 2.16e+03 || 1.64e+01 || 2.71e+02 || 1.30e+01 || 9.92e-01 || 9.31e+02 || 3.05e+01 || 9.31e+02 || 2.38e+01 || 9.74e-01 |\n",
      "017 | 2.23e+03 || 1.67e+01 || 2.79e+02 || 1.31e+01 || 9.92e-01 || 9.59e+02 || 3.10e+01 || 9.59e+02 || 2.43e+01 || 9.73e-01 |\n",
      "018 | 2.12e+03 || 1.63e+01 || 2.65e+02 || 1.26e+01 || 9.92e-01 || 1.36e+03 || 3.69e+01 || 1.36e+03 || 2.92e+01 || 9.61e-01 |\n",
      "019 | 1.84e+03 || 1.51e+01 || 2.30e+02 || 1.17e+01 || 9.93e-01 || 9.46e+02 || 3.08e+01 || 9.46e+02 || 2.46e+01 || 9.73e-01 |\n",
      "020 | 1.88e+03 || 1.53e+01 || 2.36e+02 || 1.20e+01 || 9.93e-01 || 1.13e+03 || 3.35e+01 || 1.13e+03 || 2.66e+01 || 9.68e-01 |\n"
     ]
    }
   ],
   "source": [
    "reg_trainer = MLPTrainer(type=\"reg\", is_multiclass=False)\n",
    "\n",
    "reg_trainer.train(\n",
    "    reg_model,\n",
    "    num_train_epochs,\n",
    "    optimiser,\n",
    "    loss_fn,\n",
    "    train_loader,\n",
    "    val_loader,\n",
    "    device=device,\n",
    ")"
   ]
  },
  {
   "cell_type": "markdown",
   "id": "c6c6ce29-52d5-4102-bbbe-ea490120bef2",
   "metadata": {},
   "source": [
    "#### Visualising Training Results"
   ]
  },
  {
   "cell_type": "code",
   "execution_count": 9,
   "id": "26c13da2-2d4d-4d16-952e-9251b678c323",
   "metadata": {},
   "outputs": [
    {
     "data": {
      "application/vnd.plotly.v1+json": {
       "config": {
        "plotlyServerURL": "https://plot.ly"
       },
       "data": [
        {
         "mode": "lines+markers",
         "name": "Training Loss",
         "text": "",
         "type": "scatter",
         "x": {
          "bdata": "AQIDBAUGBwgJCgsMDQ4PEBESExQ=",
          "dtype": "i1"
         },
         "y": [
          206892.7501953125,
          29286.518743896486,
          9204.498788452149,
          4876.585563659668,
          2967.8329223632813,
          2569.162809753418,
          2627.6717487335204,
          2896.031571960449,
          2054.9873222351075,
          1948.232183074951,
          2107.588907623291,
          1976.4732837677002,
          1910.207558441162,
          2507.1967239379883,
          2332.3759483337403,
          2164.6642919540404,
          2231.512925338745,
          2121.2002548217774,
          1836.1702659606933,
          1884.2909923553466
         ]
        },
        {
         "mode": "lines+markers",
         "name": "Validation Loss",
         "text": "",
         "type": "scatter",
         "x": {
          "bdata": "AQIDBAUGBwgJCgsMDQ4PEBESExQ=",
          "dtype": "i1"
         },
         "y": [
          5270.672229003906,
          1845.5474182128905,
          1303.1175323486327,
          1374.5100662231446,
          1104.905354309082,
          1233.0420654296875,
          1224.56376953125,
          1128.1297592163087,
          1113.0666778564453,
          1140.662075805664,
          1445.260269165039,
          995.3774398803711,
          1031.7704528808595,
          926.1246932983398,
          1670.2503875732423,
          930.5061599731446,
          959.3234497070313,
          1362.3421600341796,
          946.2840454101563,
          1125.257228088379
         ]
        }
       ],
       "layout": {
        "template": {
         "data": {
          "bar": [
           {
            "error_x": {
             "color": "#2a3f5f"
            },
            "error_y": {
             "color": "#2a3f5f"
            },
            "marker": {
             "line": {
              "color": "#E5ECF6",
              "width": 0.5
             },
             "pattern": {
              "fillmode": "overlay",
              "size": 10,
              "solidity": 0.2
             }
            },
            "type": "bar"
           }
          ],
          "barpolar": [
           {
            "marker": {
             "line": {
              "color": "#E5ECF6",
              "width": 0.5
             },
             "pattern": {
              "fillmode": "overlay",
              "size": 10,
              "solidity": 0.2
             }
            },
            "type": "barpolar"
           }
          ],
          "carpet": [
           {
            "aaxis": {
             "endlinecolor": "#2a3f5f",
             "gridcolor": "white",
             "linecolor": "white",
             "minorgridcolor": "white",
             "startlinecolor": "#2a3f5f"
            },
            "baxis": {
             "endlinecolor": "#2a3f5f",
             "gridcolor": "white",
             "linecolor": "white",
             "minorgridcolor": "white",
             "startlinecolor": "#2a3f5f"
            },
            "type": "carpet"
           }
          ],
          "choropleth": [
           {
            "colorbar": {
             "outlinewidth": 0,
             "ticks": ""
            },
            "type": "choropleth"
           }
          ],
          "contour": [
           {
            "colorbar": {
             "outlinewidth": 0,
             "ticks": ""
            },
            "colorscale": [
             [
              0,
              "#0d0887"
             ],
             [
              0.1111111111111111,
              "#46039f"
             ],
             [
              0.2222222222222222,
              "#7201a8"
             ],
             [
              0.3333333333333333,
              "#9c179e"
             ],
             [
              0.4444444444444444,
              "#bd3786"
             ],
             [
              0.5555555555555556,
              "#d8576b"
             ],
             [
              0.6666666666666666,
              "#ed7953"
             ],
             [
              0.7777777777777778,
              "#fb9f3a"
             ],
             [
              0.8888888888888888,
              "#fdca26"
             ],
             [
              1,
              "#f0f921"
             ]
            ],
            "type": "contour"
           }
          ],
          "contourcarpet": [
           {
            "colorbar": {
             "outlinewidth": 0,
             "ticks": ""
            },
            "type": "contourcarpet"
           }
          ],
          "heatmap": [
           {
            "colorbar": {
             "outlinewidth": 0,
             "ticks": ""
            },
            "colorscale": [
             [
              0,
              "#0d0887"
             ],
             [
              0.1111111111111111,
              "#46039f"
             ],
             [
              0.2222222222222222,
              "#7201a8"
             ],
             [
              0.3333333333333333,
              "#9c179e"
             ],
             [
              0.4444444444444444,
              "#bd3786"
             ],
             [
              0.5555555555555556,
              "#d8576b"
             ],
             [
              0.6666666666666666,
              "#ed7953"
             ],
             [
              0.7777777777777778,
              "#fb9f3a"
             ],
             [
              0.8888888888888888,
              "#fdca26"
             ],
             [
              1,
              "#f0f921"
             ]
            ],
            "type": "heatmap"
           }
          ],
          "histogram": [
           {
            "marker": {
             "pattern": {
              "fillmode": "overlay",
              "size": 10,
              "solidity": 0.2
             }
            },
            "type": "histogram"
           }
          ],
          "histogram2d": [
           {
            "colorbar": {
             "outlinewidth": 0,
             "ticks": ""
            },
            "colorscale": [
             [
              0,
              "#0d0887"
             ],
             [
              0.1111111111111111,
              "#46039f"
             ],
             [
              0.2222222222222222,
              "#7201a8"
             ],
             [
              0.3333333333333333,
              "#9c179e"
             ],
             [
              0.4444444444444444,
              "#bd3786"
             ],
             [
              0.5555555555555556,
              "#d8576b"
             ],
             [
              0.6666666666666666,
              "#ed7953"
             ],
             [
              0.7777777777777778,
              "#fb9f3a"
             ],
             [
              0.8888888888888888,
              "#fdca26"
             ],
             [
              1,
              "#f0f921"
             ]
            ],
            "type": "histogram2d"
           }
          ],
          "histogram2dcontour": [
           {
            "colorbar": {
             "outlinewidth": 0,
             "ticks": ""
            },
            "colorscale": [
             [
              0,
              "#0d0887"
             ],
             [
              0.1111111111111111,
              "#46039f"
             ],
             [
              0.2222222222222222,
              "#7201a8"
             ],
             [
              0.3333333333333333,
              "#9c179e"
             ],
             [
              0.4444444444444444,
              "#bd3786"
             ],
             [
              0.5555555555555556,
              "#d8576b"
             ],
             [
              0.6666666666666666,
              "#ed7953"
             ],
             [
              0.7777777777777778,
              "#fb9f3a"
             ],
             [
              0.8888888888888888,
              "#fdca26"
             ],
             [
              1,
              "#f0f921"
             ]
            ],
            "type": "histogram2dcontour"
           }
          ],
          "mesh3d": [
           {
            "colorbar": {
             "outlinewidth": 0,
             "ticks": ""
            },
            "type": "mesh3d"
           }
          ],
          "parcoords": [
           {
            "line": {
             "colorbar": {
              "outlinewidth": 0,
              "ticks": ""
             }
            },
            "type": "parcoords"
           }
          ],
          "pie": [
           {
            "automargin": true,
            "type": "pie"
           }
          ],
          "scatter": [
           {
            "fillpattern": {
             "fillmode": "overlay",
             "size": 10,
             "solidity": 0.2
            },
            "type": "scatter"
           }
          ],
          "scatter3d": [
           {
            "line": {
             "colorbar": {
              "outlinewidth": 0,
              "ticks": ""
             }
            },
            "marker": {
             "colorbar": {
              "outlinewidth": 0,
              "ticks": ""
             }
            },
            "type": "scatter3d"
           }
          ],
          "scattercarpet": [
           {
            "marker": {
             "colorbar": {
              "outlinewidth": 0,
              "ticks": ""
             }
            },
            "type": "scattercarpet"
           }
          ],
          "scattergeo": [
           {
            "marker": {
             "colorbar": {
              "outlinewidth": 0,
              "ticks": ""
             }
            },
            "type": "scattergeo"
           }
          ],
          "scattergl": [
           {
            "marker": {
             "colorbar": {
              "outlinewidth": 0,
              "ticks": ""
             }
            },
            "type": "scattergl"
           }
          ],
          "scattermap": [
           {
            "marker": {
             "colorbar": {
              "outlinewidth": 0,
              "ticks": ""
             }
            },
            "type": "scattermap"
           }
          ],
          "scattermapbox": [
           {
            "marker": {
             "colorbar": {
              "outlinewidth": 0,
              "ticks": ""
             }
            },
            "type": "scattermapbox"
           }
          ],
          "scatterpolar": [
           {
            "marker": {
             "colorbar": {
              "outlinewidth": 0,
              "ticks": ""
             }
            },
            "type": "scatterpolar"
           }
          ],
          "scatterpolargl": [
           {
            "marker": {
             "colorbar": {
              "outlinewidth": 0,
              "ticks": ""
             }
            },
            "type": "scatterpolargl"
           }
          ],
          "scatterternary": [
           {
            "marker": {
             "colorbar": {
              "outlinewidth": 0,
              "ticks": ""
             }
            },
            "type": "scatterternary"
           }
          ],
          "surface": [
           {
            "colorbar": {
             "outlinewidth": 0,
             "ticks": ""
            },
            "colorscale": [
             [
              0,
              "#0d0887"
             ],
             [
              0.1111111111111111,
              "#46039f"
             ],
             [
              0.2222222222222222,
              "#7201a8"
             ],
             [
              0.3333333333333333,
              "#9c179e"
             ],
             [
              0.4444444444444444,
              "#bd3786"
             ],
             [
              0.5555555555555556,
              "#d8576b"
             ],
             [
              0.6666666666666666,
              "#ed7953"
             ],
             [
              0.7777777777777778,
              "#fb9f3a"
             ],
             [
              0.8888888888888888,
              "#fdca26"
             ],
             [
              1,
              "#f0f921"
             ]
            ],
            "type": "surface"
           }
          ],
          "table": [
           {
            "cells": {
             "fill": {
              "color": "#EBF0F8"
             },
             "line": {
              "color": "white"
             }
            },
            "header": {
             "fill": {
              "color": "#C8D4E3"
             },
             "line": {
              "color": "white"
             }
            },
            "type": "table"
           }
          ]
         },
         "layout": {
          "annotationdefaults": {
           "arrowcolor": "#2a3f5f",
           "arrowhead": 0,
           "arrowwidth": 1
          },
          "autotypenumbers": "strict",
          "coloraxis": {
           "colorbar": {
            "outlinewidth": 0,
            "ticks": ""
           }
          },
          "colorscale": {
           "diverging": [
            [
             0,
             "#8e0152"
            ],
            [
             0.1,
             "#c51b7d"
            ],
            [
             0.2,
             "#de77ae"
            ],
            [
             0.3,
             "#f1b6da"
            ],
            [
             0.4,
             "#fde0ef"
            ],
            [
             0.5,
             "#f7f7f7"
            ],
            [
             0.6,
             "#e6f5d0"
            ],
            [
             0.7,
             "#b8e186"
            ],
            [
             0.8,
             "#7fbc41"
            ],
            [
             0.9,
             "#4d9221"
            ],
            [
             1,
             "#276419"
            ]
           ],
           "sequential": [
            [
             0,
             "#0d0887"
            ],
            [
             0.1111111111111111,
             "#46039f"
            ],
            [
             0.2222222222222222,
             "#7201a8"
            ],
            [
             0.3333333333333333,
             "#9c179e"
            ],
            [
             0.4444444444444444,
             "#bd3786"
            ],
            [
             0.5555555555555556,
             "#d8576b"
            ],
            [
             0.6666666666666666,
             "#ed7953"
            ],
            [
             0.7777777777777778,
             "#fb9f3a"
            ],
            [
             0.8888888888888888,
             "#fdca26"
            ],
            [
             1,
             "#f0f921"
            ]
           ],
           "sequentialminus": [
            [
             0,
             "#0d0887"
            ],
            [
             0.1111111111111111,
             "#46039f"
            ],
            [
             0.2222222222222222,
             "#7201a8"
            ],
            [
             0.3333333333333333,
             "#9c179e"
            ],
            [
             0.4444444444444444,
             "#bd3786"
            ],
            [
             0.5555555555555556,
             "#d8576b"
            ],
            [
             0.6666666666666666,
             "#ed7953"
            ],
            [
             0.7777777777777778,
             "#fb9f3a"
            ],
            [
             0.8888888888888888,
             "#fdca26"
            ],
            [
             1,
             "#f0f921"
            ]
           ]
          },
          "colorway": [
           "#636efa",
           "#EF553B",
           "#00cc96",
           "#ab63fa",
           "#FFA15A",
           "#19d3f3",
           "#FF6692",
           "#B6E880",
           "#FF97FF",
           "#FECB52"
          ],
          "font": {
           "color": "#2a3f5f"
          },
          "geo": {
           "bgcolor": "white",
           "lakecolor": "white",
           "landcolor": "#E5ECF6",
           "showlakes": true,
           "showland": true,
           "subunitcolor": "white"
          },
          "hoverlabel": {
           "align": "left"
          },
          "hovermode": "closest",
          "mapbox": {
           "style": "light"
          },
          "paper_bgcolor": "white",
          "plot_bgcolor": "#E5ECF6",
          "polar": {
           "angularaxis": {
            "gridcolor": "white",
            "linecolor": "white",
            "ticks": ""
           },
           "bgcolor": "#E5ECF6",
           "radialaxis": {
            "gridcolor": "white",
            "linecolor": "white",
            "ticks": ""
           }
          },
          "scene": {
           "xaxis": {
            "backgroundcolor": "#E5ECF6",
            "gridcolor": "white",
            "gridwidth": 2,
            "linecolor": "white",
            "showbackground": true,
            "ticks": "",
            "zerolinecolor": "white"
           },
           "yaxis": {
            "backgroundcolor": "#E5ECF6",
            "gridcolor": "white",
            "gridwidth": 2,
            "linecolor": "white",
            "showbackground": true,
            "ticks": "",
            "zerolinecolor": "white"
           },
           "zaxis": {
            "backgroundcolor": "#E5ECF6",
            "gridcolor": "white",
            "gridwidth": 2,
            "linecolor": "white",
            "showbackground": true,
            "ticks": "",
            "zerolinecolor": "white"
           }
          },
          "shapedefaults": {
           "line": {
            "color": "#2a3f5f"
           }
          },
          "ternary": {
           "aaxis": {
            "gridcolor": "white",
            "linecolor": "white",
            "ticks": ""
           },
           "baxis": {
            "gridcolor": "white",
            "linecolor": "white",
            "ticks": ""
           },
           "bgcolor": "#E5ECF6",
           "caxis": {
            "gridcolor": "white",
            "linecolor": "white",
            "ticks": ""
           }
          },
          "title": {
           "x": 0.05
          },
          "xaxis": {
           "automargin": true,
           "gridcolor": "white",
           "linecolor": "white",
           "ticks": "",
           "title": {
            "standoff": 15
           },
           "zerolinecolor": "white",
           "zerolinewidth": 2
          },
          "yaxis": {
           "automargin": true,
           "gridcolor": "white",
           "linecolor": "white",
           "ticks": "",
           "title": {
            "standoff": 15
           },
           "zerolinecolor": "white",
           "zerolinewidth": 2
          }
         }
        },
        "title": {
         "text": "Loss"
        },
        "xaxis": {
         "title": {
          "text": "Epochs"
         }
        },
        "yaxis": {
         "title": {
          "text": "Loss"
         }
        }
       }
      },
      "image/png": "[encoded data removed]"
     },
     "metadata": {},
     "output_type": "display_data"
    }
   ],
   "source": [
    "reg_trainer.mm.get_metric_chart(\"loss\")"
   ]
  },
  {
   "cell_type": "code",
   "execution_count": 10,
   "id": "0c857fea-d50b-4456-b421-b91dba2f7c3c",
   "metadata": {},
   "outputs": [
    {
     "data": {
      "application/vnd.plotly.v1+json": {
       "config": {
        "plotlyServerURL": "https://plot.ly"
       },
       "data": [
        {
         "mode": "lines+markers",
         "name": "Training MSE",
         "text": "",
         "type": "scatter",
         "x": {
          "bdata": "AQIDBAUGBwgJCgsMDQ4PEBESExQ=",
          "dtype": "i1"
         },
         "xaxis": "x",
         "y": [
          25861.59375,
          3660.81494140625,
          1150.562255859375,
          609.5732421875,
          370.9791259765625,
          321.1453552246094,
          328.458984375,
          362.00396728515625,
          256.8734130859375,
          243.52902221679688,
          263.4485778808594,
          247.0591583251953,
          238.7759246826172,
          313.39959716796875,
          291.5469970703125,
          270.58306884765625,
          278.9391174316406,
          265.1500549316406,
          229.5212860107422,
          235.536376953125
         ],
         "yaxis": "y"
        },
        {
         "mode": "lines+markers",
         "name": "Validation MSE",
         "text": "",
         "type": "scatter",
         "x": {
          "bdata": "AQIDBAUGBwgJCgsMDQ4PEBESExQ=",
          "dtype": "i1"
         },
         "xaxis": "x",
         "y": [
          5270.67236328125,
          1845.5474853515625,
          1303.117431640625,
          1374.5101318359375,
          1104.9052734375,
          1233.0419921875,
          1224.563720703125,
          1128.129638671875,
          1113.066650390625,
          1140.662109375,
          1445.26025390625,
          995.37744140625,
          1031.7703857421875,
          926.1246948242188,
          1670.2503662109375,
          930.5062255859375,
          959.3234252929688,
          1362.342041015625,
          946.2839965820312,
          1125.2572021484375
         ],
         "yaxis": "y"
        },
        {
         "mode": "lines+markers",
         "name": "Training RMSE",
         "text": "",
         "type": "scatter",
         "x": {
          "bdata": "AQIDBAUGBwgJCgsMDQ4PEBESExQ=",
          "dtype": "i1"
         },
         "xaxis": "x2",
         "y": [
          160.81539916992188,
          60.504669189453125,
          33.91993713378906,
          24.689537048339844,
          19.260818481445312,
          17.920528411865234,
          18.123437881469727,
          19.02640151977539,
          16.027271270751953,
          15.605416297912598,
          16.231098175048828,
          15.71811580657959,
          15.452376365661621,
          17.703096389770508,
          17.07474708557129,
          16.44940948486328,
          16.70147132873535,
          16.283428192138672,
          15.149959564208984,
          15.34719467163086
         ],
         "yaxis": "y2"
        },
        {
         "mode": "lines+markers",
         "name": "Validation RMSE",
         "text": "",
         "type": "scatter",
         "x": {
          "bdata": "AQIDBAUGBwgJCgsMDQ4PEBESExQ=",
          "dtype": "i1"
         },
         "xaxis": "x2",
         "y": [
          72.59939575195312,
          42.959835052490234,
          36.098716735839844,
          37.07438659667969,
          33.240116119384766,
          35.11469650268555,
          34.99376678466797,
          33.587642669677734,
          33.36265182495117,
          33.77368927001953,
          38.016578674316406,
          31.549602508544922,
          32.12118148803711,
          30.432296752929688,
          40.86869812011719,
          30.504199981689453,
          30.972946166992188,
          36.90991973876953,
          30.761730194091797,
          33.54485321044922
         ],
         "yaxis": "y2"
        },
        {
         "mode": "lines+markers",
         "name": "Training MAE",
         "text": "",
         "type": "scatter",
         "x": {
          "bdata": "AQIDBAUGBwgJCgsMDQ4PEBESExQ=",
          "dtype": "i1"
         },
         "xaxis": "x3",
         "y": [
          124.50425720214844,
          47.48723602294922,
          26.715564727783203,
          19.87320327758789,
          14.85112190246582,
          13.924464225769043,
          13.954778671264648,
          15.047093391418457,
          12.652399063110352,
          12.314093589782715,
          12.884622573852539,
          12.533823013305664,
          12.247008323669434,
          13.889254570007324,
          13.41911792755127,
          13.01012897491455,
          13.132669448852539,
          12.642030715942383,
          11.735599517822266,
          12.001825332641602
         ],
         "yaxis": "y3"
        },
        {
         "mode": "lines+markers",
         "name": "Validation MAE",
         "text": "",
         "type": "scatter",
         "x": {
          "bdata": "AQIDBAUGBwgJCgsMDQ4PEBESExQ=",
          "dtype": "i1"
         },
         "xaxis": "x3",
         "y": [
          57.94715118408203,
          34.04655838012695,
          27.473602294921875,
          29.542346954345703,
          25.97701072692871,
          28.096538543701172,
          27.813568115234375,
          26.45086097717285,
          26.255985260009766,
          27.237640380859375,
          30.327911376953125,
          25.627025604248047,
          25.8526668548584,
          23.938705444335938,
          31.25734519958496,
          23.835399627685547,
          24.255935668945312,
          29.157644271850586,
          24.64041519165039,
          26.57137680053711
         ],
         "yaxis": "y3"
        },
        {
         "mode": "lines+markers",
         "name": "Training R2 Score",
         "text": "",
         "type": "scatter",
         "x": {
          "bdata": "AQIDBAUGBwgJCgsMDQ4PEBESExQ=",
          "dtype": "i1"
         },
         "xaxis": "x4",
         "y": [
          0.23871606588363647,
          0.89223712682724,
          0.9661310911178589,
          0.9820560812950134,
          0.9890795350074768,
          0.990546464920044,
          0.9903311729431152,
          0.9893437623977661,
          0.9924384355545044,
          0.992831289768219,
          0.9922448992729187,
          0.9927273392677307,
          0.9929711818695068,
          0.9907745122909546,
          0.9914177656173706,
          0.992034912109375,
          0.991788923740387,
          0.9921948313713074,
          0.9932436347007751,
          0.9930665493011475
         ],
         "yaxis": "y4"
        },
        {
         "mode": "lines+markers",
         "name": "Validation R2 Score",
         "text": "",
         "type": "scatter",
         "x": {
          "bdata": "AQIDBAUGBwgJCgsMDQ4PEBESExQ=",
          "dtype": "i1"
         },
         "xaxis": "x4",
         "y": [
          0.850077211856842,
          0.947503924369812,
          0.9629331827163696,
          0.9609024524688721,
          0.9685713052749634,
          0.9649264812469482,
          0.9651676416397095,
          0.967910647392273,
          0.9683391451835632,
          0.9675542116165161,
          0.9588899612426758,
          0.9716867804527283,
          0.9706515669822693,
          0.9736566543579102,
          0.9524902105331421,
          0.9735320210456848,
          0.9727123379707336,
          0.9612485766410828,
          0.9730831980705261,
          0.96799236536026
         ],
         "yaxis": "y4"
        }
       ],
       "layout": {
        "annotations": [
         {
          "font": {
           "size": 16
          },
          "showarrow": false,
          "text": "MSE",
          "x": 0.225,
          "xanchor": "center",
          "xref": "paper",
          "y": 1,
          "yanchor": "bottom",
          "yref": "paper"
         },
         {
          "font": {
           "size": 16
          },
          "showarrow": false,
          "text": "RMSE",
          "x": 0.775,
          "xanchor": "center",
          "xref": "paper",
          "y": 1,
          "yanchor": "bottom",
          "yref": "paper"
         },
         {
          "font": {
           "size": 16
          },
          "showarrow": false,
          "text": "MAE",
          "x": 0.225,
          "xanchor": "center",
          "xref": "paper",
          "y": 0.375,
          "yanchor": "bottom",
          "yref": "paper"
         },
         {
          "font": {
           "size": 16
          },
          "showarrow": false,
          "text": "R2 Score",
          "x": 0.775,
          "xanchor": "center",
          "xref": "paper",
          "y": 0.375,
          "yanchor": "bottom",
          "yref": "paper"
         }
        ],
        "height": 1000,
        "template": {
         "data": {
          "bar": [
           {
            "error_x": {
             "color": "#2a3f5f"
            },
            "error_y": {
             "color": "#2a3f5f"
            },
            "marker": {
             "line": {
              "color": "#E5ECF6",
              "width": 0.5
             },
             "pattern": {
              "fillmode": "overlay",
              "size": 10,
              "solidity": 0.2
             }
            },
            "type": "bar"
           }
          ],
          "barpolar": [
           {
            "marker": {
             "line": {
              "color": "#E5ECF6",
              "width": 0.5
             },
             "pattern": {
              "fillmode": "overlay",
              "size": 10,
              "solidity": 0.2
             }
            },
            "type": "barpolar"
           }
          ],
          "carpet": [
           {
            "aaxis": {
             "endlinecolor": "#2a3f5f",
             "gridcolor": "white",
             "linecolor": "white",
             "minorgridcolor": "white",
             "startlinecolor": "#2a3f5f"
            },
            "baxis": {
             "endlinecolor": "#2a3f5f",
             "gridcolor": "white",
             "linecolor": "white",
             "minorgridcolor": "white",
             "startlinecolor": "#2a3f5f"
            },
            "type": "carpet"
           }
          ],
          "choropleth": [
           {
            "colorbar": {
             "outlinewidth": 0,
             "ticks": ""
            },
            "type": "choropleth"
           }
          ],
          "contour": [
           {
            "colorbar": {
             "outlinewidth": 0,
             "ticks": ""
            },
            "colorscale": [
             [
              0,
              "#0d0887"
             ],
             [
              0.1111111111111111,
              "#46039f"
             ],
             [
              0.2222222222222222,
              "#7201a8"
             ],
             [
              0.3333333333333333,
              "#9c179e"
             ],
             [
              0.4444444444444444,
              "#bd3786"
             ],
             [
              0.5555555555555556,
              "#d8576b"
             ],
             [
              0.6666666666666666,
              "#ed7953"
             ],
             [
              0.7777777777777778,
              "#fb9f3a"
             ],
             [
              0.8888888888888888,
              "#fdca26"
             ],
             [
              1,
              "#f0f921"
             ]
            ],
            "type": "contour"
           }
          ],
          "contourcarpet": [
           {
            "colorbar": {
             "outlinewidth": 0,
             "ticks": ""
            },
            "type": "contourcarpet"
           }
          ],
          "heatmap": [
           {
            "colorbar": {
             "outlinewidth": 0,
             "ticks": ""
            },
            "colorscale": [
             [
              0,
              "#0d0887"
             ],
             [
              0.1111111111111111,
              "#46039f"
             ],
             [
              0.2222222222222222,
              "#7201a8"
             ],
             [
              0.3333333333333333,
              "#9c179e"
             ],
             [
              0.4444444444444444,
              "#bd3786"
             ],
             [
              0.5555555555555556,
              "#d8576b"
             ],
             [
              0.6666666666666666,
              "#ed7953"
             ],
             [
              0.7777777777777778,
              "#fb9f3a"
             ],
             [
              0.8888888888888888,
              "#fdca26"
             ],
             [
              1,
              "#f0f921"
             ]
            ],
            "type": "heatmap"
           }
          ],
          "histogram": [
           {
            "marker": {
             "pattern": {
              "fillmode": "overlay",
              "size": 10,
              "solidity": 0.2
             }
            },
            "type": "histogram"
           }
          ],
          "histogram2d": [
           {
            "colorbar": {
             "outlinewidth": 0,
             "ticks": ""
            },
            "colorscale": [
             [
              0,
              "#0d0887"
             ],
             [
              0.1111111111111111,
              "#46039f"
             ],
             [
              0.2222222222222222,
              "#7201a8"
             ],
             [
              0.3333333333333333,
              "#9c179e"
             ],
             [
              0.4444444444444444,
              "#bd3786"
             ],
             [
              0.5555555555555556,
              "#d8576b"
             ],
             [
              0.6666666666666666,
              "#ed7953"
             ],
             [
              0.7777777777777778,
              "#fb9f3a"
             ],
             [
              0.8888888888888888,
              "#fdca26"
             ],
             [
              1,
              "#f0f921"
             ]
            ],
            "type": "histogram2d"
           }
          ],
          "histogram2dcontour": [
           {
            "colorbar": {
             "outlinewidth": 0,
             "ticks": ""
            },
            "colorscale": [
             [
              0,
              "#0d0887"
             ],
             [
              0.1111111111111111,
              "#46039f"
             ],
             [
              0.2222222222222222,
              "#7201a8"
             ],
             [
              0.3333333333333333,
              "#9c179e"
             ],
             [
              0.4444444444444444,
              "#bd3786"
             ],
             [
              0.5555555555555556,
              "#d8576b"
             ],
             [
              0.6666666666666666,
              "#ed7953"
             ],
             [
              0.7777777777777778,
              "#fb9f3a"
             ],
             [
              0.8888888888888888,
              "#fdca26"
             ],
             [
              1,
              "#f0f921"
             ]
            ],
            "type": "histogram2dcontour"
           }
          ],
          "mesh3d": [
           {
            "colorbar": {
             "outlinewidth": 0,
             "ticks": ""
            },
            "type": "mesh3d"
           }
          ],
          "parcoords": [
           {
            "line": {
             "colorbar": {
              "outlinewidth": 0,
              "ticks": ""
             }
            },
            "type": "parcoords"
           }
          ],
          "pie": [
           {
            "automargin": true,
            "type": "pie"
           }
          ],
          "scatter": [
           {
            "fillpattern": {
             "fillmode": "overlay",
             "size": 10,
             "solidity": 0.2
            },
            "type": "scatter"
           }
          ],
          "scatter3d": [
           {
            "line": {
             "colorbar": {
              "outlinewidth": 0,
              "ticks": ""
             }
            },
            "marker": {
             "colorbar": {
              "outlinewidth": 0,
              "ticks": ""
             }
            },
            "type": "scatter3d"
           }
          ],
          "scattercarpet": [
           {
            "marker": {
             "colorbar": {
              "outlinewidth": 0,
              "ticks": ""
             }
            },
            "type": "scattercarpet"
           }
          ],
          "scattergeo": [
           {
            "marker": {
             "colorbar": {
              "outlinewidth": 0,
              "ticks": ""
             }
            },
            "type": "scattergeo"
           }
          ],
          "scattergl": [
           {
            "marker": {
             "colorbar": {
              "outlinewidth": 0,
              "ticks": ""
             }
            },
            "type": "scattergl"
           }
          ],
          "scattermap": [
           {
            "marker": {
             "colorbar": {
              "outlinewidth": 0,
              "ticks": ""
             }
            },
            "type": "scattermap"
           }
          ],
          "scattermapbox": [
           {
            "marker": {
             "colorbar": {
              "outlinewidth": 0,
              "ticks": ""
             }
            },
            "type": "scattermapbox"
           }
          ],
          "scatterpolar": [
           {
            "marker": {
             "colorbar": {
              "outlinewidth": 0,
              "ticks": ""
             }
            },
            "type": "scatterpolar"
           }
          ],
          "scatterpolargl": [
           {
            "marker": {
             "colorbar": {
              "outlinewidth": 0,
              "ticks": ""
             }
            },
            "type": "scatterpolargl"
           }
          ],
          "scatterternary": [
           {
            "marker": {
             "colorbar": {
              "outlinewidth": 0,
              "ticks": ""
             }
            },
            "type": "scatterternary"
           }
          ],
          "surface": [
           {
            "colorbar": {
             "outlinewidth": 0,
             "ticks": ""
            },
            "colorscale": [
             [
              0,
              "#0d0887"
             ],
             [
              0.1111111111111111,
              "#46039f"
             ],
             [
              0.2222222222222222,
              "#7201a8"
             ],
             [
              0.3333333333333333,
              "#9c179e"
             ],
             [
              0.4444444444444444,
              "#bd3786"
             ],
             [
              0.5555555555555556,
              "#d8576b"
             ],
             [
              0.6666666666666666,
              "#ed7953"
             ],
             [
              0.7777777777777778,
              "#fb9f3a"
             ],
             [
              0.8888888888888888,
              "#fdca26"
             ],
             [
              1,
              "#f0f921"
             ]
            ],
            "type": "surface"
           }
          ],
          "table": [
           {
            "cells": {
             "fill": {
              "color": "#EBF0F8"
             },
             "line": {
              "color": "white"
             }
            },
            "header": {
             "fill": {
              "color": "#C8D4E3"
             },
             "line": {
              "color": "white"
             }
            },
            "type": "table"
           }
          ]
         },
         "layout": {
          "annotationdefaults": {
           "arrowcolor": "#2a3f5f",
           "arrowhead": 0,
           "arrowwidth": 1
          },
          "autotypenumbers": "strict",
          "coloraxis": {
           "colorbar": {
            "outlinewidth": 0,
            "ticks": ""
           }
          },
          "colorscale": {
           "diverging": [
            [
             0,
             "#8e0152"
            ],
            [
             0.1,
             "#c51b7d"
            ],
            [
             0.2,
             "#de77ae"
            ],
            [
             0.3,
             "#f1b6da"
            ],
            [
             0.4,
             "#fde0ef"
            ],
            [
             0.5,
             "#f7f7f7"
            ],
            [
             0.6,
             "#e6f5d0"
            ],
            [
             0.7,
             "#b8e186"
            ],
            [
             0.8,
             "#7fbc41"
            ],
            [
             0.9,
             "#4d9221"
            ],
            [
             1,
             "#276419"
            ]
           ],
           "sequential": [
            [
             0,
             "#0d0887"
            ],
            [
             0.1111111111111111,
             "#46039f"
            ],
            [
             0.2222222222222222,
             "#7201a8"
            ],
            [
             0.3333333333333333,
             "#9c179e"
            ],
            [
             0.4444444444444444,
             "#bd3786"
            ],
            [
             0.5555555555555556,
             "#d8576b"
            ],
            [
             0.6666666666666666,
             "#ed7953"
            ],
            [
             0.7777777777777778,
             "#fb9f3a"
            ],
            [
             0.8888888888888888,
             "#fdca26"
            ],
            [
             1,
             "#f0f921"
            ]
           ],
           "sequentialminus": [
            [
             0,
             "#0d0887"
            ],
            [
             0.1111111111111111,
             "#46039f"
            ],
            [
             0.2222222222222222,
             "#7201a8"
            ],
            [
             0.3333333333333333,
             "#9c179e"
            ],
            [
             0.4444444444444444,
             "#bd3786"
            ],
            [
             0.5555555555555556,
             "#d8576b"
            ],
            [
             0.6666666666666666,
             "#ed7953"
            ],
            [
             0.7777777777777778,
             "#fb9f3a"
            ],
            [
             0.8888888888888888,
             "#fdca26"
            ],
            [
             1,
             "#f0f921"
            ]
           ]
          },
          "colorway": [
           "#636efa",
           "#EF553B",
           "#00cc96",
           "#ab63fa",
           "#FFA15A",
           "#19d3f3",
           "#FF6692",
           "#B6E880",
           "#FF97FF",
           "#FECB52"
          ],
          "font": {
           "color": "#2a3f5f"
          },
          "geo": {
           "bgcolor": "white",
           "lakecolor": "white",
           "landcolor": "#E5ECF6",
           "showlakes": true,
           "showland": true,
           "subunitcolor": "white"
          },
          "hoverlabel": {
           "align": "left"
          },
          "hovermode": "closest",
          "mapbox": {
           "style": "light"
          },
          "paper_bgcolor": "white",
          "plot_bgcolor": "#E5ECF6",
          "polar": {
           "angularaxis": {
            "gridcolor": "white",
            "linecolor": "white",
            "ticks": ""
           },
           "bgcolor": "#E5ECF6",
           "radialaxis": {
            "gridcolor": "white",
            "linecolor": "white",
            "ticks": ""
           }
          },
          "scene": {
           "xaxis": {
            "backgroundcolor": "#E5ECF6",
            "gridcolor": "white",
            "gridwidth": 2,
            "linecolor": "white",
            "showbackground": true,
            "ticks": "",
            "zerolinecolor": "white"
           },
           "yaxis": {
            "backgroundcolor": "#E5ECF6",
            "gridcolor": "white",
            "gridwidth": 2,
            "linecolor": "white",
            "showbackground": true,
            "ticks": "",
            "zerolinecolor": "white"
           },
           "zaxis": {
            "backgroundcolor": "#E5ECF6",
            "gridcolor": "white",
            "gridwidth": 2,
            "linecolor": "white",
            "showbackground": true,
            "ticks": "",
            "zerolinecolor": "white"
           }
          },
          "shapedefaults": {
           "line": {
            "color": "#2a3f5f"
           }
          },
          "ternary": {
           "aaxis": {
            "gridcolor": "white",
            "linecolor": "white",
            "ticks": ""
           },
           "baxis": {
            "gridcolor": "white",
            "linecolor": "white",
            "ticks": ""
           },
           "bgcolor": "#E5ECF6",
           "caxis": {
            "gridcolor": "white",
            "linecolor": "white",
            "ticks": ""
           }
          },
          "title": {
           "x": 0.05
          },
          "xaxis": {
           "automargin": true,
           "gridcolor": "white",
           "linecolor": "white",
           "ticks": "",
           "title": {
            "standoff": 15
           },
           "zerolinecolor": "white",
           "zerolinewidth": 2
          },
          "yaxis": {
           "automargin": true,
           "gridcolor": "white",
           "linecolor": "white",
           "ticks": "",
           "title": {
            "standoff": 15
           },
           "zerolinecolor": "white",
           "zerolinewidth": 2
          }
         }
        },
        "title": {
         "text": "MSE, RMSE, MAE and R2 Score"
        },
        "xaxis": {
         "anchor": "y",
         "domain": [
          0,
          0.45
         ],
         "title": {
          "text": "Epochs"
         }
        },
        "xaxis2": {
         "anchor": "y2",
         "domain": [
          0.55,
          1
         ],
         "title": {
          "text": "Epochs"
         }
        },
        "xaxis3": {
         "anchor": "y3",
         "domain": [
          0,
          0.45
         ],
         "title": {
          "text": "Epochs"
         }
        },
        "xaxis4": {
         "anchor": "y4",
         "domain": [
          0.55,
          1
         ],
         "title": {
          "text": "Epochs"
         }
        },
        "yaxis": {
         "anchor": "x",
         "domain": [
          0.625,
          1
         ],
         "title": {
          "text": "MSE"
         }
        },
        "yaxis2": {
         "anchor": "x2",
         "domain": [
          0.625,
          1
         ],
         "title": {
          "text": "RMSE"
         }
        },
        "yaxis3": {
         "anchor": "x3",
         "domain": [
          0,
          0.375
         ],
         "title": {
          "text": "MAE"
         }
        },
        "yaxis4": {
         "anchor": "x4",
         "domain": [
          0,
          0.375
         ],
         "title": {
          "text": "R2 Score"
         }
        }
       }
      },
      "image/png": "[encoded data removed]"
     },
     "metadata": {},
     "output_type": "display_data"
    }
   ],
   "source": [
    "reg_trainer.mm.get_metric_chart_collection([\"mse\", \"rmse\", \"mae\", \"r2\"])"
   ]
  },
  {
   "cell_type": "markdown",
   "id": "54620e49-a167-43e0-856d-a591131c8dac",
   "metadata": {},
   "source": [
    "### Evaluating the Model on Test Data"
   ]
  },
  {
   "cell_type": "code",
   "execution_count": 11,
   "id": "026d2a74-0023-459c-8337-d19535a4950d",
   "metadata": {},
   "outputs": [
    {
     "data": {
      "application/vnd.plotly.v1+json": {
       "config": {
        "plotlyServerURL": "https://plot.ly"
       },
       "data": [
        {
         "mode": "markers",
         "name": "True Values",
         "text": "",
         "type": "scatter",
         "x": {
          "bdata": "AAABAAIAAwAEAAUABgAHAAgACQAKAAsADAANAA4ADwAQABEAEgATABQAFQAWABcAGAAZABoAGwAcAB0AHgAfACAAIQAiACMAJAAlACYAJwAoACkAKgArACwALQAuAC8AMAAxADIAMwA0ADUANgA3ADgAOQA6ADsAPAA9AD4APwBAAEEAQgBDAEQARQBGAEcASABJAEoASwBMAE0ATgBPAFAAUQBSAFMAVABVAFYAVwBYAFkAWgBbAFwAXQBeAF8AYABhAGIAYwBkAGUAZgBnAGgAaQBqAGsAbABtAG4AbwBwAHEAcgBzAHQAdQB2AHcAeAB5AHoAewB8AH0AfgB/AIAAgQCCAIMAhACFAIYAhwCIAIkAigCLAIwAjQCOAI8AkACRAJIAkwCUAJUAlgCXAJgAmQCaAJsAnACdAJ4AnwCgAKEAogCjAKQApQCmAKcAqACpAKoAqwCsAK0ArgCvALAAsQCyALMAtAC1ALYAtwC4ALkAugC7ALwAvQC+AL8AwADBAMIAwwDEAMUAxgDHAA==",
          "dtype": "i2"
         },
         "y": {
          "bdata": "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",
          "dtype": "f8"
         }
        },
        {
         "mode": "markers",
         "name": "Predicted Values",
         "text": "",
         "type": "scatter",
         "x": {
          "bdata": "AAABAAIAAwAEAAUABgAHAAgACQAKAAsADAANAA4ADwAQABEAEgATABQAFQAWABcAGAAZABoAGwAcAB0AHgAfACAAIQAiACMAJAAlACYAJwAoACkAKgArACwALQAuAC8AMAAxADIAMwA0ADUANgA3ADgAOQA6ADsAPAA9AD4APwBAAEEAQgBDAEQARQBGAEcASABJAEoASwBMAE0ATgBPAFAAUQBSAFMAVABVAFYAVwBYAFkAWgBbAFwAXQBeAF8AYABhAGIAYwBkAGUAZgBnAGgAaQBqAGsAbABtAG4AbwBwAHEAcgBzAHQAdQB2AHcAeAB5AHoAewB8AH0AfgB/AIAAgQCCAIMAhACFAIYAhwCIAIkAigCLAIwAjQCOAI8AkACRAJIAkwCUAJUAlgCXAJgAmQCaAJsAnACdAJ4AnwCgAKEAogCjAKQApQCmAKcAqACpAKoAqwCsAK0ArgCvALAAsQCyALMAtAC1ALYAtwC4ALkAugC7ALwAvQC+AL8AwADBAMIAwwDEAMUAxgDHAA==",
          "dtype": "i2"
         },
         "y": {
          "bdata": "Wszuwu6xTsNxedjCUOVLwqfnNkIVcC7DI1zLQjC6P0LvNj1C1yAgw56LS0MAKJVCJT+AwbFd50LkqVpDeIUFw0oMBELx6Y1CcJ0TQ36wn8Nj5UZCOHKOQ5EbF0L7uF1AhVhev3hGkkMuwHRDbiknQ80GWcLoGhbC7j+Zw7kPBcNOmB/DBzZkQaRWosIlKTTDX1XkwtVUDkLqzSpDA+c+Qi/rlMGliCvDR/ZeQERzacMUNKlCwaEDwuoyT0Mv5ANCg7ONws0uBUMzLqlB2W8WQv/htUJJbSXDur5Lw3Phr8KI1wzB9xVEwiguhMFMdUdDYjWpwyyVXEOSuBNCdBdiQX2jdMNa2Z/DKYHywh8w3sIb+zpCkcuhQ0yWbcIlEJVCSZk/wxDr40L4JRLDQ1DoQkGvq8HS+zfDEcnewqxX98GkNlDDu0XQwn6QTEPWDM1BMFYKQzz9o0MekODCsgkowlisusLdioDC2Q1+Q+NJzcLR2FRDP4fNwgJ8G8MiW6rB6JpQQ0ntwkIOGS1BnajFwgprJcI1OGpCTCcIQ8UMg0MlfhdDT2BRQ2mY3cKBY05Clua5QpFFBkIEzcdBs0o/w3Vlc0Ki4ibDKoOsw3a9QkPFssFCoopDw9yKksDnyuPB/6QhQX8SdUJByvrCy2zkwvIL8MCgUq/DZ5z8wkDGq0IQylfDBJa/QQafPEGbFGLABa4FwukaL0OrO/5CcHRAQ0XlZUL5SyrDapQxQ5fwkcFOQV9CvW3qwTYEc0MbSGpDlMImwXRqgsM0i1TDI2WTQdtQ40IoqXpC2tsRQ2jlQcNVyx5CnBE4w5Tk70JQOglDt9Y3Q70tLMLNyRtDsD4HQy6wncOonU/D7U/AwiNLKkL26SrDz8vWwjAEYMHarTTD1k+LQrd8+UIaOSPBv0cIwuicDkIq0AHDKK3EwdC5hkOHVh1Dlml9w45QOMJfHddCWQYLQ2yCfkN6/DvCmssBQbhybMMCTExDRaRnQgLVbEOgkSNDxeCtwsCMWcMpc5HCYmBpQ6wqKMOIyJhDWDjYwXKK7UGfLs1Cd7GdQtzWRkE=",
          "dtype": "f4"
         }
        }
       ],
       "layout": {
        "template": {
         "data": {
          "bar": [
           {
            "error_x": {
             "color": "#2a3f5f"
            },
            "error_y": {
             "color": "#2a3f5f"
            },
            "marker": {
             "line": {
              "color": "#E5ECF6",
              "width": 0.5
             },
             "pattern": {
              "fillmode": "overlay",
              "size": 10,
              "solidity": 0.2
             }
            },
            "type": "bar"
           }
          ],
          "barpolar": [
           {
            "marker": {
             "line": {
              "color": "#E5ECF6",
              "width": 0.5
             },
             "pattern": {
              "fillmode": "overlay",
              "size": 10,
              "solidity": 0.2
             }
            },
            "type": "barpolar"
           }
          ],
          "carpet": [
           {
            "aaxis": {
             "endlinecolor": "#2a3f5f",
             "gridcolor": "white",
             "linecolor": "white",
             "minorgridcolor": "white",
             "startlinecolor": "#2a3f5f"
            },
            "baxis": {
             "endlinecolor": "#2a3f5f",
             "gridcolor": "white",
             "linecolor": "white",
             "minorgridcolor": "white",
             "startlinecolor": "#2a3f5f"
            },
            "type": "carpet"
           }
          ],
          "choropleth": [
           {
            "colorbar": {
             "outlinewidth": 0,
             "ticks": ""
            },
            "type": "choropleth"
           }
          ],
          "contour": [
           {
            "colorbar": {
             "outlinewidth": 0,
             "ticks": ""
            },
            "colorscale": [
             [
              0,
              "#0d0887"
             ],
             [
              0.1111111111111111,
              "#46039f"
             ],
             [
              0.2222222222222222,
              "#7201a8"
             ],
             [
              0.3333333333333333,
              "#9c179e"
             ],
             [
              0.4444444444444444,
              "#bd3786"
             ],
             [
              0.5555555555555556,
              "#d8576b"
             ],
             [
              0.6666666666666666,
              "#ed7953"
             ],
             [
              0.7777777777777778,
              "#fb9f3a"
             ],
             [
              0.8888888888888888,
              "#fdca26"
             ],
             [
              1,
              "#f0f921"
             ]
            ],
            "type": "contour"
           }
          ],
          "contourcarpet": [
           {
            "colorbar": {
             "outlinewidth": 0,
             "ticks": ""
            },
            "type": "contourcarpet"
           }
          ],
          "heatmap": [
           {
            "colorbar": {
             "outlinewidth": 0,
             "ticks": ""
            },
            "colorscale": [
             [
              0,
              "#0d0887"
             ],
             [
              0.1111111111111111,
              "#46039f"
             ],
             [
              0.2222222222222222,
              "#7201a8"
             ],
             [
              0.3333333333333333,
              "#9c179e"
             ],
             [
              0.4444444444444444,
              "#bd3786"
             ],
             [
              0.5555555555555556,
              "#d8576b"
             ],
             [
              0.6666666666666666,
              "#ed7953"
             ],
             [
              0.7777777777777778,
              "#fb9f3a"
             ],
             [
              0.8888888888888888,
              "#fdca26"
             ],
             [
              1,
              "#f0f921"
             ]
            ],
            "type": "heatmap"
           }
          ],
          "histogram": [
           {
            "marker": {
             "pattern": {
              "fillmode": "overlay",
              "size": 10,
              "solidity": 0.2
             }
            },
            "type": "histogram"
           }
          ],
          "histogram2d": [
           {
            "colorbar": {
             "outlinewidth": 0,
             "ticks": ""
            },
            "colorscale": [
             [
              0,
              "#0d0887"
             ],
             [
              0.1111111111111111,
              "#46039f"
             ],
             [
              0.2222222222222222,
              "#7201a8"
             ],
             [
              0.3333333333333333,
              "#9c179e"
             ],
             [
              0.4444444444444444,
              "#bd3786"
             ],
             [
              0.5555555555555556,
              "#d8576b"
             ],
             [
              0.6666666666666666,
              "#ed7953"
             ],
             [
              0.7777777777777778,
              "#fb9f3a"
             ],
             [
              0.8888888888888888,
              "#fdca26"
             ],
             [
              1,
              "#f0f921"
             ]
            ],
            "type": "histogram2d"
           }
          ],
          "histogram2dcontour": [
           {
            "colorbar": {
             "outlinewidth": 0,
             "ticks": ""
            },
            "colorscale": [
             [
              0,
              "#0d0887"
             ],
             [
              0.1111111111111111,
              "#46039f"
             ],
             [
              0.2222222222222222,
              "#7201a8"
             ],
             [
              0.3333333333333333,
              "#9c179e"
             ],
             [
              0.4444444444444444,
              "#bd3786"
             ],
             [
              0.5555555555555556,
              "#d8576b"
             ],
             [
              0.6666666666666666,
              "#ed7953"
             ],
             [
              0.7777777777777778,
              "#fb9f3a"
             ],
             [
              0.8888888888888888,
              "#fdca26"
             ],
             [
              1,
              "#f0f921"
             ]
            ],
            "type": "histogram2dcontour"
           }
          ],
          "mesh3d": [
           {
            "colorbar": {
             "outlinewidth": 0,
             "ticks": ""
            },
            "type": "mesh3d"
           }
          ],
          "parcoords": [
           {
            "line": {
             "colorbar": {
              "outlinewidth": 0,
              "ticks": ""
             }
            },
            "type": "parcoords"
           }
          ],
          "pie": [
           {
            "automargin": true,
            "type": "pie"
           }
          ],
          "scatter": [
           {
            "fillpattern": {
             "fillmode": "overlay",
             "size": 10,
             "solidity": 0.2
            },
            "type": "scatter"
           }
          ],
          "scatter3d": [
           {
            "line": {
             "colorbar": {
              "outlinewidth": 0,
              "ticks": ""
             }
            },
            "marker": {
             "colorbar": {
              "outlinewidth": 0,
              "ticks": ""
             }
            },
            "type": "scatter3d"
           }
          ],
          "scattercarpet": [
           {
            "marker": {
             "colorbar": {
              "outlinewidth": 0,
              "ticks": ""
             }
            },
            "type": "scattercarpet"
           }
          ],
          "scattergeo": [
           {
            "marker": {
             "colorbar": {
              "outlinewidth": 0,
              "ticks": ""
             }
            },
            "type": "scattergeo"
           }
          ],
          "scattergl": [
           {
            "marker": {
             "colorbar": {
              "outlinewidth": 0,
              "ticks": ""
             }
            },
            "type": "scattergl"
           }
          ],
          "scattermap": [
           {
            "marker": {
             "colorbar": {
              "outlinewidth": 0,
              "ticks": ""
             }
            },
            "type": "scattermap"
           }
          ],
          "scattermapbox": [
           {
            "marker": {
             "colorbar": {
              "outlinewidth": 0,
              "ticks": ""
             }
            },
            "type": "scattermapbox"
           }
          ],
          "scatterpolar": [
           {
            "marker": {
             "colorbar": {
              "outlinewidth": 0,
              "ticks": ""
             }
            },
            "type": "scatterpolar"
           }
          ],
          "scatterpolargl": [
           {
            "marker": {
             "colorbar": {
              "outlinewidth": 0,
              "ticks": ""
             }
            },
            "type": "scatterpolargl"
           }
          ],
          "scatterternary": [
           {
            "marker": {
             "colorbar": {
              "outlinewidth": 0,
              "ticks": ""
             }
            },
            "type": "scatterternary"
           }
          ],
          "surface": [
           {
            "colorbar": {
             "outlinewidth": 0,
             "ticks": ""
            },
            "colorscale": [
             [
              0,
              "#0d0887"
             ],
             [
              0.1111111111111111,
              "#46039f"
             ],
             [
              0.2222222222222222,
              "#7201a8"
             ],
             [
              0.3333333333333333,
              "#9c179e"
             ],
             [
              0.4444444444444444,
              "#bd3786"
             ],
             [
              0.5555555555555556,
              "#d8576b"
             ],
             [
              0.6666666666666666,
              "#ed7953"
             ],
             [
              0.7777777777777778,
              "#fb9f3a"
             ],
             [
              0.8888888888888888,
              "#fdca26"
             ],
             [
              1,
              "#f0f921"
             ]
            ],
            "type": "surface"
           }
          ],
          "table": [
           {
            "cells": {
             "fill": {
              "color": "#EBF0F8"
             },
             "line": {
              "color": "white"
             }
            },
            "header": {
             "fill": {
              "color": "#C8D4E3"
             },
             "line": {
              "color": "white"
             }
            },
            "type": "table"
           }
          ]
         },
         "layout": {
          "annotationdefaults": {
           "arrowcolor": "#2a3f5f",
           "arrowhead": 0,
           "arrowwidth": 1
          },
          "autotypenumbers": "strict",
          "coloraxis": {
           "colorbar": {
            "outlinewidth": 0,
            "ticks": ""
           }
          },
          "colorscale": {
           "diverging": [
            [
             0,
             "#8e0152"
            ],
            [
             0.1,
             "#c51b7d"
            ],
            [
             0.2,
             "#de77ae"
            ],
            [
             0.3,
             "#f1b6da"
            ],
            [
             0.4,
             "#fde0ef"
            ],
            [
             0.5,
             "#f7f7f7"
            ],
            [
             0.6,
             "#e6f5d0"
            ],
            [
             0.7,
             "#b8e186"
            ],
            [
             0.8,
             "#7fbc41"
            ],
            [
             0.9,
             "#4d9221"
            ],
            [
             1,
             "#276419"
            ]
           ],
           "sequential": [
            [
             0,
             "#0d0887"
            ],
            [
             0.1111111111111111,
             "#46039f"
            ],
            [
             0.2222222222222222,
             "#7201a8"
            ],
            [
             0.3333333333333333,
             "#9c179e"
            ],
            [
             0.4444444444444444,
             "#bd3786"
            ],
            [
             0.5555555555555556,
             "#d8576b"
            ],
            [
             0.6666666666666666,
             "#ed7953"
            ],
            [
             0.7777777777777778,
             "#fb9f3a"
            ],
            [
             0.8888888888888888,
             "#fdca26"
            ],
            [
             1,
             "#f0f921"
            ]
           ],
           "sequentialminus": [
            [
             0,
             "#0d0887"
            ],
            [
             0.1111111111111111,
             "#46039f"
            ],
            [
             0.2222222222222222,
             "#7201a8"
            ],
            [
             0.3333333333333333,
             "#9c179e"
            ],
            [
             0.4444444444444444,
             "#bd3786"
            ],
            [
             0.5555555555555556,
             "#d8576b"
            ],
            [
             0.6666666666666666,
             "#ed7953"
            ],
            [
             0.7777777777777778,
             "#fb9f3a"
            ],
            [
             0.8888888888888888,
             "#fdca26"
            ],
            [
             1,
             "#f0f921"
            ]
           ]
          },
          "colorway": [
           "#636efa",
           "#EF553B",
           "#00cc96",
           "#ab63fa",
           "#FFA15A",
           "#19d3f3",
           "#FF6692",
           "#B6E880",
           "#FF97FF",
           "#FECB52"
          ],
          "font": {
           "color": "#2a3f5f"
          },
          "geo": {
           "bgcolor": "white",
           "lakecolor": "white",
           "landcolor": "#E5ECF6",
           "showlakes": true,
           "showland": true,
           "subunitcolor": "white"
          },
          "hoverlabel": {
           "align": "left"
          },
          "hovermode": "closest",
          "mapbox": {
           "style": "light"
          },
          "paper_bgcolor": "white",
          "plot_bgcolor": "#E5ECF6",
          "polar": {
           "angularaxis": {
            "gridcolor": "white",
            "linecolor": "white",
            "ticks": ""
           },
           "bgcolor": "#E5ECF6",
           "radialaxis": {
            "gridcolor": "white",
            "linecolor": "white",
            "ticks": ""
           }
          },
          "scene": {
           "xaxis": {
            "backgroundcolor": "#E5ECF6",
            "gridcolor": "white",
            "gridwidth": 2,
            "linecolor": "white",
            "showbackground": true,
            "ticks": "",
            "zerolinecolor": "white"
           },
           "yaxis": {
            "backgroundcolor": "#E5ECF6",
            "gridcolor": "white",
            "gridwidth": 2,
            "linecolor": "white",
            "showbackground": true,
            "ticks": "",
            "zerolinecolor": "white"
           },
           "zaxis": {
            "backgroundcolor": "#E5ECF6",
            "gridcolor": "white",
            "gridwidth": 2,
            "linecolor": "white",
            "showbackground": true,
            "ticks": "",
            "zerolinecolor": "white"
           }
          },
          "shapedefaults": {
           "line": {
            "color": "#2a3f5f"
           }
          },
          "ternary": {
           "aaxis": {
            "gridcolor": "white",
            "linecolor": "white",
            "ticks": ""
           },
           "baxis": {
            "gridcolor": "white",
            "linecolor": "white",
            "ticks": ""
           },
           "bgcolor": "#E5ECF6",
           "caxis": {
            "gridcolor": "white",
            "linecolor": "white",
            "ticks": ""
           }
          },
          "title": {
           "x": 0.05
          },
          "xaxis": {
           "automargin": true,
           "gridcolor": "white",
           "linecolor": "white",
           "ticks": "",
           "title": {
            "standoff": 15
           },
           "zerolinecolor": "white",
           "zerolinewidth": 2
          },
          "yaxis": {
           "automargin": true,
           "gridcolor": "white",
           "linecolor": "white",
           "ticks": "",
           "title": {
            "standoff": 15
           },
           "zerolinecolor": "white",
           "zerolinewidth": 2
          }
         }
        },
        "title": {
         "text": "True vs Predicted Values"
        },
        "xaxis": {
         "title": {
          "text": ""
         }
        },
        "yaxis": {
         "title": {
          "text": ""
         }
        }
       }
      },
      "image/png": "[encoded data removed]"
     },
     "metadata": {},
     "output_type": "display_data"
    }
   ],
   "source": [
    "X_test = torch.tensor(X_test, dtype=torch.float32).to(device)\n",
    "\n",
    "reg_model.eval()\n",
    "\n",
    "with torch.no_grad():\n",
    "    test_preds = reg_model(X_test)\n",
    "    test_preds = test_preds.float().cpu().numpy().flatten()\n",
    "\n",
    "x = np.arange(0, X_test.shape[0])\n",
    "pp.plot_data(\n",
    "    true_vals=pp.create_trace(x, y_test, name=\"True Values\", mode=\"markers\"),\n",
    "    pred_vals=pp.create_trace(x, test_preds, name=\"Predicted Values\", mode=\"markers\"),\n",
    "    title=\"True vs Predicted Values\",\n",
    ")"
   ]
  },
  {
   "cell_type": "markdown",
   "id": "e422779a-91b8-4841-bebf-009fcf74f639",
   "metadata": {},
   "source": [
    "## Binary Classification"
   ]
  },
  {
   "cell_type": "code",
   "execution_count": 12,
   "id": "d5075163-cba5-4a4c-8ee5-e52437a69347",
   "metadata": {},
   "outputs": [
    {
     "data": {
      "application/vnd.plotly.v1+json": {
       "config": {
        "plotlyServerURL": "https://plot.ly"
       },
       "data": [
        {
         "mode": "markers",
         "name": "",
         "text": "",
         "type": "scatter",
         "x": {
          "bdata": "AAECAwQFBgcICQoLDA0ODxAREhMUFRYXGBkaGxwdHh8gISIjJCUmJygpKissLS4vMDEyMzQ1Njc4OTo7PD0+P0BBQkNERUZHSElKS0xNTk9QUVJTVFVWV1hZWltcXV5fYGFiYw==",
          "dtype": "i1"
         },
         "y": {
          "bdata": "AQAAAAABAAEBAQEAAQEBAAABAQAAAQAAAQEAAQEBAAABAAAAAQABAAEAAQABAAEAAQABAAEAAAAAAQAAAAEBAQAAAAAAAQAAAQEBAAEBAQAAAQAAAQEAAQABAQEBAAEBAQEAAA==",
          "dtype": "i1"
         }
        }
       ],
       "layout": {
        "template": {
         "data": {
          "bar": [
           {
            "error_x": {
             "color": "#2a3f5f"
            },
            "error_y": {
             "color": "#2a3f5f"
            },
            "marker": {
             "line": {
              "color": "#E5ECF6",
              "width": 0.5
             },
             "pattern": {
              "fillmode": "overlay",
              "size": 10,
              "solidity": 0.2
             }
            },
            "type": "bar"
           }
          ],
          "barpolar": [
           {
            "marker": {
             "line": {
              "color": "#E5ECF6",
              "width": 0.5
             },
             "pattern": {
              "fillmode": "overlay",
              "size": 10,
              "solidity": 0.2
             }
            },
            "type": "barpolar"
           }
          ],
          "carpet": [
           {
            "aaxis": {
             "endlinecolor": "#2a3f5f",
             "gridcolor": "white",
             "linecolor": "white",
             "minorgridcolor": "white",
             "startlinecolor": "#2a3f5f"
            },
            "baxis": {
             "endlinecolor": "#2a3f5f",
             "gridcolor": "white",
             "linecolor": "white",
             "minorgridcolor": "white",
             "startlinecolor": "#2a3f5f"
            },
            "type": "carpet"
           }
          ],
          "choropleth": [
           {
            "colorbar": {
             "outlinewidth": 0,
             "ticks": ""
            },
            "type": "choropleth"
           }
          ],
          "contour": [
           {
            "colorbar": {
             "outlinewidth": 0,
             "ticks": ""
            },
            "colorscale": [
             [
              0,
              "#0d0887"
             ],
             [
              0.1111111111111111,
              "#46039f"
             ],
             [
              0.2222222222222222,
              "#7201a8"
             ],
             [
              0.3333333333333333,
              "#9c179e"
             ],
             [
              0.4444444444444444,
              "#bd3786"
             ],
             [
              0.5555555555555556,
              "#d8576b"
             ],
             [
              0.6666666666666666,
              "#ed7953"
             ],
             [
              0.7777777777777778,
              "#fb9f3a"
             ],
             [
              0.8888888888888888,
              "#fdca26"
             ],
             [
              1,
              "#f0f921"
             ]
            ],
            "type": "contour"
           }
          ],
          "contourcarpet": [
           {
            "colorbar": {
             "outlinewidth": 0,
             "ticks": ""
            },
            "type": "contourcarpet"
           }
          ],
          "heatmap": [
           {
            "colorbar": {
             "outlinewidth": 0,
             "ticks": ""
            },
            "colorscale": [
             [
              0,
              "#0d0887"
             ],
             [
              0.1111111111111111,
              "#46039f"
             ],
             [
              0.2222222222222222,
              "#7201a8"
             ],
             [
              0.3333333333333333,
              "#9c179e"
             ],
             [
              0.4444444444444444,
              "#bd3786"
             ],
             [
              0.5555555555555556,
              "#d8576b"
             ],
             [
              0.6666666666666666,
              "#ed7953"
             ],
             [
              0.7777777777777778,
              "#fb9f3a"
             ],
             [
              0.8888888888888888,
              "#fdca26"
             ],
             [
              1,
              "#f0f921"
             ]
            ],
            "type": "heatmap"
           }
          ],
          "histogram": [
           {
            "marker": {
             "pattern": {
              "fillmode": "overlay",
              "size": 10,
              "solidity": 0.2
             }
            },
            "type": "histogram"
           }
          ],
          "histogram2d": [
           {
            "colorbar": {
             "outlinewidth": 0,
             "ticks": ""
            },
            "colorscale": [
             [
              0,
              "#0d0887"
             ],
             [
              0.1111111111111111,
              "#46039f"
             ],
             [
              0.2222222222222222,
              "#7201a8"
             ],
             [
              0.3333333333333333,
              "#9c179e"
             ],
             [
              0.4444444444444444,
              "#bd3786"
             ],
             [
              0.5555555555555556,
              "#d8576b"
             ],
             [
              0.6666666666666666,
              "#ed7953"
             ],
             [
              0.7777777777777778,
              "#fb9f3a"
             ],
             [
              0.8888888888888888,
              "#fdca26"
             ],
             [
              1,
              "#f0f921"
             ]
            ],
            "type": "histogram2d"
           }
          ],
          "histogram2dcontour": [
           {
            "colorbar": {
             "outlinewidth": 0,
             "ticks": ""
            },
            "colorscale": [
             [
              0,
              "#0d0887"
             ],
             [
              0.1111111111111111,
              "#46039f"
             ],
             [
              0.2222222222222222,
              "#7201a8"
             ],
             [
              0.3333333333333333,
              "#9c179e"
             ],
             [
              0.4444444444444444,
              "#bd3786"
             ],
             [
              0.5555555555555556,
              "#d8576b"
             ],
             [
              0.6666666666666666,
              "#ed7953"
             ],
             [
              0.7777777777777778,
              "#fb9f3a"
             ],
             [
              0.8888888888888888,
              "#fdca26"
             ],
             [
              1,
              "#f0f921"
             ]
            ],
            "type": "histogram2dcontour"
           }
          ],
          "mesh3d": [
           {
            "colorbar": {
             "outlinewidth": 0,
             "ticks": ""
            },
            "type": "mesh3d"
           }
          ],
          "parcoords": [
           {
            "line": {
             "colorbar": {
              "outlinewidth": 0,
              "ticks": ""
             }
            },
            "type": "parcoords"
           }
          ],
          "pie": [
           {
            "automargin": true,
            "type": "pie"
           }
          ],
          "scatter": [
           {
            "fillpattern": {
             "fillmode": "overlay",
             "size": 10,
             "solidity": 0.2
            },
            "type": "scatter"
           }
          ],
          "scatter3d": [
           {
            "line": {
             "colorbar": {
              "outlinewidth": 0,
              "ticks": ""
             }
            },
            "marker": {
             "colorbar": {
              "outlinewidth": 0,
              "ticks": ""
             }
            },
            "type": "scatter3d"
           }
          ],
          "scattercarpet": [
           {
            "marker": {
             "colorbar": {
              "outlinewidth": 0,
              "ticks": ""
             }
            },
            "type": "scattercarpet"
           }
          ],
          "scattergeo": [
           {
            "marker": {
             "colorbar": {
              "outlinewidth": 0,
              "ticks": ""
             }
            },
            "type": "scattergeo"
           }
          ],
          "scattergl": [
           {
            "marker": {
             "colorbar": {
              "outlinewidth": 0,
              "ticks": ""
             }
            },
            "type": "scattergl"
           }
          ],
          "scattermap": [
           {
            "marker": {
             "colorbar": {
              "outlinewidth": 0,
              "ticks": ""
             }
            },
            "type": "scattermap"
           }
          ],
          "scattermapbox": [
           {
            "marker": {
             "colorbar": {
              "outlinewidth": 0,
              "ticks": ""
             }
            },
            "type": "scattermapbox"
           }
          ],
          "scatterpolar": [
           {
            "marker": {
             "colorbar": {
              "outlinewidth": 0,
              "ticks": ""
             }
            },
            "type": "scatterpolar"
           }
          ],
          "scatterpolargl": [
           {
            "marker": {
             "colorbar": {
              "outlinewidth": 0,
              "ticks": ""
             }
            },
            "type": "scatterpolargl"
           }
          ],
          "scatterternary": [
           {
            "marker": {
             "colorbar": {
              "outlinewidth": 0,
              "ticks": ""
             }
            },
            "type": "scatterternary"
           }
          ],
          "surface": [
           {
            "colorbar": {
             "outlinewidth": 0,
             "ticks": ""
            },
            "colorscale": [
             [
              0,
              "#0d0887"
             ],
             [
              0.1111111111111111,
              "#46039f"
             ],
             [
              0.2222222222222222,
              "#7201a8"
             ],
             [
              0.3333333333333333,
              "#9c179e"
             ],
             [
              0.4444444444444444,
              "#bd3786"
             ],
             [
              0.5555555555555556,
              "#d8576b"
             ],
             [
              0.6666666666666666,
              "#ed7953"
             ],
             [
              0.7777777777777778,
              "#fb9f3a"
             ],
             [
              0.8888888888888888,
              "#fdca26"
             ],
             [
              1,
              "#f0f921"
             ]
            ],
            "type": "surface"
           }
          ],
          "table": [
           {
            "cells": {
             "fill": {
              "color": "#EBF0F8"
             },
             "line": {
              "color": "white"
             }
            },
            "header": {
             "fill": {
              "color": "#C8D4E3"
             },
             "line": {
              "color": "white"
             }
            },
            "type": "table"
           }
          ]
         },
         "layout": {
          "annotationdefaults": {
           "arrowcolor": "#2a3f5f",
           "arrowhead": 0,
           "arrowwidth": 1
          },
          "autotypenumbers": "strict",
          "coloraxis": {
           "colorbar": {
            "outlinewidth": 0,
            "ticks": ""
           }
          },
          "colorscale": {
           "diverging": [
            [
             0,
             "#8e0152"
            ],
            [
             0.1,
             "#c51b7d"
            ],
            [
             0.2,
             "#de77ae"
            ],
            [
             0.3,
             "#f1b6da"
            ],
            [
             0.4,
             "#fde0ef"
            ],
            [
             0.5,
             "#f7f7f7"
            ],
            [
             0.6,
             "#e6f5d0"
            ],
            [
             0.7,
             "#b8e186"
            ],
            [
             0.8,
             "#7fbc41"
            ],
            [
             0.9,
             "#4d9221"
            ],
            [
             1,
             "#276419"
            ]
           ],
           "sequential": [
            [
             0,
             "#0d0887"
            ],
            [
             0.1111111111111111,
             "#46039f"
            ],
            [
             0.2222222222222222,
             "#7201a8"
            ],
            [
             0.3333333333333333,
             "#9c179e"
            ],
            [
             0.4444444444444444,
             "#bd3786"
            ],
            [
             0.5555555555555556,
             "#d8576b"
            ],
            [
             0.6666666666666666,
             "#ed7953"
            ],
            [
             0.7777777777777778,
             "#fb9f3a"
            ],
            [
             0.8888888888888888,
             "#fdca26"
            ],
            [
             1,
             "#f0f921"
            ]
           ],
           "sequentialminus": [
            [
             0,
             "#0d0887"
            ],
            [
             0.1111111111111111,
             "#46039f"
            ],
            [
             0.2222222222222222,
             "#7201a8"
            ],
            [
             0.3333333333333333,
             "#9c179e"
            ],
            [
             0.4444444444444444,
             "#bd3786"
            ],
            [
             0.5555555555555556,
             "#d8576b"
            ],
            [
             0.6666666666666666,
             "#ed7953"
            ],
            [
             0.7777777777777778,
             "#fb9f3a"
            ],
            [
             0.8888888888888888,
             "#fdca26"
            ],
            [
             1,
             "#f0f921"
            ]
           ]
          },
          "colorway": [
           "#636efa",
           "#EF553B",
           "#00cc96",
           "#ab63fa",
           "#FFA15A",
           "#19d3f3",
           "#FF6692",
           "#B6E880",
           "#FF97FF",
           "#FECB52"
          ],
          "font": {
           "color": "#2a3f5f"
          },
          "geo": {
           "bgcolor": "white",
           "lakecolor": "white",
           "landcolor": "#E5ECF6",
           "showlakes": true,
           "showland": true,
           "subunitcolor": "white"
          },
          "hoverlabel": {
           "align": "left"
          },
          "hovermode": "closest",
          "mapbox": {
           "style": "light"
          },
          "paper_bgcolor": "white",
          "plot_bgcolor": "#E5ECF6",
          "polar": {
           "angularaxis": {
            "gridcolor": "white",
            "linecolor": "white",
            "ticks": ""
           },
           "bgcolor": "#E5ECF6",
           "radialaxis": {
            "gridcolor": "white",
            "linecolor": "white",
            "ticks": ""
           }
          },
          "scene": {
           "xaxis": {
            "backgroundcolor": "#E5ECF6",
            "gridcolor": "white",
            "gridwidth": 2,
            "linecolor": "white",
            "showbackground": true,
            "ticks": "",
            "zerolinecolor": "white"
           },
           "yaxis": {
            "backgroundcolor": "#E5ECF6",
            "gridcolor": "white",
            "gridwidth": 2,
            "linecolor": "white",
            "showbackground": true,
            "ticks": "",
            "zerolinecolor": "white"
           },
           "zaxis": {
            "backgroundcolor": "#E5ECF6",
            "gridcolor": "white",
            "gridwidth": 2,
            "linecolor": "white",
            "showbackground": true,
            "ticks": "",
            "zerolinecolor": "white"
           }
          },
          "shapedefaults": {
           "line": {
            "color": "#2a3f5f"
           }
          },
          "ternary": {
           "aaxis": {
            "gridcolor": "white",
            "linecolor": "white",
            "ticks": ""
           },
           "baxis": {
            "gridcolor": "white",
            "linecolor": "white",
            "ticks": ""
           },
           "bgcolor": "#E5ECF6",
           "caxis": {
            "gridcolor": "white",
            "linecolor": "white",
            "ticks": ""
           }
          },
          "title": {
           "x": 0.05
          },
          "xaxis": {
           "automargin": true,
           "gridcolor": "white",
           "linecolor": "white",
           "ticks": "",
           "title": {
            "standoff": 15
           },
           "zerolinecolor": "white",
           "zerolinewidth": 2
          },
          "yaxis": {
           "automargin": true,
           "gridcolor": "white",
           "linecolor": "white",
           "ticks": "",
           "title": {
            "standoff": 15
           },
           "zerolinecolor": "white",
           "zerolinewidth": 2
          }
         }
        },
        "title": {
         "text": ""
        },
        "xaxis": {
         "title": {
          "text": "X"
         }
        },
        "yaxis": {
         "title": {
          "text": "y"
         }
        }
       }
      },
      "image/png": "[encoded data removed]"
     },
     "metadata": {},
     "output_type": "display_data"
    }
   ],
   "source": [
    "X, y = make_classification(n_classes=2)\n",
    "x = np.arange(0, y.shape[0])\n",
    "pp.plot_data(x, y, x_label=\"X\", y_label=\"y\")"
   ]
  },
  {
   "cell_type": "code",
   "execution_count": null,
   "id": "75b58eeb-3e01-4276-86f5-36660f5e8a03",
   "metadata": {},
   "outputs": [],
   "source": []
  }
 ],
 "metadata": {
  "kernelspec": {
   "display_name": "Python 3 (ipykernel)",
   "language": "python",
   "name": "python3"
  },
  "language_info": {
   "codemirror_mode": {
    "name": "ipython",
    "version": 3
   },
   "file_extension": ".py",
   "mimetype": "text/x-python",
   "name": "python",
   "nbconvert_exporter": "python",
   "pygments_lexer": "ipython3",
   "version": "3.9.6"
  }
 },
 "nbformat": 4,
 "nbformat_minor": 5
}
